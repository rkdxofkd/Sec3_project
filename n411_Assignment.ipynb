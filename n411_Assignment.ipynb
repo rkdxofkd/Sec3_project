{
  "cells": [
    {
      "cell_type": "markdown",
      "metadata": {
        "id": "view-in-github",
        "colab_type": "text"
      },
      "source": [
        "<a href=\"https://colab.research.google.com/github/rkdxofkd/Sec3_project/blob/main/n411_Assignment.ipynb\" target=\"_parent\"><img src=\"https://colab.research.google.com/assets/colab-badge.svg\" alt=\"Open In Colab\"/></a>"
      ]
    },
    {
      "cell_type": "markdown",
      "metadata": {
        "id": "CzIdLqSrQNwo"
      },
      "source": [
        "<img src='https://user-images.githubusercontent.com/6457691/90080969-0f758d00-dd47-11ea-8191-fa12fd2054a7.png' width = '200' align = 'right'>\n",
        "\n",
        "## *DATA SCIENCE / SECTION 4 / SPRINT 1 / NOTE 1 - assignmnet*\n",
        "\n",
        "---\n",
        "\n",
        "\n",
        "\n",
        "\n",
        "\n",
        "# N411. 퍼셉트론(Perceptron)과 인공신경망(Artificial Neural Networks) 과제"
      ]
    },
    {
      "cell_type": "markdown",
      "metadata": {
        "id": "qXD0QQ33mCWf"
      },
      "source": [
        "## 단층 퍼셉트론"
      ]
    },
    {
      "cell_type": "markdown",
      "metadata": {
        "id": "uewt4A-DmCWg"
      },
      "source": [
        "이진분류 태스크를 위한 예시 데이터를 생성해보겠습니다. X 데이터는 (x좌표, y좌표)로 이루어져 있으며, 타겟 데이터는 0과 1로 이루어져 있습니다.\n",
        "\n",
        "아래의 예시 생성 부분이 당장 이해 안가도 괜찮습니다. 넘파이를 활용해, 이런 다양한 일들을 할 수 있다는 점을 알아두시고, 궁금하신 분은 나중에 더 찾아보세요.\n",
        "\n",
        "- np.append, np.vstack, np.hstack의 각각의 차이점에 대해 더 찾아보세요!"
      ]
    },
    {
      "cell_type": "code",
      "execution_count": 1,
      "metadata": {
        "id": "WpdfGyvFmCWg",
        "outputId": "f878b345-bdfd-4fb9-90b7-9aa0284afa03",
        "colab": {
          "base_uri": "https://localhost:8080/",
          "height": 320
        }
      },
      "outputs": [
        {
          "output_type": "display_data",
          "data": {
            "text/plain": [
              "<Figure size 864x360 with 1 Axes>"
            ],
            "image/png": "[encoded data removed]"
          },
          "metadata": {
            "needs_background": "light"
          }
        }
      ],
      "source": [
        "import numpy as np\n",
        "import matplotlib.pyplot as plt\n",
        "np.random.seed(0)\n",
        "\n",
        "x11 = np.random.uniform(low=0, high=5, size=(50,))\n",
        "x12 = np.random.uniform(low=10, high=15, size=(50,))\n",
        "x21 = np.random.uniform(low=0, high=5, size=(50,))\n",
        "x22 = np.random.uniform(low=10, high=15, size=(50,))\n",
        "\n",
        "\n",
        "x1 = np.append(x11, x12)\n",
        "x2 = np.append(x21, x22)\n",
        "\n",
        "y11 = np.random.uniform(low=10, high=15, size=(50,))\n",
        "y12 = np.random.uniform(low=0, high=5, size=(50,))\n",
        "y21 = np.random.uniform(low=0, high=5, size=(50,))\n",
        "y22 = np.random.uniform(low=10, high=15, size=(50,))\n",
        "\n",
        "y1 = np.append(y11, y12)\n",
        "y2 = np.append(y21, y22)\n",
        "\n",
        "x_1 = np.vstack([x1, y1]).T\n",
        "x_2 = np.vstack([x2, y2]).T\n",
        "y_1 = np.ones_like(x_1[:, 0])\n",
        "y_2 = np.zeros_like(x_2[:, 0])\n",
        "x = np.vstack([x_1, x_2])\n",
        "y = np.hstack([y_1, y_2])\n",
        "\n",
        "\n",
        "fig, ax = plt.subplots(figsize = (12,5))\n",
        "ax.plot(x_1[:, 0], x_1[:,1], 'bo')\n",
        "ax.plot(x_2[:,0], x_2[:,1], 'ro')\n",
        "ax.grid()"
      ]
    },
    {
      "cell_type": "markdown",
      "metadata": {
        "id": "IW4gqwC0mCWi"
      },
      "source": [
        "### 문제 1-1"
      ]
    },
    {
      "cell_type": "markdown",
      "metadata": {
        "id": "919Xb17MmCWj"
      },
      "source": [
        "단층 퍼셉트론으로 위의 문제를 해결할 수 없음을 확인해보겠습니다. 이진 분류를 위한 단층 퍼셉트론을 구현하기 위해 다음 빈칸에 들어갈 내용으로 알맞은 것은?"
      ]
    },
    {
      "cell_type": "code",
      "execution_count": 2,
      "metadata": {
        "id": "3WusFrb4mCWj",
        "outputId": "8a95877e-7ddf-49c6-9a35-7b6e12583e42",
        "colab": {
          "base_uri": "https://localhost:8080/",
          "height": 712
        }
      },
      "outputs": [
        {
          "output_type": "stream",
          "name": "stdout",
          "text": [
            "Epoch 1/10\n",
            "7/7 [==============================] - 1s 3ms/step - loss: 1.0151 - accuracy: 0.5600\n",
            "Epoch 2/10\n",
            "7/7 [==============================] - 0s 3ms/step - loss: 0.7259 - accuracy: 0.6550\n",
            "Epoch 3/10\n",
            "7/7 [==============================] - 0s 3ms/step - loss: 0.7093 - accuracy: 0.4450\n",
            "Epoch 4/10\n",
            "7/7 [==============================] - 0s 3ms/step - loss: 0.7018 - accuracy: 0.6000\n",
            "Epoch 5/10\n",
            "7/7 [==============================] - 0s 4ms/step - loss: 0.6995 - accuracy: 0.4850\n",
            "Epoch 6/10\n",
            "7/7 [==============================] - 0s 3ms/step - loss: 0.7010 - accuracy: 0.4150\n",
            "Epoch 7/10\n",
            "7/7 [==============================] - 0s 3ms/step - loss: 0.7009 - accuracy: 0.4500\n",
            "Epoch 8/10\n",
            "7/7 [==============================] - 0s 4ms/step - loss: 0.6960 - accuracy: 0.4050\n",
            "Epoch 9/10\n",
            "7/7 [==============================] - 0s 3ms/step - loss: 0.6964 - accuracy: 0.5350\n",
            "Epoch 10/10\n",
            "7/7 [==============================] - 0s 4ms/step - loss: 0.6991 - accuracy: 0.4400\n",
            "7/7 [==============================] - 0s 3ms/step\n"
          ]
        },
        {
          "output_type": "display_data",
          "data": {
            "text/plain": [
              "<Figure size 864x360 with 1 Axes>"
            ],
            "image/png": "[encoded data removed]"
          },
          "metadata": {
            "needs_background": "light"
          }
        }
      ],
      "source": [
        "import tensorflow as tf\n",
        "\n",
        "model = tf.keras.models.Sequential([\n",
        "    tf.keras.layers.Dense(1, activation = 'sigmoid')\n",
        "])\n",
        "\n",
        "model.compile(optimizer='sgd',\n",
        "              loss='binary_crossentropy',\n",
        "              metrics=['accuracy'])\n",
        "\n",
        "model.fit(x, y, epochs=10)\n",
        "\n",
        "# 각각의 변수 명을 모두 다르게 설정했습니다.\n",
        "# model.predict의 결과값 / preds_1d / pred_class 의 형태(shape)와 값들을 한번 직접 확인해보세요\n",
        "\n",
        "preds = model.predict(x)\n",
        "preds_1d = preds.flatten()\n",
        "pred_class = np.where(preds_1d > 0.5, 1 , 0)\n",
        "\n",
        "y_true = x[pred_class==1]\n",
        "y_false = x[pred_class==0]\n",
        "\n",
        "fig, ax = plt.subplots(figsize = (12,5))\n",
        "ax.plot(y_true[:, 0], y_true[:,1], 'bo')\n",
        "ax.plot(y_false[:,0], y_false[:,1], 'ro')\n",
        "ax.grid()"
      ]
    },
    {
      "cell_type": "markdown",
      "metadata": {
        "id": "FcvKYWuTmCWk"
      },
      "source": [
        "### 문제 1-2\n",
        "비선형성이 추가되지 않은 단층 퍼셉트론이 어떠한 결정 경계를 만드나요? \n",
        "직선을 만들어낸다"
      ]
    },
    {
      "cell_type": "markdown",
      "metadata": {
        "id": "SvNvoQJk-xb-"
      },
      "source": [
        "## 문제2. 실제 데이터 과제\n",
        " - 아래 주어진 데이터를 신경망을 이용하여 Classification 문제를 풀어보세요.\n",
        " - 또한 머신러닝에서 배운 방법(배우지 않은 머신러닝 방법론(SVM 등)도 가능)을 이용하여 비교해보세요."
      ]
    },
    {
      "cell_type": "markdown",
      "metadata": {
        "id": "pqOkgM9wnmNu"
      },
      "source": [
        "입력 데이터 샘플과 Features : 1077 샘플 x 69 Features (변수)\n",
        "\n",
        "데이터 label: 다운증후군 (1), 정상군 (2)\n",
        "\n",
        "데이터는 다운증후군과 정상군 마우스 피질의 핵 분획에서 검출 가능한 신호를 생성하는 69 개 단백질의 발현 수준으로 구성되어 있습니다.\n",
        "라벨로는 다운증후군 1, 정상군 2로 할당되어 있습니다.\n"
      ]
    },
    {
      "cell_type": "code",
      "source": [
        "!pip install --upgrade xlrd"
      ],
      "metadata": {
        "id": "Eevc-0AJq_Bm",
        "outputId": "d3961658-ab9b-46d3-c8e0-890af9b3b8be",
        "colab": {
          "base_uri": "https://localhost:8080/"
        }
      },
      "execution_count": 3,
      "outputs": [
        {
          "output_type": "stream",
          "name": "stdout",
          "text": [
            "Looking in indexes: https://pypi.org/simple, https://us-python.pkg.dev/colab-wheels/public/simple/\n",
            "Requirement already satisfied: xlrd in /usr/local/lib/python3.7/dist-packages (1.1.0)\n",
            "Collecting xlrd\n",
            "  Downloading xlrd-2.0.1-py2.py3-none-any.whl (96 kB)\n",
            "\u001b[K     |████████████████████████████████| 96 kB 4.2 MB/s \n",
            "\u001b[?25hInstalling collected packages: xlrd\n",
            "  Attempting uninstall: xlrd\n",
            "    Found existing installation: xlrd 1.1.0\n",
            "    Uninstalling xlrd-1.1.0:\n",
            "      Successfully uninstalled xlrd-1.1.0\n",
            "Successfully installed xlrd-2.0.1\n"
          ]
        }
      ]
    },
    {
      "cell_type": "code",
      "execution_count": 4,
      "metadata": {
        "id": "gULuO1ETO-6G"
      },
      "outputs": [],
      "source": [
        "import pandas as pd\n",
        "df = pd.read_excel(\"https://ds-lecture-data.s3.ap-northeast-2.amazonaws.com/MouseProtein/mouse_protein_X.xls\", header=None)\n",
        "df_label = pd.read_excel(\"https://ds-lecture-data.s3.ap-northeast-2.amazonaws.com/MouseProtein/mouse_protein_label.xls\", header=None)"
      ]
    },
    {
      "cell_type": "code",
      "execution_count": 4,
      "metadata": {
        "colab": {
          "base_uri": "https://localhost:8080/",
          "height": 299
        },
        "id": "6I-8OQ_APLtG",
        "outputId": "87f249fb-ccc3-4e8e-bb5d-0f041d2d9a75"
      },
      "outputs": [
        {
          "output_type": "execute_result",
          "data": {
            "text/plain": [
              "        0        1        2       3       4        5        6       7   \\\n",
              "0  0.50364  0.74719  0.43018  2.8163  5.9902  0.21883  0.17757  2.3737   \n",
              "1  0.51462  0.68906  0.41177  2.7895  5.6850  0.21164  0.17282  2.2921   \n",
              "2  0.50918  0.73025  0.41831  2.6872  5.6221  0.20901  0.17572  2.2833   \n",
              "3  0.44211  0.61708  0.35863  2.4669  4.9795  0.22289  0.17646  2.1523   \n",
              "4  0.43494  0.61743  0.35880  2.3658  4.7187  0.21311  0.17363  2.1340   \n",
              "\n",
              "        8       9   ...       59       60       61      62      63       64  \\\n",
              "0  0.23222  1.7509  ...  0.14276  0.43096  0.24754  1.6033  2.0149  0.10823   \n",
              "1  0.22697  1.5964  ...  0.14204  0.45716  0.25763  1.6717  2.0046  0.10975   \n",
              "2  0.23025  1.5613  ...  0.14244  0.51047  0.25534  1.6635  2.0168  0.10820   \n",
              "3  0.20700  1.5951  ...  0.14507  0.43100  0.25110  1.4846  1.9572  0.11988   \n",
              "4  0.19216  1.5042  ...  0.14087  0.48123  0.25177  1.5348  2.0091  0.11952   \n",
              "\n",
              "        65       66       67      68  \n",
              "0  1.04500  0.83156  0.18885  1.6757  \n",
              "1  1.00990  0.84927  0.20040  1.7436  \n",
              "2  0.99685  0.84671  0.19368  1.9264  \n",
              "3  0.99022  0.83328  0.19211  1.7006  \n",
              "4  0.99777  0.87867  0.20560  1.8397  \n",
              "\n",
              "[5 rows x 69 columns]"
            ],
            "text/html": [
              "\n",
              "  <div id=\"df-3fb307e8-b32b-4323-8b68-ccc3ceca62cf\">\n",
              "    <div class=\"colab-df-container\">\n",
              "      <div>\n",
              "<style scoped>\n",
              "    .dataframe tbody tr th:only-of-type {\n",
              "        vertical-align: middle;\n",
              "    }\n",
              "\n",
              "    .dataframe tbody tr th {\n",
              "        vertical-align: top;\n",
              "    }\n",
              "\n",
              "    .dataframe thead th {\n",
              "        text-align: right;\n",
              "    }\n",
              "</style>\n",
              "<table border=\"1\" class=\"dataframe\">\n",
              "  <thead>\n",
              "    <tr style=\"text-align: right;\">\n",
              "      <th></th>\n",
              "      <th>0</th>\n",
              "      <th>1</th>\n",
              "      <th>2</th>\n",
              "      <th>3</th>\n",
              "      <th>4</th>\n",
              "      <th>5</th>\n",
              "      <th>6</th>\n",
              "      <th>7</th>\n",
              "      <th>8</th>\n",
              "      <th>9</th>\n",
              "      <th>...</th>\n",
              "      <th>59</th>\n",
              "      <th>60</th>\n",
              "      <th>61</th>\n",
              "      <th>62</th>\n",
              "      <th>63</th>\n",
              "      <th>64</th>\n",
              "      <th>65</th>\n",
              "      <th>66</th>\n",
              "      <th>67</th>\n",
              "      <th>68</th>\n",
              "    </tr>\n",
              "  </thead>\n",
              "  <tbody>\n",
              "    <tr>\n",
              "      <th>0</th>\n",
              "      <td>0.50364</td>\n",
              "      <td>0.74719</td>\n",
              "      <td>0.43018</td>\n",
              "      <td>2.8163</td>\n",
              "      <td>5.9902</td>\n",
              "      <td>0.21883</td>\n",
              "      <td>0.17757</td>\n",
              "      <td>2.3737</td>\n",
              "      <td>0.23222</td>\n",
              "      <td>1.7509</td>\n",
              "      <td>...</td>\n",
              "      <td>0.14276</td>\n",
              "      <td>0.43096</td>\n",
              "      <td>0.24754</td>\n",
              "      <td>1.6033</td>\n",
              "      <td>2.0149</td>\n",
              "      <td>0.10823</td>\n",
              "      <td>1.04500</td>\n",
              "      <td>0.83156</td>\n",
              "      <td>0.18885</td>\n",
              "      <td>1.6757</td>\n",
              "    </tr>\n",
              "    <tr>\n",
              "      <th>1</th>\n",
              "      <td>0.51462</td>\n",
              "      <td>0.68906</td>\n",
              "      <td>0.41177</td>\n",
              "      <td>2.7895</td>\n",
              "      <td>5.6850</td>\n",
              "      <td>0.21164</td>\n",
              "      <td>0.17282</td>\n",
              "      <td>2.2921</td>\n",
              "      <td>0.22697</td>\n",
              "      <td>1.5964</td>\n",
              "      <td>...</td>\n",
              "      <td>0.14204</td>\n",
              "      <td>0.45716</td>\n",
              "      <td>0.25763</td>\n",
              "      <td>1.6717</td>\n",
              "      <td>2.0046</td>\n",
              "      <td>0.10975</td>\n",
              "      <td>1.00990</td>\n",
              "      <td>0.84927</td>\n",
              "      <td>0.20040</td>\n",
              "      <td>1.7436</td>\n",
              "    </tr>\n",
              "    <tr>\n",
              "      <th>2</th>\n",
              "      <td>0.50918</td>\n",
              "      <td>0.73025</td>\n",
              "      <td>0.41831</td>\n",
              "      <td>2.6872</td>\n",
              "      <td>5.6221</td>\n",
              "      <td>0.20901</td>\n",
              "      <td>0.17572</td>\n",
              "      <td>2.2833</td>\n",
              "      <td>0.23025</td>\n",
              "      <td>1.5613</td>\n",
              "      <td>...</td>\n",
              "      <td>0.14244</td>\n",
              "      <td>0.51047</td>\n",
              "      <td>0.25534</td>\n",
              "      <td>1.6635</td>\n",
              "      <td>2.0168</td>\n",
              "      <td>0.10820</td>\n",
              "      <td>0.99685</td>\n",
              "      <td>0.84671</td>\n",
              "      <td>0.19368</td>\n",
              "      <td>1.9264</td>\n",
              "    </tr>\n",
              "    <tr>\n",
              "      <th>3</th>\n",
              "      <td>0.44211</td>\n",
              "      <td>0.61708</td>\n",
              "      <td>0.35863</td>\n",
              "      <td>2.4669</td>\n",
              "      <td>4.9795</td>\n",
              "      <td>0.22289</td>\n",
              "      <td>0.17646</td>\n",
              "      <td>2.1523</td>\n",
              "      <td>0.20700</td>\n",
              "      <td>1.5951</td>\n",
              "      <td>...</td>\n",
              "      <td>0.14507</td>\n",
              "      <td>0.43100</td>\n",
              "      <td>0.25110</td>\n",
              "      <td>1.4846</td>\n",
              "      <td>1.9572</td>\n",
              "      <td>0.11988</td>\n",
              "      <td>0.99022</td>\n",
              "      <td>0.83328</td>\n",
              "      <td>0.19211</td>\n",
              "      <td>1.7006</td>\n",
              "    </tr>\n",
              "    <tr>\n",
              "      <th>4</th>\n",
              "      <td>0.43494</td>\n",
              "      <td>0.61743</td>\n",
              "      <td>0.35880</td>\n",
              "      <td>2.3658</td>\n",
              "      <td>4.7187</td>\n",
              "      <td>0.21311</td>\n",
              "      <td>0.17363</td>\n",
              "      <td>2.1340</td>\n",
              "      <td>0.19216</td>\n",
              "      <td>1.5042</td>\n",
              "      <td>...</td>\n",
              "      <td>0.14087</td>\n",
              "      <td>0.48123</td>\n",
              "      <td>0.25177</td>\n",
              "      <td>1.5348</td>\n",
              "      <td>2.0091</td>\n",
              "      <td>0.11952</td>\n",
              "      <td>0.99777</td>\n",
              "      <td>0.87867</td>\n",
              "      <td>0.20560</td>\n",
              "      <td>1.8397</td>\n",
              "    </tr>\n",
              "  </tbody>\n",
              "</table>\n",
              "<p>5 rows × 69 columns</p>\n",
              "</div>\n",
              "      <button class=\"colab-df-convert\" onclick=\"convertToInteractive('df-3fb307e8-b32b-4323-8b68-ccc3ceca62cf')\"\n",
              "              title=\"Convert this dataframe to an interactive table.\"\n",
              "              style=\"display:none;\">\n",
              "        \n",
              "  <svg xmlns=\"http://www.w3.org/2000/svg\" height=\"24px\"viewBox=\"0 0 24 24\"\n",
              "       width=\"24px\">\n",
              "    <path d=\"M0 0h24v24H0V0z\" fill=\"none\"/>\n",
              "    <path d=\"M18.56 5.44l.94 2.06.94-2.06 2.06-.94-2.06-.94-.94-2.06-.94 2.06-2.06.94zm-11 1L8.5 8.5l.94-2.06 2.06-.94-2.06-.94L8.5 2.5l-.94 2.06-2.06.94zm10 10l.94 2.06.94-2.06 2.06-.94-2.06-.94-.94-2.06-.94 2.06-2.06.94z\"/><path d=\"M17.41 7.96l-1.37-1.37c-.4-.4-.92-.59-1.43-.59-.52 0-1.04.2-1.43.59L10.3 9.45l-7.72 7.72c-.78.78-.78 2.05 0 2.83L4 21.41c.39.39.9.59 1.41.59.51 0 1.02-.2 1.41-.59l7.78-7.78 2.81-2.81c.8-.78.8-2.07 0-2.86zM5.41 20L4 18.59l7.72-7.72 1.47 1.35L5.41 20z\"/>\n",
              "  </svg>\n",
              "      </button>\n",
              "      \n",
              "  <style>\n",
              "    .colab-df-container {\n",
              "      display:flex;\n",
              "      flex-wrap:wrap;\n",
              "      gap: 12px;\n",
              "    }\n",
              "\n",
              "    .colab-df-convert {\n",
              "      background-color: #E8F0FE;\n",
              "      border: none;\n",
              "      border-radius: 50%;\n",
              "      cursor: pointer;\n",
              "      display: none;\n",
              "      fill: #1967D2;\n",
              "      height: 32px;\n",
              "      padding: 0 0 0 0;\n",
              "      width: 32px;\n",
              "    }\n",
              "\n",
              "    .colab-df-convert:hover {\n",
              "      background-color: #E2EBFA;\n",
              "      box-shadow: 0px 1px 2px rgba(60, 64, 67, 0.3), 0px 1px 3px 1px rgba(60, 64, 67, 0.15);\n",
              "      fill: #174EA6;\n",
              "    }\n",
              "\n",
              "    [theme=dark] .colab-df-convert {\n",
              "      background-color: #3B4455;\n",
              "      fill: #D2E3FC;\n",
              "    }\n",
              "\n",
              "    [theme=dark] .colab-df-convert:hover {\n",
              "      background-color: #434B5C;\n",
              "      box-shadow: 0px 1px 3px 1px rgba(0, 0, 0, 0.15);\n",
              "      filter: drop-shadow(0px 1px 2px rgba(0, 0, 0, 0.3));\n",
              "      fill: #FFFFFF;\n",
              "    }\n",
              "  </style>\n",
              "\n",
              "      <script>\n",
              "        const buttonEl =\n",
              "          document.querySelector('#df-3fb307e8-b32b-4323-8b68-ccc3ceca62cf button.colab-df-convert');\n",
              "        buttonEl.style.display =\n",
              "          google.colab.kernel.accessAllowed ? 'block' : 'none';\n",
              "\n",
              "        async function convertToInteractive(key) {\n",
              "          const element = document.querySelector('#df-3fb307e8-b32b-4323-8b68-ccc3ceca62cf');\n",
              "          const dataTable =\n",
              "            await google.colab.kernel.invokeFunction('convertToInteractive',\n",
              "                                                     [key], {});\n",
              "          if (!dataTable) return;\n",
              "\n",
              "          const docLinkHtml = 'Like what you see? Visit the ' +\n",
              "            '<a target=\"_blank\" href=https://colab.research.google.com/notebooks/data_table.ipynb>data table notebook</a>'\n",
              "            + ' to learn more about interactive tables.';\n",
              "          element.innerHTML = '';\n",
              "          dataTable['output_type'] = 'display_data';\n",
              "          await google.colab.output.renderOutput(dataTable, element);\n",
              "          const docLink = document.createElement('div');\n",
              "          docLink.innerHTML = docLinkHtml;\n",
              "          element.appendChild(docLink);\n",
              "        }\n",
              "      </script>\n",
              "    </div>\n",
              "  </div>\n",
              "  "
            ]
          },
          "metadata": {},
          "execution_count": 4
        }
      ],
      "source": [
        "# 샘플당 69개의 특성(feature)을 가진 데이터\n",
        "df.head()"
      ]
    },
    {
      "cell_type": "code",
      "source": [
        "df_label = np.where(df_label == 1, 0, 1)"
      ],
      "metadata": {
        "id": "gif4s4IFEh8O"
      },
      "execution_count": 17,
      "outputs": []
    },
    {
      "cell_type": "code",
      "execution_count": 5,
      "metadata": {
        "colab": {
          "base_uri": "https://localhost:8080/"
        },
        "id": "zrIvw52rPdx4",
        "outputId": "8f01fcfb-7878-40c4-96ca-08955a431c5c"
      },
      "outputs": [
        {
          "output_type": "stream",
          "name": "stdout",
          "text": [
            "   0\n",
            "0  1\n",
            "1  1\n",
            "2  1\n",
            "3  1\n",
            "4  1\n",
            "      0\n",
            "1072  2\n",
            "1073  2\n",
            "1074  2\n",
            "1075  2\n",
            "1076  2\n"
          ]
        }
      ],
      "source": [
        "print(df_label.head())\n",
        "print(df_label.tail())"
      ]
    },
    {
      "cell_type": "code",
      "source": [
        "df.isnull().sum()"
      ],
      "metadata": {
        "colab": {
          "base_uri": "https://localhost:8080/"
        },
        "id": "RB9eZ2BpuLGE",
        "outputId": "58c12b16-abcd-48b4-9958-09e48f68f87c"
      },
      "execution_count": 9,
      "outputs": [
        {
          "output_type": "execute_result",
          "data": {
            "text/plain": [
              "0     0\n",
              "1     0\n",
              "2     0\n",
              "3     0\n",
              "4     0\n",
              "     ..\n",
              "64    0\n",
              "65    0\n",
              "66    0\n",
              "67    0\n",
              "68    0\n",
              "Length: 69, dtype: int64"
            ]
          },
          "metadata": {},
          "execution_count": 9
        }
      ]
    },
    {
      "cell_type": "code",
      "source": [
        "from sklearn.model_selection import train_test_split\n",
        "from sklearn.metrics import classification_report\n",
        "import tensorflow as tf\n",
        "from keras import layers"
      ],
      "metadata": {
        "id": "HVvbOzpbyCmz"
      },
      "execution_count": 23,
      "outputs": []
    },
    {
      "cell_type": "code",
      "source": [],
      "metadata": {
        "id": "6mhNfqB-vq-r"
      },
      "execution_count": 9,
      "outputs": []
    },
    {
      "cell_type": "code",
      "source": [
        "X_train, X_test, y_train, y_test = train_test_split(df, df_label, random_state=42)"
      ],
      "metadata": {
        "id": "9Dag6HmAXaSf"
      },
      "execution_count": 18,
      "outputs": []
    },
    {
      "cell_type": "code",
      "source": [
        "model = tf.keras.models.Sequential([\n",
        "    tf.keras.layers.Dense(100, input_dim=(69), activation='relu'),\n",
        "    tf.keras.layers.Dense(100, activation='relu'),\n",
        "    layers.Dense(1, activation='sigmoid')\n",
        "])\n",
        "\n",
        "\n",
        "model.compile(optimizer='sgd',\n",
        "              loss='binary_crossentropy',\n",
        "              metrics=['binary_accuracy'])\n",
        "\n",
        "\n",
        "\n",
        "model.fit(X_train, y_train, epochs=100)"
      ],
      "metadata": {
        "colab": {
          "base_uri": "https://localhost:8080/"
        },
        "id": "pmAYgX99ybu0",
        "outputId": "f51aa3db-4765-49ed-88e4-0591b91abf35"
      },
      "execution_count": 19,
      "outputs": [
        {
          "output_type": "stream",
          "name": "stdout",
          "text": [
            "Epoch 1/100\n",
            "26/26 [==============================] - 1s 3ms/step - loss: 0.6838 - binary_accuracy: 0.5564\n",
            "Epoch 2/100\n",
            "26/26 [==============================] - 0s 2ms/step - loss: 0.6771 - binary_accuracy: 0.5762\n",
            "Epoch 3/100\n",
            "26/26 [==============================] - 0s 2ms/step - loss: 0.6716 - binary_accuracy: 0.6010\n",
            "Epoch 4/100\n",
            "26/26 [==============================] - 0s 2ms/step - loss: 0.6651 - binary_accuracy: 0.5923\n",
            "Epoch 5/100\n",
            "26/26 [==============================] - 0s 2ms/step - loss: 0.6614 - binary_accuracy: 0.6196\n",
            "Epoch 6/100\n",
            "26/26 [==============================] - 0s 2ms/step - loss: 0.6596 - binary_accuracy: 0.5973\n",
            "Epoch 7/100\n",
            "26/26 [==============================] - 0s 2ms/step - loss: 0.6599 - binary_accuracy: 0.5874\n",
            "Epoch 8/100\n",
            "26/26 [==============================] - 0s 3ms/step - loss: 0.6512 - binary_accuracy: 0.6208\n",
            "Epoch 9/100\n",
            "26/26 [==============================] - 0s 2ms/step - loss: 0.6504 - binary_accuracy: 0.6010\n",
            "Epoch 10/100\n",
            "26/26 [==============================] - 0s 2ms/step - loss: 0.6417 - binary_accuracy: 0.6394\n",
            "Epoch 11/100\n",
            "26/26 [==============================] - 0s 2ms/step - loss: 0.6439 - binary_accuracy: 0.6196\n",
            "Epoch 12/100\n",
            "26/26 [==============================] - 0s 2ms/step - loss: 0.6397 - binary_accuracy: 0.6233\n",
            "Epoch 13/100\n",
            "26/26 [==============================] - 0s 2ms/step - loss: 0.6375 - binary_accuracy: 0.6283\n",
            "Epoch 14/100\n",
            "26/26 [==============================] - 0s 3ms/step - loss: 0.6361 - binary_accuracy: 0.6295\n",
            "Epoch 15/100\n",
            "26/26 [==============================] - 0s 2ms/step - loss: 0.6310 - binary_accuracy: 0.6506\n",
            "Epoch 16/100\n",
            "26/26 [==============================] - 0s 2ms/step - loss: 0.6311 - binary_accuracy: 0.6419\n",
            "Epoch 17/100\n",
            "26/26 [==============================] - 0s 3ms/step - loss: 0.6272 - binary_accuracy: 0.6518\n",
            "Epoch 18/100\n",
            "26/26 [==============================] - 0s 2ms/step - loss: 0.6229 - binary_accuracy: 0.6394\n",
            "Epoch 19/100\n",
            "26/26 [==============================] - 0s 2ms/step - loss: 0.6184 - binary_accuracy: 0.6617\n",
            "Epoch 20/100\n",
            "26/26 [==============================] - 0s 2ms/step - loss: 0.6151 - binary_accuracy: 0.6468\n",
            "Epoch 21/100\n",
            "26/26 [==============================] - 0s 2ms/step - loss: 0.6184 - binary_accuracy: 0.6543\n",
            "Epoch 22/100\n",
            "26/26 [==============================] - 0s 2ms/step - loss: 0.6126 - binary_accuracy: 0.6580\n",
            "Epoch 23/100\n",
            "26/26 [==============================] - 0s 3ms/step - loss: 0.6120 - binary_accuracy: 0.6667\n",
            "Epoch 24/100\n",
            "26/26 [==============================] - 0s 2ms/step - loss: 0.6088 - binary_accuracy: 0.6629\n",
            "Epoch 25/100\n",
            "26/26 [==============================] - 0s 2ms/step - loss: 0.6062 - binary_accuracy: 0.6518\n",
            "Epoch 26/100\n",
            "26/26 [==============================] - 0s 2ms/step - loss: 0.6038 - binary_accuracy: 0.6506\n",
            "Epoch 27/100\n",
            "26/26 [==============================] - 0s 2ms/step - loss: 0.6027 - binary_accuracy: 0.6555\n",
            "Epoch 28/100\n",
            "26/26 [==============================] - 0s 2ms/step - loss: 0.5973 - binary_accuracy: 0.6704\n",
            "Epoch 29/100\n",
            "26/26 [==============================] - 0s 2ms/step - loss: 0.5939 - binary_accuracy: 0.6766\n",
            "Epoch 30/100\n",
            "26/26 [==============================] - 0s 2ms/step - loss: 0.5872 - binary_accuracy: 0.6828\n",
            "Epoch 31/100\n",
            "26/26 [==============================] - 0s 3ms/step - loss: 0.5878 - binary_accuracy: 0.6766\n",
            "Epoch 32/100\n",
            "26/26 [==============================] - 0s 3ms/step - loss: 0.5836 - binary_accuracy: 0.6902\n",
            "Epoch 33/100\n",
            "26/26 [==============================] - 0s 3ms/step - loss: 0.5921 - binary_accuracy: 0.6716\n",
            "Epoch 34/100\n",
            "26/26 [==============================] - 0s 2ms/step - loss: 0.5801 - binary_accuracy: 0.6828\n",
            "Epoch 35/100\n",
            "26/26 [==============================] - 0s 3ms/step - loss: 0.5760 - binary_accuracy: 0.6914\n",
            "Epoch 36/100\n",
            "26/26 [==============================] - 0s 3ms/step - loss: 0.5712 - binary_accuracy: 0.6914\n",
            "Epoch 37/100\n",
            "26/26 [==============================] - 0s 3ms/step - loss: 0.5705 - binary_accuracy: 0.7001\n",
            "Epoch 38/100\n",
            "26/26 [==============================] - 0s 3ms/step - loss: 0.5663 - binary_accuracy: 0.6927\n",
            "Epoch 39/100\n",
            "26/26 [==============================] - 0s 3ms/step - loss: 0.5632 - binary_accuracy: 0.7014\n",
            "Epoch 40/100\n",
            "26/26 [==============================] - 0s 2ms/step - loss: 0.5690 - binary_accuracy: 0.6865\n",
            "Epoch 41/100\n",
            "26/26 [==============================] - 0s 3ms/step - loss: 0.5581 - binary_accuracy: 0.7076\n",
            "Epoch 42/100\n",
            "26/26 [==============================] - 0s 2ms/step - loss: 0.5533 - binary_accuracy: 0.7001\n",
            "Epoch 43/100\n",
            "26/26 [==============================] - 0s 3ms/step - loss: 0.5560 - binary_accuracy: 0.7150\n",
            "Epoch 44/100\n",
            "26/26 [==============================] - 0s 2ms/step - loss: 0.5533 - binary_accuracy: 0.6890\n",
            "Epoch 45/100\n",
            "26/26 [==============================] - 0s 3ms/step - loss: 0.5427 - binary_accuracy: 0.7138\n",
            "Epoch 46/100\n",
            "26/26 [==============================] - 0s 2ms/step - loss: 0.5435 - binary_accuracy: 0.7212\n",
            "Epoch 47/100\n",
            "26/26 [==============================] - 0s 2ms/step - loss: 0.5453 - binary_accuracy: 0.7261\n",
            "Epoch 48/100\n",
            "26/26 [==============================] - 0s 2ms/step - loss: 0.5411 - binary_accuracy: 0.7026\n",
            "Epoch 49/100\n",
            "26/26 [==============================] - 0s 3ms/step - loss: 0.5325 - binary_accuracy: 0.7187\n",
            "Epoch 50/100\n",
            "26/26 [==============================] - 0s 2ms/step - loss: 0.5333 - binary_accuracy: 0.7323\n",
            "Epoch 51/100\n",
            "26/26 [==============================] - 0s 2ms/step - loss: 0.5496 - binary_accuracy: 0.6989\n",
            "Epoch 52/100\n",
            "26/26 [==============================] - 0s 3ms/step - loss: 0.5250 - binary_accuracy: 0.7423\n",
            "Epoch 53/100\n",
            "26/26 [==============================] - 0s 2ms/step - loss: 0.5358 - binary_accuracy: 0.7373\n",
            "Epoch 54/100\n",
            "26/26 [==============================] - 0s 2ms/step - loss: 0.5140 - binary_accuracy: 0.7447\n",
            "Epoch 55/100\n",
            "26/26 [==============================] - 0s 2ms/step - loss: 0.5185 - binary_accuracy: 0.7410\n",
            "Epoch 56/100\n",
            "26/26 [==============================] - 0s 2ms/step - loss: 0.5148 - binary_accuracy: 0.7410\n",
            "Epoch 57/100\n",
            "26/26 [==============================] - 0s 2ms/step - loss: 0.5295 - binary_accuracy: 0.7336\n",
            "Epoch 58/100\n",
            "26/26 [==============================] - 0s 2ms/step - loss: 0.5059 - binary_accuracy: 0.7584\n",
            "Epoch 59/100\n",
            "26/26 [==============================] - 0s 2ms/step - loss: 0.5147 - binary_accuracy: 0.7286\n",
            "Epoch 60/100\n",
            "26/26 [==============================] - 0s 2ms/step - loss: 0.5101 - binary_accuracy: 0.7460\n",
            "Epoch 61/100\n",
            "26/26 [==============================] - 0s 2ms/step - loss: 0.4874 - binary_accuracy: 0.7745\n",
            "Epoch 62/100\n",
            "26/26 [==============================] - 0s 3ms/step - loss: 0.5032 - binary_accuracy: 0.7633\n",
            "Epoch 63/100\n",
            "26/26 [==============================] - 0s 2ms/step - loss: 0.5090 - binary_accuracy: 0.7323\n",
            "Epoch 64/100\n",
            "26/26 [==============================] - 0s 2ms/step - loss: 0.4924 - binary_accuracy: 0.7683\n",
            "Epoch 65/100\n",
            "26/26 [==============================] - 0s 2ms/step - loss: 0.4964 - binary_accuracy: 0.7546\n",
            "Epoch 66/100\n",
            "26/26 [==============================] - 0s 2ms/step - loss: 0.4770 - binary_accuracy: 0.7745\n",
            "Epoch 67/100\n",
            "26/26 [==============================] - 0s 3ms/step - loss: 0.4709 - binary_accuracy: 0.7856\n",
            "Epoch 68/100\n",
            "26/26 [==============================] - 0s 2ms/step - loss: 0.4713 - binary_accuracy: 0.7782\n",
            "Epoch 69/100\n",
            "26/26 [==============================] - 0s 3ms/step - loss: 0.4697 - binary_accuracy: 0.7782\n",
            "Epoch 70/100\n",
            "26/26 [==============================] - 0s 2ms/step - loss: 0.4624 - binary_accuracy: 0.7881\n",
            "Epoch 71/100\n",
            "26/26 [==============================] - 0s 2ms/step - loss: 0.4579 - binary_accuracy: 0.7881\n",
            "Epoch 72/100\n",
            "26/26 [==============================] - 0s 2ms/step - loss: 0.4577 - binary_accuracy: 0.7807\n",
            "Epoch 73/100\n",
            "26/26 [==============================] - 0s 3ms/step - loss: 0.4761 - binary_accuracy: 0.7633\n",
            "Epoch 74/100\n",
            "26/26 [==============================] - 0s 3ms/step - loss: 0.4743 - binary_accuracy: 0.7670\n",
            "Epoch 75/100\n",
            "26/26 [==============================] - 0s 2ms/step - loss: 0.4566 - binary_accuracy: 0.7993\n",
            "Epoch 76/100\n",
            "26/26 [==============================] - 0s 2ms/step - loss: 0.4653 - binary_accuracy: 0.7720\n",
            "Epoch 77/100\n",
            "26/26 [==============================] - 0s 2ms/step - loss: 0.4643 - binary_accuracy: 0.7807\n",
            "Epoch 78/100\n",
            "26/26 [==============================] - 0s 2ms/step - loss: 0.4382 - binary_accuracy: 0.8129\n",
            "Epoch 79/100\n",
            "26/26 [==============================] - 0s 2ms/step - loss: 0.4657 - binary_accuracy: 0.7831\n",
            "Epoch 80/100\n",
            "26/26 [==============================] - 0s 2ms/step - loss: 0.4291 - binary_accuracy: 0.8055\n",
            "Epoch 81/100\n",
            "26/26 [==============================] - 0s 3ms/step - loss: 0.4607 - binary_accuracy: 0.7757\n",
            "Epoch 82/100\n",
            "26/26 [==============================] - 0s 3ms/step - loss: 0.4383 - binary_accuracy: 0.8042\n",
            "Epoch 83/100\n",
            "26/26 [==============================] - 0s 2ms/step - loss: 0.4251 - binary_accuracy: 0.8203\n",
            "Epoch 84/100\n",
            "26/26 [==============================] - 0s 2ms/step - loss: 0.4179 - binary_accuracy: 0.8340\n",
            "Epoch 85/100\n",
            "26/26 [==============================] - 0s 4ms/step - loss: 0.4476 - binary_accuracy: 0.8017\n",
            "Epoch 86/100\n",
            "26/26 [==============================] - 0s 3ms/step - loss: 0.4916 - binary_accuracy: 0.7646\n",
            "Epoch 87/100\n",
            "26/26 [==============================] - 0s 2ms/step - loss: 0.4384 - binary_accuracy: 0.7943\n",
            "Epoch 88/100\n",
            "26/26 [==============================] - 0s 2ms/step - loss: 0.4139 - binary_accuracy: 0.8265\n",
            "Epoch 89/100\n",
            "26/26 [==============================] - 0s 2ms/step - loss: 0.4767 - binary_accuracy: 0.7807\n",
            "Epoch 90/100\n",
            "26/26 [==============================] - 0s 2ms/step - loss: 0.4259 - binary_accuracy: 0.8141\n",
            "Epoch 91/100\n",
            "26/26 [==============================] - 0s 2ms/step - loss: 0.3949 - binary_accuracy: 0.8426\n",
            "Epoch 92/100\n",
            "26/26 [==============================] - 0s 2ms/step - loss: 0.4698 - binary_accuracy: 0.7770\n",
            "Epoch 93/100\n",
            "26/26 [==============================] - 0s 2ms/step - loss: 0.4302 - binary_accuracy: 0.8178\n",
            "Epoch 94/100\n",
            "26/26 [==============================] - 0s 2ms/step - loss: 0.3961 - binary_accuracy: 0.8439\n",
            "Epoch 95/100\n",
            "26/26 [==============================] - 0s 3ms/step - loss: 0.4427 - binary_accuracy: 0.7980\n",
            "Epoch 96/100\n",
            "26/26 [==============================] - 0s 3ms/step - loss: 0.3853 - binary_accuracy: 0.8563\n",
            "Epoch 97/100\n",
            "26/26 [==============================] - 0s 3ms/step - loss: 0.3770 - binary_accuracy: 0.8463\n",
            "Epoch 98/100\n",
            "26/26 [==============================] - 0s 2ms/step - loss: 0.3887 - binary_accuracy: 0.8451\n",
            "Epoch 99/100\n",
            "26/26 [==============================] - 0s 3ms/step - loss: 0.3672 - binary_accuracy: 0.8525\n",
            "Epoch 100/100\n",
            "26/26 [==============================] - 0s 3ms/step - loss: 0.3839 - binary_accuracy: 0.8439\n"
          ]
        },
        {
          "output_type": "execute_result",
          "data": {
            "text/plain": [
              "<keras.callbacks.History at 0x7f36ab399090>"
            ]
          },
          "metadata": {},
          "execution_count": 19
        }
      ]
    },
    {
      "cell_type": "code",
      "source": [
        "# 만들어진 모델을 이용하여 예측하는 부분입니다.\n",
        "preds = model.predict(X_test)\n",
        "preds_1d = preds.flatten()\n",
        "pred_class = np.where(preds_1d > 0.5, 1 , 0)\n"
      ],
      "metadata": {
        "colab": {
          "base_uri": "https://localhost:8080/"
        },
        "id": "NWgsQYUSzYCp",
        "outputId": "96b6c2ff-aa1a-421d-b986-18f5b693347c"
      },
      "execution_count": 20,
      "outputs": [
        {
          "output_type": "stream",
          "name": "stdout",
          "text": [
            "9/9 [==============================] - 0s 2ms/step\n"
          ]
        }
      ]
    },
    {
      "cell_type": "code",
      "source": [
        "from sklearn.metrics import classification_report\n",
        "print(classification_report(y_test, pred_class))"
      ],
      "metadata": {
        "colab": {
          "base_uri": "https://localhost:8080/"
        },
        "id": "KEut-i8q205a",
        "outputId": "bf2f219a-b8ec-4686-a5a5-ddc63ce16f9f"
      },
      "execution_count": 21,
      "outputs": [
        {
          "output_type": "stream",
          "name": "stdout",
          "text": [
            "              precision    recall  f1-score   support\n",
            "\n",
            "           0       1.00      0.10      0.19       117\n",
            "           1       0.59      1.00      0.74       153\n",
            "\n",
            "    accuracy                           0.61       270\n",
            "   macro avg       0.80      0.55      0.47       270\n",
            "weighted avg       0.77      0.61      0.50       270\n",
            "\n"
          ]
        }
      ]
    },
    {
      "cell_type": "code",
      "source": [
        "from lightgbm import LGBMClassifier\n",
        "from sklearn.metrics import classification_report\n",
        "\n",
        "lgbm = LGBMClassifier()\n",
        "\n",
        "lgbm.fit(X_train, y_train)"
      ],
      "metadata": {
        "colab": {
          "base_uri": "https://localhost:8080/"
        },
        "id": "uabx04PIE3Nv",
        "outputId": "9560ebd9-1fde-4141-e80b-4a64b32c5c36"
      },
      "execution_count": 24,
      "outputs": [
        {
          "output_type": "stream",
          "name": "stderr",
          "text": [
            "/usr/local/lib/python3.7/dist-packages/sklearn/preprocessing/_label.py:98: DataConversionWarning: A column-vector y was passed when a 1d array was expected. Please change the shape of y to (n_samples, ), for example using ravel().\n",
            "  y = column_or_1d(y, warn=True)\n",
            "/usr/local/lib/python3.7/dist-packages/sklearn/preprocessing/_label.py:133: DataConversionWarning: A column-vector y was passed when a 1d array was expected. Please change the shape of y to (n_samples, ), for example using ravel().\n",
            "  y = column_or_1d(y, warn=True)\n"
          ]
        },
        {
          "output_type": "execute_result",
          "data": {
            "text/plain": [
              "LGBMClassifier()"
            ]
          },
          "metadata": {},
          "execution_count": 24
        }
      ]
    },
    {
      "cell_type": "code",
      "source": [
        "pred_lgbm = lgbm.predict(X_test)"
      ],
      "metadata": {
        "id": "fFbJcIWBFBxD"
      },
      "execution_count": 25,
      "outputs": []
    },
    {
      "cell_type": "code",
      "source": [
        "print(classification_report(y_test, pred_lgbm))"
      ],
      "metadata": {
        "colab": {
          "base_uri": "https://localhost:8080/"
        },
        "id": "klJU1lPvFDhJ",
        "outputId": "a6c998ba-4266-4516-deba-659e8e113a2d"
      },
      "execution_count": 26,
      "outputs": [
        {
          "output_type": "stream",
          "name": "stdout",
          "text": [
            "              precision    recall  f1-score   support\n",
            "\n",
            "           0       0.99      0.97      0.98       117\n",
            "           1       0.97      0.99      0.98       153\n",
            "\n",
            "    accuracy                           0.98       270\n",
            "   macro avg       0.98      0.98      0.98       270\n",
            "weighted avg       0.98      0.98      0.98       270\n",
            "\n"
          ]
        }
      ]
    },
    {
      "cell_type": "markdown",
      "metadata": {
        "id": "Yilj1IY3M4Zr"
      },
      "source": [
        "---\n",
        "\n",
        "4-1. 사용한 모델을 입력합니다. \n",
        "\n",
        "4-2. Accuracy를 입력합니다. \n",
        "\n",
        "4-3. Precision 을 입력합니다. \n",
        "\n",
        "4-4. Recall 을 입력합니다.\n",
        "\n",
        "4-5. F1 score 를 입력합니다. "
      ]
    }
  ],
  "metadata": {
    "colab": {
      "provenance": [],
      "collapsed_sections": [],
      "include_colab_link": true
    },
    "kernelspec": {
      "display_name": "Python 3 (ipykernel)",
      "language": "python",
      "name": "python3"
    },
    "language_info": {
      "codemirror_mode": {
        "name": "ipython",
        "version": 3
      },
      "file_extension": ".py",
      "mimetype": "text/x-python",
      "name": "python",
      "nbconvert_exporter": "python",
      "pygments_lexer": "ipython3",
      "version": "3.8.12"
    }
  },
  "nbformat": 4,
  "nbformat_minor": 0
}