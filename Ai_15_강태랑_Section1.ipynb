{
  "nbformat": 4,
  "nbformat_minor": 0,
  "metadata": {
    "colab": {
      "name": "Section1_project_ipynb의_사본의_사본의_사본의_사본의_사본의_사본.ipynb",
      "provenance": []
    },
    "kernelspec": {
      "name": "python3",
      "display_name": "Python 3"
    },
    "language_info": {
      "name": "python"
    }
  },
  "cells": [
    {
      "cell_type": "markdown",
      "source": [
        "# 게임 회사에 대한 가정 &찾아본 사실\n",
        "\n",
        "- 본 회사는 규모가 크지 않은 게임 회사\n",
        "\n",
        "- 이번에 이름을 알리기 위한 게임을 만들어야 하는 상황 \n",
        "\n",
        "- 비교적 회사에 수익을 낼 수 있도록 하기 위한 게임을 찾아서 만들예정\n",
        "\n",
        "- 리스크를 최소화 하는 것 또한 중요\n",
        "\n",
        "- 게임 개발 기간은 평균 1.5-5년=> 현재 기간에서 "
      ],
      "metadata": {
        "id": "NqGLlw12_OGu"
      }
    },
    {
      "cell_type": "markdown",
      "source": [
        "# EDA\n",
        "불필요한 데이터 정리하기\n",
        "\n",
        "1) 결측치 제거\n",
        "\n",
        "2) 잘못된 연도 변경(추정)\n",
        "\n",
        "3) 출고량에 대한 문자열 수정\n"
      ],
      "metadata": {
        "id": "k2awHs5c7DZD"
      }
    },
    {
      "cell_type": "code",
      "execution_count": 110,
      "metadata": {
        "id": "plkqXmitFhf8",
        "colab": {
          "resources": {
            "http://localhost:8080/nbextensions/google.colab/files.js": {
              "data": "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",
              "ok": true,
              "headers": [
                [
                  "content-type",
                  "application/javascript"
                ]
              ],
              "status": 200,
              "status_text": ""
            }
          },
          "base_uri": "https://localhost:8080/",
          "height": 484
        },
        "outputId": "d80c9a34-43b3-4ef9-bf0a-89c4621320da"
      },
      "outputs": [
        {
          "output_type": "display_data",
          "data": {
            "text/plain": [
              "<IPython.core.display.HTML object>"
            ],
            "text/html": [
              "\n",
              "     <input type=\"file\" id=\"files-b0b2956d-c016-4219-bc67-2b77fa865b53\" name=\"files[]\" multiple disabled\n",
              "        style=\"border:none\" />\n",
              "     <output id=\"result-b0b2956d-c016-4219-bc67-2b77fa865b53\">\n",
              "      Upload widget is only available when the cell has been executed in the\n",
              "      current browser session. Please rerun this cell to enable.\n",
              "      </output>\n",
              "      <script src=\"/nbextensions/google.colab/files.js\"></script> "
            ]
          },
          "metadata": {}
        },
        {
          "output_type": "stream",
          "name": "stdout",
          "text": [
            "Saving vgames2.csv to vgames2 (2).csv\n"
          ]
        },
        {
          "output_type": "execute_result",
          "data": {
            "text/plain": [
              "                                                 Name Platform    Year  \\\n",
              "1                        Candace Kane's Candy Factory       DS  2008.0   \n",
              "2                                      The Munchables      Wii  2009.0   \n",
              "3      Otome wa Oanesama Boku ni Koi Shiteru Portable      PSP  2010.0   \n",
              "4                    Deal or No Deal: Special Edition       DS  2010.0   \n",
              "5           Ben 10 Ultimate Alien: Cosmic Destruction      PS3  2010.0   \n",
              "...                                               ...      ...     ...   \n",
              "16594                         Ice Age 2: The Meltdown       GC  2006.0   \n",
              "16595                     Rainbow Islands: Revolution      PSP  2005.0   \n",
              "16596                                        NBA 2K16      PS3  2015.0   \n",
              "16597                     Toukiden: The Age of Demons      PSV  2013.0   \n",
              "16598                        The King of Fighters '95       PS  1996.0   \n",
              "\n",
              "           Genre                    Publisher NA_Sales EU_Sales JP_Sales  \\\n",
              "1         Action                    Destineer     0.04        0        0   \n",
              "2         Action           Namco Bandai Games     0.17        0        0   \n",
              "3      Adventure                    Alchemist        0        0     0.02   \n",
              "4           Misc                    Zoo Games     0.04        0        0   \n",
              "5       Platform                  D3Publisher     0.12     0.09        0   \n",
              "...          ...                          ...      ...      ...      ...   \n",
              "16594   Platform                Vivendi Games     0.15     0.04        0   \n",
              "16595     Action            Rising Star Games     0.01        0        0   \n",
              "16596     Sports         Take-Two Interactive     0.44     0.19     0.03   \n",
              "16597     Action                   Tecmo Koei     0.05     0.05     0.25   \n",
              "16598   Fighting  Sony Computer Entertainment        0        0     0.16   \n",
              "\n",
              "      Other_Sales  \n",
              "1               0  \n",
              "2            0.01  \n",
              "3               0  \n",
              "4               0  \n",
              "5            0.04  \n",
              "...           ...  \n",
              "16594        0.01  \n",
              "16595           0  \n",
              "16596        0.13  \n",
              "16597        0.03  \n",
              "16598        0.01  \n",
              "\n",
              "[16598 rows x 9 columns]"
            ],
            "text/html": [
              "\n",
              "  <div id=\"df-442e1825-30f1-4713-a489-e4c7009a7a49\">\n",
              "    <div class=\"colab-df-container\">\n",
              "      <div>\n",
              "<style scoped>\n",
              "    .dataframe tbody tr th:only-of-type {\n",
              "        vertical-align: middle;\n",
              "    }\n",
              "\n",
              "    .dataframe tbody tr th {\n",
              "        vertical-align: top;\n",
              "    }\n",
              "\n",
              "    .dataframe thead th {\n",
              "        text-align: right;\n",
              "    }\n",
              "</style>\n",
              "<table border=\"1\" class=\"dataframe\">\n",
              "  <thead>\n",
              "    <tr style=\"text-align: right;\">\n",
              "      <th></th>\n",
              "      <th>Name</th>\n",
              "      <th>Platform</th>\n",
              "      <th>Year</th>\n",
              "      <th>Genre</th>\n",
              "      <th>Publisher</th>\n",
              "      <th>NA_Sales</th>\n",
              "      <th>EU_Sales</th>\n",
              "      <th>JP_Sales</th>\n",
              "      <th>Other_Sales</th>\n",
              "    </tr>\n",
              "  </thead>\n",
              "  <tbody>\n",
              "    <tr>\n",
              "      <th>1</th>\n",
              "      <td>Candace Kane's Candy Factory</td>\n",
              "      <td>DS</td>\n",
              "      <td>2008.0</td>\n",
              "      <td>Action</td>\n",
              "      <td>Destineer</td>\n",
              "      <td>0.04</td>\n",
              "      <td>0</td>\n",
              "      <td>0</td>\n",
              "      <td>0</td>\n",
              "    </tr>\n",
              "    <tr>\n",
              "      <th>2</th>\n",
              "      <td>The Munchables</td>\n",
              "      <td>Wii</td>\n",
              "      <td>2009.0</td>\n",
              "      <td>Action</td>\n",
              "      <td>Namco Bandai Games</td>\n",
              "      <td>0.17</td>\n",
              "      <td>0</td>\n",
              "      <td>0</td>\n",
              "      <td>0.01</td>\n",
              "    </tr>\n",
              "    <tr>\n",
              "      <th>3</th>\n",
              "      <td>Otome wa Oanesama Boku ni Koi Shiteru Portable</td>\n",
              "      <td>PSP</td>\n",
              "      <td>2010.0</td>\n",
              "      <td>Adventure</td>\n",
              "      <td>Alchemist</td>\n",
              "      <td>0</td>\n",
              "      <td>0</td>\n",
              "      <td>0.02</td>\n",
              "      <td>0</td>\n",
              "    </tr>\n",
              "    <tr>\n",
              "      <th>4</th>\n",
              "      <td>Deal or No Deal: Special Edition</td>\n",
              "      <td>DS</td>\n",
              "      <td>2010.0</td>\n",
              "      <td>Misc</td>\n",
              "      <td>Zoo Games</td>\n",
              "      <td>0.04</td>\n",
              "      <td>0</td>\n",
              "      <td>0</td>\n",
              "      <td>0</td>\n",
              "    </tr>\n",
              "    <tr>\n",
              "      <th>5</th>\n",
              "      <td>Ben 10 Ultimate Alien: Cosmic Destruction</td>\n",
              "      <td>PS3</td>\n",
              "      <td>2010.0</td>\n",
              "      <td>Platform</td>\n",
              "      <td>D3Publisher</td>\n",
              "      <td>0.12</td>\n",
              "      <td>0.09</td>\n",
              "      <td>0</td>\n",
              "      <td>0.04</td>\n",
              "    </tr>\n",
              "    <tr>\n",
              "      <th>...</th>\n",
              "      <td>...</td>\n",
              "      <td>...</td>\n",
              "      <td>...</td>\n",
              "      <td>...</td>\n",
              "      <td>...</td>\n",
              "      <td>...</td>\n",
              "      <td>...</td>\n",
              "      <td>...</td>\n",
              "      <td>...</td>\n",
              "    </tr>\n",
              "    <tr>\n",
              "      <th>16594</th>\n",
              "      <td>Ice Age 2: The Meltdown</td>\n",
              "      <td>GC</td>\n",
              "      <td>2006.0</td>\n",
              "      <td>Platform</td>\n",
              "      <td>Vivendi Games</td>\n",
              "      <td>0.15</td>\n",
              "      <td>0.04</td>\n",
              "      <td>0</td>\n",
              "      <td>0.01</td>\n",
              "    </tr>\n",
              "    <tr>\n",
              "      <th>16595</th>\n",
              "      <td>Rainbow Islands: Revolution</td>\n",
              "      <td>PSP</td>\n",
              "      <td>2005.0</td>\n",
              "      <td>Action</td>\n",
              "      <td>Rising Star Games</td>\n",
              "      <td>0.01</td>\n",
              "      <td>0</td>\n",
              "      <td>0</td>\n",
              "      <td>0</td>\n",
              "    </tr>\n",
              "    <tr>\n",
              "      <th>16596</th>\n",
              "      <td>NBA 2K16</td>\n",
              "      <td>PS3</td>\n",
              "      <td>2015.0</td>\n",
              "      <td>Sports</td>\n",
              "      <td>Take-Two Interactive</td>\n",
              "      <td>0.44</td>\n",
              "      <td>0.19</td>\n",
              "      <td>0.03</td>\n",
              "      <td>0.13</td>\n",
              "    </tr>\n",
              "    <tr>\n",
              "      <th>16597</th>\n",
              "      <td>Toukiden: The Age of Demons</td>\n",
              "      <td>PSV</td>\n",
              "      <td>2013.0</td>\n",
              "      <td>Action</td>\n",
              "      <td>Tecmo Koei</td>\n",
              "      <td>0.05</td>\n",
              "      <td>0.05</td>\n",
              "      <td>0.25</td>\n",
              "      <td>0.03</td>\n",
              "    </tr>\n",
              "    <tr>\n",
              "      <th>16598</th>\n",
              "      <td>The King of Fighters '95</td>\n",
              "      <td>PS</td>\n",
              "      <td>1996.0</td>\n",
              "      <td>Fighting</td>\n",
              "      <td>Sony Computer Entertainment</td>\n",
              "      <td>0</td>\n",
              "      <td>0</td>\n",
              "      <td>0.16</td>\n",
              "      <td>0.01</td>\n",
              "    </tr>\n",
              "  </tbody>\n",
              "</table>\n",
              "<p>16598 rows × 9 columns</p>\n",
              "</div>\n",
              "      <button class=\"colab-df-convert\" onclick=\"convertToInteractive('df-442e1825-30f1-4713-a489-e4c7009a7a49')\"\n",
              "              title=\"Convert this dataframe to an interactive table.\"\n",
              "              style=\"display:none;\">\n",
              "        \n",
              "  <svg xmlns=\"http://www.w3.org/2000/svg\" height=\"24px\"viewBox=\"0 0 24 24\"\n",
              "       width=\"24px\">\n",
              "    <path d=\"M0 0h24v24H0V0z\" fill=\"none\"/>\n",
              "    <path d=\"M18.56 5.44l.94 2.06.94-2.06 2.06-.94-2.06-.94-.94-2.06-.94 2.06-2.06.94zm-11 1L8.5 8.5l.94-2.06 2.06-.94-2.06-.94L8.5 2.5l-.94 2.06-2.06.94zm10 10l.94 2.06.94-2.06 2.06-.94-2.06-.94-.94-2.06-.94 2.06-2.06.94z\"/><path d=\"M17.41 7.96l-1.37-1.37c-.4-.4-.92-.59-1.43-.59-.52 0-1.04.2-1.43.59L10.3 9.45l-7.72 7.72c-.78.78-.78 2.05 0 2.83L4 21.41c.39.39.9.59 1.41.59.51 0 1.02-.2 1.41-.59l7.78-7.78 2.81-2.81c.8-.78.8-2.07 0-2.86zM5.41 20L4 18.59l7.72-7.72 1.47 1.35L5.41 20z\"/>\n",
              "  </svg>\n",
              "      </button>\n",
              "      \n",
              "  <style>\n",
              "    .colab-df-container {\n",
              "      display:flex;\n",
              "      flex-wrap:wrap;\n",
              "      gap: 12px;\n",
              "    }\n",
              "\n",
              "    .colab-df-convert {\n",
              "      background-color: #E8F0FE;\n",
              "      border: none;\n",
              "      border-radius: 50%;\n",
              "      cursor: pointer;\n",
              "      display: none;\n",
              "      fill: #1967D2;\n",
              "      height: 32px;\n",
              "      padding: 0 0 0 0;\n",
              "      width: 32px;\n",
              "    }\n",
              "\n",
              "    .colab-df-convert:hover {\n",
              "      background-color: #E2EBFA;\n",
              "      box-shadow: 0px 1px 2px rgba(60, 64, 67, 0.3), 0px 1px 3px 1px rgba(60, 64, 67, 0.15);\n",
              "      fill: #174EA6;\n",
              "    }\n",
              "\n",
              "    [theme=dark] .colab-df-convert {\n",
              "      background-color: #3B4455;\n",
              "      fill: #D2E3FC;\n",
              "    }\n",
              "\n",
              "    [theme=dark] .colab-df-convert:hover {\n",
              "      background-color: #434B5C;\n",
              "      box-shadow: 0px 1px 3px 1px rgba(0, 0, 0, 0.15);\n",
              "      filter: drop-shadow(0px 1px 2px rgba(0, 0, 0, 0.3));\n",
              "      fill: #FFFFFF;\n",
              "    }\n",
              "  </style>\n",
              "\n",
              "      <script>\n",
              "        const buttonEl =\n",
              "          document.querySelector('#df-442e1825-30f1-4713-a489-e4c7009a7a49 button.colab-df-convert');\n",
              "        buttonEl.style.display =\n",
              "          google.colab.kernel.accessAllowed ? 'block' : 'none';\n",
              "\n",
              "        async function convertToInteractive(key) {\n",
              "          const element = document.querySelector('#df-442e1825-30f1-4713-a489-e4c7009a7a49');\n",
              "          const dataTable =\n",
              "            await google.colab.kernel.invokeFunction('convertToInteractive',\n",
              "                                                     [key], {});\n",
              "          if (!dataTable) return;\n",
              "\n",
              "          const docLinkHtml = 'Like what you see? Visit the ' +\n",
              "            '<a target=\"_blank\" href=https://colab.research.google.com/notebooks/data_table.ipynb>data table notebook</a>'\n",
              "            + ' to learn more about interactive tables.';\n",
              "          element.innerHTML = '';\n",
              "          dataTable['output_type'] = 'display_data';\n",
              "          await google.colab.output.renderOutput(dataTable, element);\n",
              "          const docLink = document.createElement('div');\n",
              "          docLink.innerHTML = docLinkHtml;\n",
              "          element.appendChild(docLink);\n",
              "        }\n",
              "      </script>\n",
              "    </div>\n",
              "  </div>\n",
              "  "
            ]
          },
          "metadata": {},
          "execution_count": 110
        }
      ],
      "source": [
        "import pandas as pd\n",
        "import numpy as np\n",
        "import matplotlib.pyplot as plt\n",
        "from google.colab import files\n",
        "uploaded = files.upload()\n",
        "df_vgames2 = pd.read_csv('vgames2.csv', index_col =0)\n",
        "df_vgames2"
      ]
    },
    {
      "cell_type": "code",
      "source": [
        "\n",
        "#결측치 제거(아예 오류값으로 나온 것들은 제거)\n",
        "df_vgames2.isnull().sum()\n",
        "vg2_clean1 = df_vgames2.dropna()\n",
        "vg2_clean1.isnull().sum()\n",
        "vg2_clean1.reset_index(drop = True)"
      ],
      "metadata": {
        "id": "6raWs-AOGBAa",
        "colab": {
          "base_uri": "https://localhost:8080/",
          "height": 424
        },
        "outputId": "5d0707a8-1bab-4ca2-e3dd-883ff08dd238"
      },
      "execution_count": 111,
      "outputs": [
        {
          "output_type": "execute_result",
          "data": {
            "text/plain": [
              "                                                 Name Platform    Year  \\\n",
              "0                        Candace Kane's Candy Factory       DS  2008.0   \n",
              "1                                      The Munchables      Wii  2009.0   \n",
              "2      Otome wa Oanesama Boku ni Koi Shiteru Portable      PSP  2010.0   \n",
              "3                    Deal or No Deal: Special Edition       DS  2010.0   \n",
              "4           Ben 10 Ultimate Alien: Cosmic Destruction      PS3  2010.0   \n",
              "...                                               ...      ...     ...   \n",
              "16236                         Ice Age 2: The Meltdown       GC  2006.0   \n",
              "16237                     Rainbow Islands: Revolution      PSP  2005.0   \n",
              "16238                                        NBA 2K16      PS3  2015.0   \n",
              "16239                     Toukiden: The Age of Demons      PSV  2013.0   \n",
              "16240                        The King of Fighters '95       PS  1996.0   \n",
              "\n",
              "           Genre                    Publisher NA_Sales EU_Sales JP_Sales  \\\n",
              "0         Action                    Destineer     0.04        0        0   \n",
              "1         Action           Namco Bandai Games     0.17        0        0   \n",
              "2      Adventure                    Alchemist        0        0     0.02   \n",
              "3           Misc                    Zoo Games     0.04        0        0   \n",
              "4       Platform                  D3Publisher     0.12     0.09        0   \n",
              "...          ...                          ...      ...      ...      ...   \n",
              "16236   Platform                Vivendi Games     0.15     0.04        0   \n",
              "16237     Action            Rising Star Games     0.01        0        0   \n",
              "16238     Sports         Take-Two Interactive     0.44     0.19     0.03   \n",
              "16239     Action                   Tecmo Koei     0.05     0.05     0.25   \n",
              "16240   Fighting  Sony Computer Entertainment        0        0     0.16   \n",
              "\n",
              "      Other_Sales  \n",
              "0               0  \n",
              "1            0.01  \n",
              "2               0  \n",
              "3               0  \n",
              "4            0.04  \n",
              "...           ...  \n",
              "16236        0.01  \n",
              "16237           0  \n",
              "16238        0.13  \n",
              "16239        0.03  \n",
              "16240        0.01  \n",
              "\n",
              "[16241 rows x 9 columns]"
            ],
            "text/html": [
              "\n",
              "  <div id=\"df-ee89db0e-dfc2-4b82-b594-b69a83545333\">\n",
              "    <div class=\"colab-df-container\">\n",
              "      <div>\n",
              "<style scoped>\n",
              "    .dataframe tbody tr th:only-of-type {\n",
              "        vertical-align: middle;\n",
              "    }\n",
              "\n",
              "    .dataframe tbody tr th {\n",
              "        vertical-align: top;\n",
              "    }\n",
              "\n",
              "    .dataframe thead th {\n",
              "        text-align: right;\n",
              "    }\n",
              "</style>\n",
              "<table border=\"1\" class=\"dataframe\">\n",
              "  <thead>\n",
              "    <tr style=\"text-align: right;\">\n",
              "      <th></th>\n",
              "      <th>Name</th>\n",
              "      <th>Platform</th>\n",
              "      <th>Year</th>\n",
              "      <th>Genre</th>\n",
              "      <th>Publisher</th>\n",
              "      <th>NA_Sales</th>\n",
              "      <th>EU_Sales</th>\n",
              "      <th>JP_Sales</th>\n",
              "      <th>Other_Sales</th>\n",
              "    </tr>\n",
              "  </thead>\n",
              "  <tbody>\n",
              "    <tr>\n",
              "      <th>0</th>\n",
              "      <td>Candace Kane's Candy Factory</td>\n",
              "      <td>DS</td>\n",
              "      <td>2008.0</td>\n",
              "      <td>Action</td>\n",
              "      <td>Destineer</td>\n",
              "      <td>0.04</td>\n",
              "      <td>0</td>\n",
              "      <td>0</td>\n",
              "      <td>0</td>\n",
              "    </tr>\n",
              "    <tr>\n",
              "      <th>1</th>\n",
              "      <td>The Munchables</td>\n",
              "      <td>Wii</td>\n",
              "      <td>2009.0</td>\n",
              "      <td>Action</td>\n",
              "      <td>Namco Bandai Games</td>\n",
              "      <td>0.17</td>\n",
              "      <td>0</td>\n",
              "      <td>0</td>\n",
              "      <td>0.01</td>\n",
              "    </tr>\n",
              "    <tr>\n",
              "      <th>2</th>\n",
              "      <td>Otome wa Oanesama Boku ni Koi Shiteru Portable</td>\n",
              "      <td>PSP</td>\n",
              "      <td>2010.0</td>\n",
              "      <td>Adventure</td>\n",
              "      <td>Alchemist</td>\n",
              "      <td>0</td>\n",
              "      <td>0</td>\n",
              "      <td>0.02</td>\n",
              "      <td>0</td>\n",
              "    </tr>\n",
              "    <tr>\n",
              "      <th>3</th>\n",
              "      <td>Deal or No Deal: Special Edition</td>\n",
              "      <td>DS</td>\n",
              "      <td>2010.0</td>\n",
              "      <td>Misc</td>\n",
              "      <td>Zoo Games</td>\n",
              "      <td>0.04</td>\n",
              "      <td>0</td>\n",
              "      <td>0</td>\n",
              "      <td>0</td>\n",
              "    </tr>\n",
              "    <tr>\n",
              "      <th>4</th>\n",
              "      <td>Ben 10 Ultimate Alien: Cosmic Destruction</td>\n",
              "      <td>PS3</td>\n",
              "      <td>2010.0</td>\n",
              "      <td>Platform</td>\n",
              "      <td>D3Publisher</td>\n",
              "      <td>0.12</td>\n",
              "      <td>0.09</td>\n",
              "      <td>0</td>\n",
              "      <td>0.04</td>\n",
              "    </tr>\n",
              "    <tr>\n",
              "      <th>...</th>\n",
              "      <td>...</td>\n",
              "      <td>...</td>\n",
              "      <td>...</td>\n",
              "      <td>...</td>\n",
              "      <td>...</td>\n",
              "      <td>...</td>\n",
              "      <td>...</td>\n",
              "      <td>...</td>\n",
              "      <td>...</td>\n",
              "    </tr>\n",
              "    <tr>\n",
              "      <th>16236</th>\n",
              "      <td>Ice Age 2: The Meltdown</td>\n",
              "      <td>GC</td>\n",
              "      <td>2006.0</td>\n",
              "      <td>Platform</td>\n",
              "      <td>Vivendi Games</td>\n",
              "      <td>0.15</td>\n",
              "      <td>0.04</td>\n",
              "      <td>0</td>\n",
              "      <td>0.01</td>\n",
              "    </tr>\n",
              "    <tr>\n",
              "      <th>16237</th>\n",
              "      <td>Rainbow Islands: Revolution</td>\n",
              "      <td>PSP</td>\n",
              "      <td>2005.0</td>\n",
              "      <td>Action</td>\n",
              "      <td>Rising Star Games</td>\n",
              "      <td>0.01</td>\n",
              "      <td>0</td>\n",
              "      <td>0</td>\n",
              "      <td>0</td>\n",
              "    </tr>\n",
              "    <tr>\n",
              "      <th>16238</th>\n",
              "      <td>NBA 2K16</td>\n",
              "      <td>PS3</td>\n",
              "      <td>2015.0</td>\n",
              "      <td>Sports</td>\n",
              "      <td>Take-Two Interactive</td>\n",
              "      <td>0.44</td>\n",
              "      <td>0.19</td>\n",
              "      <td>0.03</td>\n",
              "      <td>0.13</td>\n",
              "    </tr>\n",
              "    <tr>\n",
              "      <th>16239</th>\n",
              "      <td>Toukiden: The Age of Demons</td>\n",
              "      <td>PSV</td>\n",
              "      <td>2013.0</td>\n",
              "      <td>Action</td>\n",
              "      <td>Tecmo Koei</td>\n",
              "      <td>0.05</td>\n",
              "      <td>0.05</td>\n",
              "      <td>0.25</td>\n",
              "      <td>0.03</td>\n",
              "    </tr>\n",
              "    <tr>\n",
              "      <th>16240</th>\n",
              "      <td>The King of Fighters '95</td>\n",
              "      <td>PS</td>\n",
              "      <td>1996.0</td>\n",
              "      <td>Fighting</td>\n",
              "      <td>Sony Computer Entertainment</td>\n",
              "      <td>0</td>\n",
              "      <td>0</td>\n",
              "      <td>0.16</td>\n",
              "      <td>0.01</td>\n",
              "    </tr>\n",
              "  </tbody>\n",
              "</table>\n",
              "<p>16241 rows × 9 columns</p>\n",
              "</div>\n",
              "      <button class=\"colab-df-convert\" onclick=\"convertToInteractive('df-ee89db0e-dfc2-4b82-b594-b69a83545333')\"\n",
              "              title=\"Convert this dataframe to an interactive table.\"\n",
              "              style=\"display:none;\">\n",
              "        \n",
              "  <svg xmlns=\"http://www.w3.org/2000/svg\" height=\"24px\"viewBox=\"0 0 24 24\"\n",
              "       width=\"24px\">\n",
              "    <path d=\"M0 0h24v24H0V0z\" fill=\"none\"/>\n",
              "    <path d=\"M18.56 5.44l.94 2.06.94-2.06 2.06-.94-2.06-.94-.94-2.06-.94 2.06-2.06.94zm-11 1L8.5 8.5l.94-2.06 2.06-.94-2.06-.94L8.5 2.5l-.94 2.06-2.06.94zm10 10l.94 2.06.94-2.06 2.06-.94-2.06-.94-.94-2.06-.94 2.06-2.06.94z\"/><path d=\"M17.41 7.96l-1.37-1.37c-.4-.4-.92-.59-1.43-.59-.52 0-1.04.2-1.43.59L10.3 9.45l-7.72 7.72c-.78.78-.78 2.05 0 2.83L4 21.41c.39.39.9.59 1.41.59.51 0 1.02-.2 1.41-.59l7.78-7.78 2.81-2.81c.8-.78.8-2.07 0-2.86zM5.41 20L4 18.59l7.72-7.72 1.47 1.35L5.41 20z\"/>\n",
              "  </svg>\n",
              "      </button>\n",
              "      \n",
              "  <style>\n",
              "    .colab-df-container {\n",
              "      display:flex;\n",
              "      flex-wrap:wrap;\n",
              "      gap: 12px;\n",
              "    }\n",
              "\n",
              "    .colab-df-convert {\n",
              "      background-color: #E8F0FE;\n",
              "      border: none;\n",
              "      border-radius: 50%;\n",
              "      cursor: pointer;\n",
              "      display: none;\n",
              "      fill: #1967D2;\n",
              "      height: 32px;\n",
              "      padding: 0 0 0 0;\n",
              "      width: 32px;\n",
              "    }\n",
              "\n",
              "    .colab-df-convert:hover {\n",
              "      background-color: #E2EBFA;\n",
              "      box-shadow: 0px 1px 2px rgba(60, 64, 67, 0.3), 0px 1px 3px 1px rgba(60, 64, 67, 0.15);\n",
              "      fill: #174EA6;\n",
              "    }\n",
              "\n",
              "    [theme=dark] .colab-df-convert {\n",
              "      background-color: #3B4455;\n",
              "      fill: #D2E3FC;\n",
              "    }\n",
              "\n",
              "    [theme=dark] .colab-df-convert:hover {\n",
              "      background-color: #434B5C;\n",
              "      box-shadow: 0px 1px 3px 1px rgba(0, 0, 0, 0.15);\n",
              "      filter: drop-shadow(0px 1px 2px rgba(0, 0, 0, 0.3));\n",
              "      fill: #FFFFFF;\n",
              "    }\n",
              "  </style>\n",
              "\n",
              "      <script>\n",
              "        const buttonEl =\n",
              "          document.querySelector('#df-ee89db0e-dfc2-4b82-b594-b69a83545333 button.colab-df-convert');\n",
              "        buttonEl.style.display =\n",
              "          google.colab.kernel.accessAllowed ? 'block' : 'none';\n",
              "\n",
              "        async function convertToInteractive(key) {\n",
              "          const element = document.querySelector('#df-ee89db0e-dfc2-4b82-b594-b69a83545333');\n",
              "          const dataTable =\n",
              "            await google.colab.kernel.invokeFunction('convertToInteractive',\n",
              "                                                     [key], {});\n",
              "          if (!dataTable) return;\n",
              "\n",
              "          const docLinkHtml = 'Like what you see? Visit the ' +\n",
              "            '<a target=\"_blank\" href=https://colab.research.google.com/notebooks/data_table.ipynb>data table notebook</a>'\n",
              "            + ' to learn more about interactive tables.';\n",
              "          element.innerHTML = '';\n",
              "          dataTable['output_type'] = 'display_data';\n",
              "          await google.colab.output.renderOutput(dataTable, element);\n",
              "          const docLink = document.createElement('div');\n",
              "          docLink.innerHTML = docLinkHtml;\n",
              "          element.appendChild(docLink);\n",
              "        }\n",
              "      </script>\n",
              "    </div>\n",
              "  </div>\n",
              "  "
            ]
          },
          "metadata": {},
          "execution_count": 111
        }
      ]
    },
    {
      "cell_type": "code",
      "source": [
        " #연도를 int로 전환\n",
        " vg2_clean1['Year'] = vg2_clean1['Year'].astype(int);"
      ],
      "metadata": {
        "id": "bglIy4PnGPyT",
        "colab": {
          "base_uri": "https://localhost:8080/"
        },
        "outputId": "af307b62-3e0c-4d62-d418-36a1e54960b7"
      },
      "execution_count": 112,
      "outputs": [
        {
          "output_type": "stream",
          "name": "stderr",
          "text": [
            "/usr/local/lib/python3.7/dist-packages/ipykernel_launcher.py:2: SettingWithCopyWarning:\n",
            "\n",
            "\n",
            "A value is trying to be set on a copy of a slice from a DataFrame.\n",
            "Try using .loc[row_indexer,col_indexer] = value instead\n",
            "\n",
            "See the caveats in the documentation: https://pandas.pydata.org/pandas-docs/stable/user_guide/indexing.html#returning-a-view-versus-a-copy\n",
            "\n"
          ]
        }
      ]
    },
    {
      "cell_type": "code",
      "source": [
        "#연도가 제대로 적혀있지 않음 -> 22년도 이상은 1900년도, 22아래는 2000년도 이후로 추정되어 더해준다\n",
        "vg2_clean1.sort_values(by='Year')\n",
        "\n",
        "#제대로 연도가 찍힌 행 아닌 행 구분\n",
        "vg2_clean2 = vg2_clean1.loc[vg2_clean1['Year']>=1980]\n",
        "vg2_clean3 = vg2_clean1.loc[vg2_clean1['Year']<1980]"
      ],
      "metadata": {
        "id": "ivl6l97VJ4hh"
      },
      "execution_count": 113,
      "outputs": []
    },
    {
      "cell_type": "code",
      "source": [
        "#날짜 오류인 애들 바꿔주기\n",
        "def test(x):\n",
        "  if x<22: return x+2000\n",
        "  elif x>22 and x<100: return x+1900\n",
        "  else: return x\n",
        "vg2_clean3['Year'] = vg2_clean3['Year'].apply(test);\n"
      ],
      "metadata": {
        "id": "5qPG40GWw0yZ",
        "colab": {
          "base_uri": "https://localhost:8080/"
        },
        "outputId": "019ae93e-e824-4de8-ab6b-379e152b7ce7"
      },
      "execution_count": 114,
      "outputs": [
        {
          "output_type": "stream",
          "name": "stderr",
          "text": [
            "/usr/local/lib/python3.7/dist-packages/ipykernel_launcher.py:6: SettingWithCopyWarning:\n",
            "\n",
            "\n",
            "A value is trying to be set on a copy of a slice from a DataFrame.\n",
            "Try using .loc[row_indexer,col_indexer] = value instead\n",
            "\n",
            "See the caveats in the documentation: https://pandas.pydata.org/pandas-docs/stable/user_guide/indexing.html#returning-a-view-versus-a-copy\n",
            "\n"
          ]
        }
      ]
    },
    {
      "cell_type": "code",
      "source": [
        "#바꾼 애들 합쳐주기 \n",
        "vg2_clean = pd.concat([vg2_clean2, vg2_clean3])\n",
        "vg2_clean=vg2_clean.reset_index(drop = True)"
      ],
      "metadata": {
        "id": "VaffUYt2xMrR"
      },
      "execution_count": 115,
      "outputs": []
    },
    {
      "cell_type": "code",
      "source": [
        "vg2_clean.head(50)"
      ],
      "metadata": {
        "colab": {
          "base_uri": "https://localhost:8080/",
          "height": 1000
        },
        "id": "q-r0QNaTQj5O",
        "outputId": "3d7b5ffb-7185-42d3-c174-0b863b261e41"
      },
      "execution_count": 135,
      "outputs": [
        {
          "output_type": "execute_result",
          "data": {
            "text/plain": [
              "                                                 Name Platform  Year  \\\n",
              "0                        Candace Kane's Candy Factory       DS  2008   \n",
              "1                                      The Munchables      Wii  2009   \n",
              "2      Otome wa Oanesama Boku ni Koi Shiteru Portable      PSP  2010   \n",
              "3                    Deal or No Deal: Special Edition       DS  2010   \n",
              "4           Ben 10 Ultimate Alien: Cosmic Destruction      PS3  2010   \n",
              "5                              Power Pro Kun Pocket 8       DS  2005   \n",
              "6               JASF: Jane's Advanced Strike Fighters       PC  2011   \n",
              "7                      Samurai Warriors: State of War      PSP  2005   \n",
              "8                                          Imabikisou      PS3  2007   \n",
              "9   The Penguins of Madagascar: Dr. Blowhole Retur...      PS3  2011   \n",
              "10                                        Ford Racing       PS  2001   \n",
              "11         Harvest Moon: More Friends of Mineral Town      GBA  2003   \n",
              "12                                      Mount & Blade       PC  2008   \n",
              "13               The Professor's Brain Trainer: Logic       DS  2005   \n",
              "14                                         Zoids Dash       DS  2006   \n",
              "15                                        Mini Ninjas      PS3  2009   \n",
              "16                                    Rise of Nations       PC  2003   \n",
              "17               Hajime no Ippo: The Fighting! (2014)      PS3  2014   \n",
              "18                                      Grand Kingdom      PS4  2015   \n",
              "19                                   Tropico Reloaded       PC  2009   \n",
              "20                             Ty the Tasmanian Tiger      PS2  2002   \n",
              "21                                 Ghost in the Shell       PS  1997   \n",
              "22                         Cabela's Dangerous Hunts 2       XB  2005   \n",
              "23                             Don Bradman Cricket 14     X360  2014   \n",
              "24                           Injustice: Gods Among Us      PS3  2013   \n",
              "25                                           Dr. Muto       GC  2002   \n",
              "26                Starwinder: The Ultimate Space Race       PS  1996   \n",
              "27                                     World of Tanks       PC  2011   \n",
              "28                            Famicom Mini: Makaimura      GBA  2004   \n",
              "29           McGrath Vs. Pastrana Freestyle Motocross       PS  2000   \n",
              "30                        Kids Learn Music A+ Edition       DS  2011   \n",
              "31                 Project Sylpheed: Arc of Deception     X360  2006   \n",
              "32  Mario & Luigi: Paper Jam & Mario Kart 7 Double...      3DS  2015   \n",
              "33                    Mega Man Anniversary Collection      PS2  2004   \n",
              "34                                            G-Force      Wii  2009   \n",
              "35                          Advance Wars: Dual Strike       DS  2005   \n",
              "36                                          Beamrider     2600  1984   \n",
              "37                                       Ninja Reflex      Wii  2008   \n",
              "38                        FIFA World Cup Germany 2006       XB  2006   \n",
              "39                                      Vagrant Story       PS  2000   \n",
              "40                                   Knights of Honor       PC  2004   \n",
              "41  Phoenix Wright: Ace Attorney - Trials and Trib...       DS  2007   \n",
              "42       Shugo Chara! 3-tsu no Tamagoto Koisuru Joker       DS  2008   \n",
              "43                                           Crysis 3     X360  2013   \n",
              "44                       Resident Evil: Revelations 2      PS3  2015   \n",
              "45  Nippon Daihyou Team no Kantoku ni Narou! Sekai...      SAT  1998   \n",
              "46                                   Sega Soccer Slam      PS2  2002   \n",
              "47                       Hellboy: The Science of Evil      PS3  2008   \n",
              "48                        Dreamworks Madagascar Kartz     X360  2009   \n",
              "49                           Chaotic: Shadow Warriors      Wii  2009   \n",
              "\n",
              "           Genre                               Publisher  NA_Sales  EU_Sales  \\\n",
              "0         Action                               Destineer      0.04      0.00   \n",
              "1         Action                      Namco Bandai Games      0.17      0.00   \n",
              "2      Adventure                               Alchemist      0.00      0.00   \n",
              "3           Misc                               Zoo Games      0.04      0.00   \n",
              "4       Platform                             D3Publisher      0.12      0.09   \n",
              "5         Sports            Konami Digital Entertainment      0.00      0.00   \n",
              "6     Simulation                             Deep Silver      0.02      0.01   \n",
              "7         Action                              Tecmo Koei      0.07      0.00   \n",
              "8      Adventure                                    Sega      0.00      0.00   \n",
              "9         Action                                     THQ      0.04      0.03   \n",
              "10        Racing                      Empire Interactive      0.48      0.33   \n",
              "11    Simulation                                 Ubisoft      0.14      0.05   \n",
              "12  Role-Playing                     Paradox Interactive      0.00      0.02   \n",
              "13        Puzzle                               505 Games      0.02      0.00   \n",
              "14  Role-Playing                        Tomy Corporation      0.00      0.00   \n",
              "15        Action                       Eidos Interactive      0.14      0.16   \n",
              "16      Strategy                  Microsoft Game Studios      0.01      0.02   \n",
              "17        Sports                      Namco Bandai Games      0.00      0.00   \n",
              "18  Role-Playing                    Nippon Ichi Software      0.02      0.00   \n",
              "19      Strategy                           Kalypso Media      0.00      0.02   \n",
              "20      Platform                         Electronic Arts      0.57      0.45   \n",
              "21    Simulation             Sony Computer Entertainment      0.06      0.04   \n",
              "22        Sports                              Activision      0.08      0.02   \n",
              "23        Sports                   Tru Blu Entertainment      0.00      0.01   \n",
              "24      Fighting  Warner Bros. Interactive Entertainment      0.48      0.53   \n",
              "25      Platform                            Midway Games      0.02      0.01   \n",
              "26        Racing                               Mindscape      0.03      0.02   \n",
              "27       Shooter                           Wargaming.net      0.00      0.23   \n",
              "28      Platform                                  Capcom      0.00      0.00   \n",
              "29        Racing                   Acclaim Entertainment      0.14      0.10   \n",
              "30          Misc                                 Unknown      0.05      0.00   \n",
              "31       Shooter                  Microsoft Game Studios      0.12      0.01   \n",
              "32          Misc                                Nintendo      0.00      0.00   \n",
              "33      Platform                                  Capcom      0.29      0.22   \n",
              "34        Action              Disney Interactive Studios      0.19      0.20   \n",
              "35      Strategy                                Nintendo      0.30      0.03   \n",
              "36        Racing                              Activision      0.26      0.01   \n",
              "37        Action                         Electronic Arts      0.11      0.01   \n",
              "38        Sports                         Electronic Arts      0.18      0.05   \n",
              "39  Role-Playing                     Crave Entertainment      0.30      0.20   \n",
              "40      Strategy                              Sunflowers      0.00      0.02   \n",
              "41     Adventure                                  Capcom      0.33      0.05   \n",
              "42        Action            Konami Digital Entertainment      0.00      0.00   \n",
              "43       Shooter                         Electronic Arts      0.51      0.33   \n",
              "44        Action                                  Capcom      0.06      0.08   \n",
              "45        Sports                                    Sega      0.00      0.00   \n",
              "46        Sports                                    Sega      0.06      0.05   \n",
              "47        Action            Konami Digital Entertainment      0.13      0.02   \n",
              "48        Racing                              Activision      0.14      0.09   \n",
              "49        Action                              Activision      0.18      0.00   \n",
              "\n",
              "    JP_Sales  Other_Sales  \n",
              "0       0.00         0.00  \n",
              "1       0.00         0.01  \n",
              "2       0.02         0.00  \n",
              "3       0.00         0.00  \n",
              "4       0.00         0.04  \n",
              "5       0.14         0.00  \n",
              "6       0.00         0.00  \n",
              "7       0.11         0.01  \n",
              "8       0.04         0.00  \n",
              "9       0.00         0.01  \n",
              "10      0.00         0.06  \n",
              "11      0.00         0.00  \n",
              "12      0.00         0.00  \n",
              "13      0.00         0.00  \n",
              "14      0.02         0.00  \n",
              "15      0.00         0.06  \n",
              "16      0.00         0.01  \n",
              "17      0.03         0.00  \n",
              "18      0.03         0.00  \n",
              "19      0.00         0.00  \n",
              "20      0.00         0.15  \n",
              "21      0.00         0.01  \n",
              "22      0.00         0.00  \n",
              "23      0.00         0.00  \n",
              "24      0.01         0.23  \n",
              "25      0.00         0.00  \n",
              "26      0.00         0.00  \n",
              "27      0.00         0.06  \n",
              "28      0.08         0.00  \n",
              "29      0.00         0.02  \n",
              "30      0.00         0.00  \n",
              "31      0.02         0.01  \n",
              "32      0.01         0.00  \n",
              "33      0.00         0.08  \n",
              "34      0.00         0.05  \n",
              "35      0.04         0.03  \n",
              "36      0.00         0.00  \n",
              "37      0.00         0.01  \n",
              "38      0.00         0.01  \n",
              "39      0.30         0.06  \n",
              "40      0.00         0.01  \n",
              "41      0.25         0.04  \n",
              "42      0.05         0.00  \n",
              "43      0.01         0.08  \n",
              "44      0.16         0.03  \n",
              "45      0.12         0.00  \n",
              "46      0.00         0.02  \n",
              "47      0.00         0.02  \n",
              "48      0.00         0.02  \n",
              "49      0.00         0.01  "
            ],
            "text/html": [
              "\n",
              "  <div id=\"df-250a5c0b-d9ca-4352-b3f0-56447c3caef0\">\n",
              "    <div class=\"colab-df-container\">\n",
              "      <div>\n",
              "<style scoped>\n",
              "    .dataframe tbody tr th:only-of-type {\n",
              "        vertical-align: middle;\n",
              "    }\n",
              "\n",
              "    .dataframe tbody tr th {\n",
              "        vertical-align: top;\n",
              "    }\n",
              "\n",
              "    .dataframe thead th {\n",
              "        text-align: right;\n",
              "    }\n",
              "</style>\n",
              "<table border=\"1\" class=\"dataframe\">\n",
              "  <thead>\n",
              "    <tr style=\"text-align: right;\">\n",
              "      <th></th>\n",
              "      <th>Name</th>\n",
              "      <th>Platform</th>\n",
              "      <th>Year</th>\n",
              "      <th>Genre</th>\n",
              "      <th>Publisher</th>\n",
              "      <th>NA_Sales</th>\n",
              "      <th>EU_Sales</th>\n",
              "      <th>JP_Sales</th>\n",
              "      <th>Other_Sales</th>\n",
              "    </tr>\n",
              "  </thead>\n",
              "  <tbody>\n",
              "    <tr>\n",
              "      <th>0</th>\n",
              "      <td>Candace Kane's Candy Factory</td>\n",
              "      <td>DS</td>\n",
              "      <td>2008</td>\n",
              "      <td>Action</td>\n",
              "      <td>Destineer</td>\n",
              "      <td>0.04</td>\n",
              "      <td>0.00</td>\n",
              "      <td>0.00</td>\n",
              "      <td>0.00</td>\n",
              "    </tr>\n",
              "    <tr>\n",
              "      <th>1</th>\n",
              "      <td>The Munchables</td>\n",
              "      <td>Wii</td>\n",
              "      <td>2009</td>\n",
              "      <td>Action</td>\n",
              "      <td>Namco Bandai Games</td>\n",
              "      <td>0.17</td>\n",
              "      <td>0.00</td>\n",
              "      <td>0.00</td>\n",
              "      <td>0.01</td>\n",
              "    </tr>\n",
              "    <tr>\n",
              "      <th>2</th>\n",
              "      <td>Otome wa Oanesama Boku ni Koi Shiteru Portable</td>\n",
              "      <td>PSP</td>\n",
              "      <td>2010</td>\n",
              "      <td>Adventure</td>\n",
              "      <td>Alchemist</td>\n",
              "      <td>0.00</td>\n",
              "      <td>0.00</td>\n",
              "      <td>0.02</td>\n",
              "      <td>0.00</td>\n",
              "    </tr>\n",
              "    <tr>\n",
              "      <th>3</th>\n",
              "      <td>Deal or No Deal: Special Edition</td>\n",
              "      <td>DS</td>\n",
              "      <td>2010</td>\n",
              "      <td>Misc</td>\n",
              "      <td>Zoo Games</td>\n",
              "      <td>0.04</td>\n",
              "      <td>0.00</td>\n",
              "      <td>0.00</td>\n",
              "      <td>0.00</td>\n",
              "    </tr>\n",
              "    <tr>\n",
              "      <th>4</th>\n",
              "      <td>Ben 10 Ultimate Alien: Cosmic Destruction</td>\n",
              "      <td>PS3</td>\n",
              "      <td>2010</td>\n",
              "      <td>Platform</td>\n",
              "      <td>D3Publisher</td>\n",
              "      <td>0.12</td>\n",
              "      <td>0.09</td>\n",
              "      <td>0.00</td>\n",
              "      <td>0.04</td>\n",
              "    </tr>\n",
              "    <tr>\n",
              "      <th>5</th>\n",
              "      <td>Power Pro Kun Pocket 8</td>\n",
              "      <td>DS</td>\n",
              "      <td>2005</td>\n",
              "      <td>Sports</td>\n",
              "      <td>Konami Digital Entertainment</td>\n",
              "      <td>0.00</td>\n",
              "      <td>0.00</td>\n",
              "      <td>0.14</td>\n",
              "      <td>0.00</td>\n",
              "    </tr>\n",
              "    <tr>\n",
              "      <th>6</th>\n",
              "      <td>JASF: Jane's Advanced Strike Fighters</td>\n",
              "      <td>PC</td>\n",
              "      <td>2011</td>\n",
              "      <td>Simulation</td>\n",
              "      <td>Deep Silver</td>\n",
              "      <td>0.02</td>\n",
              "      <td>0.01</td>\n",
              "      <td>0.00</td>\n",
              "      <td>0.00</td>\n",
              "    </tr>\n",
              "    <tr>\n",
              "      <th>7</th>\n",
              "      <td>Samurai Warriors: State of War</td>\n",
              "      <td>PSP</td>\n",
              "      <td>2005</td>\n",
              "      <td>Action</td>\n",
              "      <td>Tecmo Koei</td>\n",
              "      <td>0.07</td>\n",
              "      <td>0.00</td>\n",
              "      <td>0.11</td>\n",
              "      <td>0.01</td>\n",
              "    </tr>\n",
              "    <tr>\n",
              "      <th>8</th>\n",
              "      <td>Imabikisou</td>\n",
              "      <td>PS3</td>\n",
              "      <td>2007</td>\n",
              "      <td>Adventure</td>\n",
              "      <td>Sega</td>\n",
              "      <td>0.00</td>\n",
              "      <td>0.00</td>\n",
              "      <td>0.04</td>\n",
              "      <td>0.00</td>\n",
              "    </tr>\n",
              "    <tr>\n",
              "      <th>9</th>\n",
              "      <td>The Penguins of Madagascar: Dr. Blowhole Retur...</td>\n",
              "      <td>PS3</td>\n",
              "      <td>2011</td>\n",
              "      <td>Action</td>\n",
              "      <td>THQ</td>\n",
              "      <td>0.04</td>\n",
              "      <td>0.03</td>\n",
              "      <td>0.00</td>\n",
              "      <td>0.01</td>\n",
              "    </tr>\n",
              "    <tr>\n",
              "      <th>10</th>\n",
              "      <td>Ford Racing</td>\n",
              "      <td>PS</td>\n",
              "      <td>2001</td>\n",
              "      <td>Racing</td>\n",
              "      <td>Empire Interactive</td>\n",
              "      <td>0.48</td>\n",
              "      <td>0.33</td>\n",
              "      <td>0.00</td>\n",
              "      <td>0.06</td>\n",
              "    </tr>\n",
              "    <tr>\n",
              "      <th>11</th>\n",
              "      <td>Harvest Moon: More Friends of Mineral Town</td>\n",
              "      <td>GBA</td>\n",
              "      <td>2003</td>\n",
              "      <td>Simulation</td>\n",
              "      <td>Ubisoft</td>\n",
              "      <td>0.14</td>\n",
              "      <td>0.05</td>\n",
              "      <td>0.00</td>\n",
              "      <td>0.00</td>\n",
              "    </tr>\n",
              "    <tr>\n",
              "      <th>12</th>\n",
              "      <td>Mount &amp; Blade</td>\n",
              "      <td>PC</td>\n",
              "      <td>2008</td>\n",
              "      <td>Role-Playing</td>\n",
              "      <td>Paradox Interactive</td>\n",
              "      <td>0.00</td>\n",
              "      <td>0.02</td>\n",
              "      <td>0.00</td>\n",
              "      <td>0.00</td>\n",
              "    </tr>\n",
              "    <tr>\n",
              "      <th>13</th>\n",
              "      <td>The Professor's Brain Trainer: Logic</td>\n",
              "      <td>DS</td>\n",
              "      <td>2005</td>\n",
              "      <td>Puzzle</td>\n",
              "      <td>505 Games</td>\n",
              "      <td>0.02</td>\n",
              "      <td>0.00</td>\n",
              "      <td>0.00</td>\n",
              "      <td>0.00</td>\n",
              "    </tr>\n",
              "    <tr>\n",
              "      <th>14</th>\n",
              "      <td>Zoids Dash</td>\n",
              "      <td>DS</td>\n",
              "      <td>2006</td>\n",
              "      <td>Role-Playing</td>\n",
              "      <td>Tomy Corporation</td>\n",
              "      <td>0.00</td>\n",
              "      <td>0.00</td>\n",
              "      <td>0.02</td>\n",
              "      <td>0.00</td>\n",
              "    </tr>\n",
              "    <tr>\n",
              "      <th>15</th>\n",
              "      <td>Mini Ninjas</td>\n",
              "      <td>PS3</td>\n",
              "      <td>2009</td>\n",
              "      <td>Action</td>\n",
              "      <td>Eidos Interactive</td>\n",
              "      <td>0.14</td>\n",
              "      <td>0.16</td>\n",
              "      <td>0.00</td>\n",
              "      <td>0.06</td>\n",
              "    </tr>\n",
              "    <tr>\n",
              "      <th>16</th>\n",
              "      <td>Rise of Nations</td>\n",
              "      <td>PC</td>\n",
              "      <td>2003</td>\n",
              "      <td>Strategy</td>\n",
              "      <td>Microsoft Game Studios</td>\n",
              "      <td>0.01</td>\n",
              "      <td>0.02</td>\n",
              "      <td>0.00</td>\n",
              "      <td>0.01</td>\n",
              "    </tr>\n",
              "    <tr>\n",
              "      <th>17</th>\n",
              "      <td>Hajime no Ippo: The Fighting! (2014)</td>\n",
              "      <td>PS3</td>\n",
              "      <td>2014</td>\n",
              "      <td>Sports</td>\n",
              "      <td>Namco Bandai Games</td>\n",
              "      <td>0.00</td>\n",
              "      <td>0.00</td>\n",
              "      <td>0.03</td>\n",
              "      <td>0.00</td>\n",
              "    </tr>\n",
              "    <tr>\n",
              "      <th>18</th>\n",
              "      <td>Grand Kingdom</td>\n",
              "      <td>PS4</td>\n",
              "      <td>2015</td>\n",
              "      <td>Role-Playing</td>\n",
              "      <td>Nippon Ichi Software</td>\n",
              "      <td>0.02</td>\n",
              "      <td>0.00</td>\n",
              "      <td>0.03</td>\n",
              "      <td>0.00</td>\n",
              "    </tr>\n",
              "    <tr>\n",
              "      <th>19</th>\n",
              "      <td>Tropico Reloaded</td>\n",
              "      <td>PC</td>\n",
              "      <td>2009</td>\n",
              "      <td>Strategy</td>\n",
              "      <td>Kalypso Media</td>\n",
              "      <td>0.00</td>\n",
              "      <td>0.02</td>\n",
              "      <td>0.00</td>\n",
              "      <td>0.00</td>\n",
              "    </tr>\n",
              "    <tr>\n",
              "      <th>20</th>\n",
              "      <td>Ty the Tasmanian Tiger</td>\n",
              "      <td>PS2</td>\n",
              "      <td>2002</td>\n",
              "      <td>Platform</td>\n",
              "      <td>Electronic Arts</td>\n",
              "      <td>0.57</td>\n",
              "      <td>0.45</td>\n",
              "      <td>0.00</td>\n",
              "      <td>0.15</td>\n",
              "    </tr>\n",
              "    <tr>\n",
              "      <th>21</th>\n",
              "      <td>Ghost in the Shell</td>\n",
              "      <td>PS</td>\n",
              "      <td>1997</td>\n",
              "      <td>Simulation</td>\n",
              "      <td>Sony Computer Entertainment</td>\n",
              "      <td>0.06</td>\n",
              "      <td>0.04</td>\n",
              "      <td>0.00</td>\n",
              "      <td>0.01</td>\n",
              "    </tr>\n",
              "    <tr>\n",
              "      <th>22</th>\n",
              "      <td>Cabela's Dangerous Hunts 2</td>\n",
              "      <td>XB</td>\n",
              "      <td>2005</td>\n",
              "      <td>Sports</td>\n",
              "      <td>Activision</td>\n",
              "      <td>0.08</td>\n",
              "      <td>0.02</td>\n",
              "      <td>0.00</td>\n",
              "      <td>0.00</td>\n",
              "    </tr>\n",
              "    <tr>\n",
              "      <th>23</th>\n",
              "      <td>Don Bradman Cricket 14</td>\n",
              "      <td>X360</td>\n",
              "      <td>2014</td>\n",
              "      <td>Sports</td>\n",
              "      <td>Tru Blu Entertainment</td>\n",
              "      <td>0.00</td>\n",
              "      <td>0.01</td>\n",
              "      <td>0.00</td>\n",
              "      <td>0.00</td>\n",
              "    </tr>\n",
              "    <tr>\n",
              "      <th>24</th>\n",
              "      <td>Injustice: Gods Among Us</td>\n",
              "      <td>PS3</td>\n",
              "      <td>2013</td>\n",
              "      <td>Fighting</td>\n",
              "      <td>Warner Bros. Interactive Entertainment</td>\n",
              "      <td>0.48</td>\n",
              "      <td>0.53</td>\n",
              "      <td>0.01</td>\n",
              "      <td>0.23</td>\n",
              "    </tr>\n",
              "    <tr>\n",
              "      <th>25</th>\n",
              "      <td>Dr. Muto</td>\n",
              "      <td>GC</td>\n",
              "      <td>2002</td>\n",
              "      <td>Platform</td>\n",
              "      <td>Midway Games</td>\n",
              "      <td>0.02</td>\n",
              "      <td>0.01</td>\n",
              "      <td>0.00</td>\n",
              "      <td>0.00</td>\n",
              "    </tr>\n",
              "    <tr>\n",
              "      <th>26</th>\n",
              "      <td>Starwinder: The Ultimate Space Race</td>\n",
              "      <td>PS</td>\n",
              "      <td>1996</td>\n",
              "      <td>Racing</td>\n",
              "      <td>Mindscape</td>\n",
              "      <td>0.03</td>\n",
              "      <td>0.02</td>\n",
              "      <td>0.00</td>\n",
              "      <td>0.00</td>\n",
              "    </tr>\n",
              "    <tr>\n",
              "      <th>27</th>\n",
              "      <td>World of Tanks</td>\n",
              "      <td>PC</td>\n",
              "      <td>2011</td>\n",
              "      <td>Shooter</td>\n",
              "      <td>Wargaming.net</td>\n",
              "      <td>0.00</td>\n",
              "      <td>0.23</td>\n",
              "      <td>0.00</td>\n",
              "      <td>0.06</td>\n",
              "    </tr>\n",
              "    <tr>\n",
              "      <th>28</th>\n",
              "      <td>Famicom Mini: Makaimura</td>\n",
              "      <td>GBA</td>\n",
              "      <td>2004</td>\n",
              "      <td>Platform</td>\n",
              "      <td>Capcom</td>\n",
              "      <td>0.00</td>\n",
              "      <td>0.00</td>\n",
              "      <td>0.08</td>\n",
              "      <td>0.00</td>\n",
              "    </tr>\n",
              "    <tr>\n",
              "      <th>29</th>\n",
              "      <td>McGrath Vs. Pastrana Freestyle Motocross</td>\n",
              "      <td>PS</td>\n",
              "      <td>2000</td>\n",
              "      <td>Racing</td>\n",
              "      <td>Acclaim Entertainment</td>\n",
              "      <td>0.14</td>\n",
              "      <td>0.10</td>\n",
              "      <td>0.00</td>\n",
              "      <td>0.02</td>\n",
              "    </tr>\n",
              "    <tr>\n",
              "      <th>30</th>\n",
              "      <td>Kids Learn Music A+ Edition</td>\n",
              "      <td>DS</td>\n",
              "      <td>2011</td>\n",
              "      <td>Misc</td>\n",
              "      <td>Unknown</td>\n",
              "      <td>0.05</td>\n",
              "      <td>0.00</td>\n",
              "      <td>0.00</td>\n",
              "      <td>0.00</td>\n",
              "    </tr>\n",
              "    <tr>\n",
              "      <th>31</th>\n",
              "      <td>Project Sylpheed: Arc of Deception</td>\n",
              "      <td>X360</td>\n",
              "      <td>2006</td>\n",
              "      <td>Shooter</td>\n",
              "      <td>Microsoft Game Studios</td>\n",
              "      <td>0.12</td>\n",
              "      <td>0.01</td>\n",
              "      <td>0.02</td>\n",
              "      <td>0.01</td>\n",
              "    </tr>\n",
              "    <tr>\n",
              "      <th>32</th>\n",
              "      <td>Mario &amp; Luigi: Paper Jam &amp; Mario Kart 7 Double...</td>\n",
              "      <td>3DS</td>\n",
              "      <td>2015</td>\n",
              "      <td>Misc</td>\n",
              "      <td>Nintendo</td>\n",
              "      <td>0.00</td>\n",
              "      <td>0.00</td>\n",
              "      <td>0.01</td>\n",
              "      <td>0.00</td>\n",
              "    </tr>\n",
              "    <tr>\n",
              "      <th>33</th>\n",
              "      <td>Mega Man Anniversary Collection</td>\n",
              "      <td>PS2</td>\n",
              "      <td>2004</td>\n",
              "      <td>Platform</td>\n",
              "      <td>Capcom</td>\n",
              "      <td>0.29</td>\n",
              "      <td>0.22</td>\n",
              "      <td>0.00</td>\n",
              "      <td>0.08</td>\n",
              "    </tr>\n",
              "    <tr>\n",
              "      <th>34</th>\n",
              "      <td>G-Force</td>\n",
              "      <td>Wii</td>\n",
              "      <td>2009</td>\n",
              "      <td>Action</td>\n",
              "      <td>Disney Interactive Studios</td>\n",
              "      <td>0.19</td>\n",
              "      <td>0.20</td>\n",
              "      <td>0.00</td>\n",
              "      <td>0.05</td>\n",
              "    </tr>\n",
              "    <tr>\n",
              "      <th>35</th>\n",
              "      <td>Advance Wars: Dual Strike</td>\n",
              "      <td>DS</td>\n",
              "      <td>2005</td>\n",
              "      <td>Strategy</td>\n",
              "      <td>Nintendo</td>\n",
              "      <td>0.30</td>\n",
              "      <td>0.03</td>\n",
              "      <td>0.04</td>\n",
              "      <td>0.03</td>\n",
              "    </tr>\n",
              "    <tr>\n",
              "      <th>36</th>\n",
              "      <td>Beamrider</td>\n",
              "      <td>2600</td>\n",
              "      <td>1984</td>\n",
              "      <td>Racing</td>\n",
              "      <td>Activision</td>\n",
              "      <td>0.26</td>\n",
              "      <td>0.01</td>\n",
              "      <td>0.00</td>\n",
              "      <td>0.00</td>\n",
              "    </tr>\n",
              "    <tr>\n",
              "      <th>37</th>\n",
              "      <td>Ninja Reflex</td>\n",
              "      <td>Wii</td>\n",
              "      <td>2008</td>\n",
              "      <td>Action</td>\n",
              "      <td>Electronic Arts</td>\n",
              "      <td>0.11</td>\n",
              "      <td>0.01</td>\n",
              "      <td>0.00</td>\n",
              "      <td>0.01</td>\n",
              "    </tr>\n",
              "    <tr>\n",
              "      <th>38</th>\n",
              "      <td>FIFA World Cup Germany 2006</td>\n",
              "      <td>XB</td>\n",
              "      <td>2006</td>\n",
              "      <td>Sports</td>\n",
              "      <td>Electronic Arts</td>\n",
              "      <td>0.18</td>\n",
              "      <td>0.05</td>\n",
              "      <td>0.00</td>\n",
              "      <td>0.01</td>\n",
              "    </tr>\n",
              "    <tr>\n",
              "      <th>39</th>\n",
              "      <td>Vagrant Story</td>\n",
              "      <td>PS</td>\n",
              "      <td>2000</td>\n",
              "      <td>Role-Playing</td>\n",
              "      <td>Crave Entertainment</td>\n",
              "      <td>0.30</td>\n",
              "      <td>0.20</td>\n",
              "      <td>0.30</td>\n",
              "      <td>0.06</td>\n",
              "    </tr>\n",
              "    <tr>\n",
              "      <th>40</th>\n",
              "      <td>Knights of Honor</td>\n",
              "      <td>PC</td>\n",
              "      <td>2004</td>\n",
              "      <td>Strategy</td>\n",
              "      <td>Sunflowers</td>\n",
              "      <td>0.00</td>\n",
              "      <td>0.02</td>\n",
              "      <td>0.00</td>\n",
              "      <td>0.01</td>\n",
              "    </tr>\n",
              "    <tr>\n",
              "      <th>41</th>\n",
              "      <td>Phoenix Wright: Ace Attorney - Trials and Trib...</td>\n",
              "      <td>DS</td>\n",
              "      <td>2007</td>\n",
              "      <td>Adventure</td>\n",
              "      <td>Capcom</td>\n",
              "      <td>0.33</td>\n",
              "      <td>0.05</td>\n",
              "      <td>0.25</td>\n",
              "      <td>0.04</td>\n",
              "    </tr>\n",
              "    <tr>\n",
              "      <th>42</th>\n",
              "      <td>Shugo Chara! 3-tsu no Tamagoto Koisuru Joker</td>\n",
              "      <td>DS</td>\n",
              "      <td>2008</td>\n",
              "      <td>Action</td>\n",
              "      <td>Konami Digital Entertainment</td>\n",
              "      <td>0.00</td>\n",
              "      <td>0.00</td>\n",
              "      <td>0.05</td>\n",
              "      <td>0.00</td>\n",
              "    </tr>\n",
              "    <tr>\n",
              "      <th>43</th>\n",
              "      <td>Crysis 3</td>\n",
              "      <td>X360</td>\n",
              "      <td>2013</td>\n",
              "      <td>Shooter</td>\n",
              "      <td>Electronic Arts</td>\n",
              "      <td>0.51</td>\n",
              "      <td>0.33</td>\n",
              "      <td>0.01</td>\n",
              "      <td>0.08</td>\n",
              "    </tr>\n",
              "    <tr>\n",
              "      <th>44</th>\n",
              "      <td>Resident Evil: Revelations 2</td>\n",
              "      <td>PS3</td>\n",
              "      <td>2015</td>\n",
              "      <td>Action</td>\n",
              "      <td>Capcom</td>\n",
              "      <td>0.06</td>\n",
              "      <td>0.08</td>\n",
              "      <td>0.16</td>\n",
              "      <td>0.03</td>\n",
              "    </tr>\n",
              "    <tr>\n",
              "      <th>45</th>\n",
              "      <td>Nippon Daihyou Team no Kantoku ni Narou! Sekai...</td>\n",
              "      <td>SAT</td>\n",
              "      <td>1998</td>\n",
              "      <td>Sports</td>\n",
              "      <td>Sega</td>\n",
              "      <td>0.00</td>\n",
              "      <td>0.00</td>\n",
              "      <td>0.12</td>\n",
              "      <td>0.00</td>\n",
              "    </tr>\n",
              "    <tr>\n",
              "      <th>46</th>\n",
              "      <td>Sega Soccer Slam</td>\n",
              "      <td>PS2</td>\n",
              "      <td>2002</td>\n",
              "      <td>Sports</td>\n",
              "      <td>Sega</td>\n",
              "      <td>0.06</td>\n",
              "      <td>0.05</td>\n",
              "      <td>0.00</td>\n",
              "      <td>0.02</td>\n",
              "    </tr>\n",
              "    <tr>\n",
              "      <th>47</th>\n",
              "      <td>Hellboy: The Science of Evil</td>\n",
              "      <td>PS3</td>\n",
              "      <td>2008</td>\n",
              "      <td>Action</td>\n",
              "      <td>Konami Digital Entertainment</td>\n",
              "      <td>0.13</td>\n",
              "      <td>0.02</td>\n",
              "      <td>0.00</td>\n",
              "      <td>0.02</td>\n",
              "    </tr>\n",
              "    <tr>\n",
              "      <th>48</th>\n",
              "      <td>Dreamworks Madagascar Kartz</td>\n",
              "      <td>X360</td>\n",
              "      <td>2009</td>\n",
              "      <td>Racing</td>\n",
              "      <td>Activision</td>\n",
              "      <td>0.14</td>\n",
              "      <td>0.09</td>\n",
              "      <td>0.00</td>\n",
              "      <td>0.02</td>\n",
              "    </tr>\n",
              "    <tr>\n",
              "      <th>49</th>\n",
              "      <td>Chaotic: Shadow Warriors</td>\n",
              "      <td>Wii</td>\n",
              "      <td>2009</td>\n",
              "      <td>Action</td>\n",
              "      <td>Activision</td>\n",
              "      <td>0.18</td>\n",
              "      <td>0.00</td>\n",
              "      <td>0.00</td>\n",
              "      <td>0.01</td>\n",
              "    </tr>\n",
              "  </tbody>\n",
              "</table>\n",
              "</div>\n",
              "      <button class=\"colab-df-convert\" onclick=\"convertToInteractive('df-250a5c0b-d9ca-4352-b3f0-56447c3caef0')\"\n",
              "              title=\"Convert this dataframe to an interactive table.\"\n",
              "              style=\"display:none;\">\n",
              "        \n",
              "  <svg xmlns=\"http://www.w3.org/2000/svg\" height=\"24px\"viewBox=\"0 0 24 24\"\n",
              "       width=\"24px\">\n",
              "    <path d=\"M0 0h24v24H0V0z\" fill=\"none\"/>\n",
              "    <path d=\"M18.56 5.44l.94 2.06.94-2.06 2.06-.94-2.06-.94-.94-2.06-.94 2.06-2.06.94zm-11 1L8.5 8.5l.94-2.06 2.06-.94-2.06-.94L8.5 2.5l-.94 2.06-2.06.94zm10 10l.94 2.06.94-2.06 2.06-.94-2.06-.94-.94-2.06-.94 2.06-2.06.94z\"/><path d=\"M17.41 7.96l-1.37-1.37c-.4-.4-.92-.59-1.43-.59-.52 0-1.04.2-1.43.59L10.3 9.45l-7.72 7.72c-.78.78-.78 2.05 0 2.83L4 21.41c.39.39.9.59 1.41.59.51 0 1.02-.2 1.41-.59l7.78-7.78 2.81-2.81c.8-.78.8-2.07 0-2.86zM5.41 20L4 18.59l7.72-7.72 1.47 1.35L5.41 20z\"/>\n",
              "  </svg>\n",
              "      </button>\n",
              "      \n",
              "  <style>\n",
              "    .colab-df-container {\n",
              "      display:flex;\n",
              "      flex-wrap:wrap;\n",
              "      gap: 12px;\n",
              "    }\n",
              "\n",
              "    .colab-df-convert {\n",
              "      background-color: #E8F0FE;\n",
              "      border: none;\n",
              "      border-radius: 50%;\n",
              "      cursor: pointer;\n",
              "      display: none;\n",
              "      fill: #1967D2;\n",
              "      height: 32px;\n",
              "      padding: 0 0 0 0;\n",
              "      width: 32px;\n",
              "    }\n",
              "\n",
              "    .colab-df-convert:hover {\n",
              "      background-color: #E2EBFA;\n",
              "      box-shadow: 0px 1px 2px rgba(60, 64, 67, 0.3), 0px 1px 3px 1px rgba(60, 64, 67, 0.15);\n",
              "      fill: #174EA6;\n",
              "    }\n",
              "\n",
              "    [theme=dark] .colab-df-convert {\n",
              "      background-color: #3B4455;\n",
              "      fill: #D2E3FC;\n",
              "    }\n",
              "\n",
              "    [theme=dark] .colab-df-convert:hover {\n",
              "      background-color: #434B5C;\n",
              "      box-shadow: 0px 1px 3px 1px rgba(0, 0, 0, 0.15);\n",
              "      filter: drop-shadow(0px 1px 2px rgba(0, 0, 0, 0.3));\n",
              "      fill: #FFFFFF;\n",
              "    }\n",
              "  </style>\n",
              "\n",
              "      <script>\n",
              "        const buttonEl =\n",
              "          document.querySelector('#df-250a5c0b-d9ca-4352-b3f0-56447c3caef0 button.colab-df-convert');\n",
              "        buttonEl.style.display =\n",
              "          google.colab.kernel.accessAllowed ? 'block' : 'none';\n",
              "\n",
              "        async function convertToInteractive(key) {\n",
              "          const element = document.querySelector('#df-250a5c0b-d9ca-4352-b3f0-56447c3caef0');\n",
              "          const dataTable =\n",
              "            await google.colab.kernel.invokeFunction('convertToInteractive',\n",
              "                                                     [key], {});\n",
              "          if (!dataTable) return;\n",
              "\n",
              "          const docLinkHtml = 'Like what you see? Visit the ' +\n",
              "            '<a target=\"_blank\" href=https://colab.research.google.com/notebooks/data_table.ipynb>data table notebook</a>'\n",
              "            + ' to learn more about interactive tables.';\n",
              "          element.innerHTML = '';\n",
              "          dataTable['output_type'] = 'display_data';\n",
              "          await google.colab.output.renderOutput(dataTable, element);\n",
              "          const docLink = document.createElement('div');\n",
              "          docLink.innerHTML = docLinkHtml;\n",
              "          element.appendChild(docLink);\n",
              "        }\n",
              "      </script>\n",
              "    </div>\n",
              "  </div>\n",
              "  "
            ]
          },
          "metadata": {},
          "execution_count": 135
        }
      ]
    },
    {
      "cell_type": "code",
      "source": [
        "def rep ( x):\n",
        "  if x >100: return x/100000\n",
        "  else: return x"
      ],
      "metadata": {
        "id": "oVSdGLWPJVRe"
      },
      "execution_count": 116,
      "outputs": []
    },
    {
      "cell_type": "code",
      "source": [
        "#sales 수치전환\n",
        "vg2_clean.NA_Sales = vg2_clean.NA_Sales.str.replace('M','')\n",
        "vg2_clean.EU_Sales = vg2_clean.EU_Sales.str.replace('M','')\n",
        "vg2_clean.JP_Sales = vg2_clean.JP_Sales.str.replace('M','')\n",
        "vg2_clean.Other_Sales = vg2_clean.Other_Sales.str.replace('M','')\n",
        "\n",
        "vg2_clean.NA_Sales = vg2_clean.NA_Sales.str.replace('K','00')\n",
        "vg2_clean.EU_Sales = vg2_clean.EU_Sales.str.replace('K','00')\n",
        "vg2_clean.JP_Sales = vg2_clean.JP_Sales.str.replace('K','00')\n",
        "vg2_clean.Other_Sales = vg2_clean.Other_Sales.str.replace('K','00')\n",
        "\n",
        "vg2_clean.NA_Sales = vg2_clean.NA_Sales.astype(float)\n",
        "vg2_clean.EU_Sales = vg2_clean.EU_Sales.astype(float)\n",
        "vg2_clean.JP_Sales = vg2_clean.JP_Sales.astype(float)\n",
        "vg2_clean.Other_Sales = vg2_clean.Other_Sales.astype(float)\n",
        "\n",
        "vg2_clean.NA_Sales = vg2_clean.NA_Sales.apply(rep)\n",
        "vg2_clean.NA_Sales = vg2_clean.NA_Sales.apply(rep)\n",
        "vg2_clean.EU_Sales = vg2_clean.EU_Sales.apply(rep)\n",
        "vg2_clean.JP_Sales = vg2_clean.JP_Sales.apply(rep)\n",
        "vg2_clean.Other_Sales = vg2_clean.Other_Sales.apply(rep)"
      ],
      "metadata": {
        "id": "XIx97h_qe8CQ"
      },
      "execution_count": 117,
      "outputs": []
    },
    {
      "cell_type": "code",
      "source": [
        "vg2_clean[['NA_Sales','EU_Sales','JP_Sales','Other_Sales']] = round(vg2_clean[['NA_Sales','EU_Sales','JP_Sales','Other_Sales']],2)"
      ],
      "metadata": {
        "id": "DHs8lTj2chCr"
      },
      "execution_count": 118,
      "outputs": []
    },
    {
      "cell_type": "code",
      "source": [
        "vg2_clean.shape"
      ],
      "metadata": {
        "colab": {
          "base_uri": "https://localhost:8080/"
        },
        "id": "gb19EgXvK5H_",
        "outputId": "87f3ae0e-7a09-4464-9d11-0f9b4121c6ff"
      },
      "execution_count": 119,
      "outputs": [
        {
          "output_type": "execute_result",
          "data": {
            "text/plain": [
              "(16241, 9)"
            ]
          },
          "metadata": {},
          "execution_count": 119
        }
      ]
    },
    {
      "cell_type": "markdown",
      "source": [
        "# 정보 내용들 "
      ],
      "metadata": {
        "id": "0nFXZ__z7Qoe"
      }
    },
    {
      "cell_type": "code",
      "source": [
        "#2006-2010년도는 콘솔 게임의 호황기 추정,그 당시 Nintendo 회사에서 wii가 만들어졌고 PS3시리즈가 나오면서 다양한 게임들이 콘솔로 만들어짐\n",
        "vg2_clean['Year'].value_counts()"
      ],
      "metadata": {
        "id": "o6ZMfI-eX2Ab",
        "colab": {
          "base_uri": "https://localhost:8080/"
        },
        "outputId": "44433706-da15-4b6b-d238-ceddf31e5fef"
      },
      "execution_count": 73,
      "outputs": [
        {
          "output_type": "execute_result",
          "data": {
            "text/plain": [
              "2009    1428\n",
              "2008    1423\n",
              "2010    1253\n",
              "2007    1195\n",
              "2011    1133\n",
              "2006    1005\n",
              "2005     934\n",
              "2002     826\n",
              "2003     774\n",
              "2004     740\n",
              "2012     652\n",
              "2015     611\n",
              "2014     580\n",
              "2013     545\n",
              "2001     480\n",
              "1998     377\n",
              "2000     348\n",
              "2016     342\n",
              "1999     336\n",
              "1997     289\n",
              "1996     262\n",
              "1995     219\n",
              "1994     121\n",
              "1993      60\n",
              "1981      46\n",
              "1992      43\n",
              "1991      41\n",
              "1982      36\n",
              "1986      21\n",
              "1989      17\n",
              "1983      17\n",
              "1990      16\n",
              "1987      16\n",
              "1988      15\n",
              "1984      14\n",
              "1985      14\n",
              "1980       8\n",
              "2017       3\n",
              "2020       1\n",
              "Name: Year, dtype: int64"
            ]
          },
          "metadata": {},
          "execution_count": 73
        }
      ]
    },
    {
      "cell_type": "markdown",
      "source": [
        "https://img1.daumcdn.net/thumb/R1280x0/?scode=mtistory2&fname=https%3A%2F%2Fblog.kakaocdn.net%2Fdn%2FGHlYB%2Fbtrq6wr33E3%2F7TzQ3mCAKFOGy4eMg4eZuK%2Fimg.png\n",
        "\n"
      ],
      "metadata": {
        "id": "uxFuZ4HlGZod"
      }
    },
    {
      "cell_type": "code",
      "source": [
        "#장르는 액션게임이 가장 많음\n",
        "vg2_clean['Genre'].value_counts()"
      ],
      "metadata": {
        "id": "XLCfUAc7US0B",
        "colab": {
          "base_uri": "https://localhost:8080/"
        },
        "outputId": "4602926d-4582-438e-abc9-c982b9d0b045"
      },
      "execution_count": 74,
      "outputs": [
        {
          "output_type": "execute_result",
          "data": {
            "text/plain": [
              "Action          3240\n",
              "Sports          2299\n",
              "Misc            1681\n",
              "Role-Playing    1465\n",
              "Shooter         1280\n",
              "Adventure       1268\n",
              "Racing          1219\n",
              "Platform         873\n",
              "Simulation       846\n",
              "Fighting         835\n",
              "Strategy         669\n",
              "Puzzle           566\n",
              "Name: Genre, dtype: int64"
            ]
          },
          "metadata": {},
          "execution_count": 74
        }
      ]
    },
    {
      "cell_type": "code",
      "source": [
        "#게임 플랫폼은 닌텐도, PS시리즈(but, PS4까지 나옴), Wii, xbox, psp, pc등이 있음 \n",
        "vg2_clean.Platform.value_counts()"
      ],
      "metadata": {
        "id": "PEsrbbVswtMj",
        "colab": {
          "base_uri": "https://localhost:8080/"
        },
        "outputId": "bbca620c-5caf-4482-e16f-9886dff3b16b"
      },
      "execution_count": 75,
      "outputs": [
        {
          "output_type": "execute_result",
          "data": {
            "text/plain": [
              "DS      2127\n",
              "PS2     2121\n",
              "PS3     1299\n",
              "Wii     1284\n",
              "X360    1231\n",
              "PSP     1193\n",
              "PS      1185\n",
              "PC       935\n",
              "XB       799\n",
              "GBA      784\n",
              "GC       541\n",
              "3DS      498\n",
              "PSV      409\n",
              "PS4      335\n",
              "N64      313\n",
              "SNES     239\n",
              "XOne     212\n",
              "SAT      173\n",
              "WiiU     143\n",
              "2600     115\n",
              "NES       98\n",
              "GB        97\n",
              "DC        52\n",
              "GEN       27\n",
              "NG        12\n",
              "SCD        6\n",
              "WS         6\n",
              "3DO        3\n",
              "TG16       2\n",
              "GG         1\n",
              "PCFX       1\n",
              "Name: Platform, dtype: int64"
            ]
          },
          "metadata": {},
          "execution_count": 75
        }
      ]
    },
    {
      "cell_type": "markdown",
      "source": [
        "# 분석을 통한 데이터 선택과 집중\n",
        "\n",
        "1)게임 장르를 좁히기\n",
        "\n",
        "2)공략할 시장을 좁히기 \n",
        "\n",
        "3)원하는 데이터만 찾기"
      ],
      "metadata": {
        "id": "WSHWxOQS9IeZ"
      }
    },
    {
      "cell_type": "code",
      "source": [
        "vg2_clean['JP_Sales']"
      ],
      "metadata": {
        "colab": {
          "base_uri": "https://localhost:8080/"
        },
        "id": "Ix0z21li_pmX",
        "outputId": "593cd88b-8deb-4dcf-ccc5-bef9512ed666"
      },
      "execution_count": 76,
      "outputs": [
        {
          "output_type": "execute_result",
          "data": {
            "text/plain": [
              "0        0.00\n",
              "1        0.00\n",
              "2        0.02\n",
              "3        0.00\n",
              "4        0.00\n",
              "         ... \n",
              "16236    0.02\n",
              "16237    0.00\n",
              "16238    0.03\n",
              "16239    0.00\n",
              "16240    0.55\n",
              "Name: JP_Sales, Length: 16241, dtype: float64"
            ]
          },
          "metadata": {},
          "execution_count": 76
        }
      ]
    },
    {
      "cell_type": "code",
      "source": [
        "#전체 게임 출고량 누적 확인 => NA,EU,JP순으로 시장 활성화\n",
        "#Role-playing을 제외하고는 JP시장이 비교적 약함\n",
        "#Adventure, puzzle, strategy은 minor한 장르\n",
        "vg2_clean.groupby('Genre')[['NA_Sales','EU_Sales','JP_Sales','Other_Sales']].sum().plot(kind='bar',color=['red','blue','green','yellow'],stacked = True);\n",
        "plt.show()"
      ],
      "metadata": {
        "id": "VeqSnpIAYFzo",
        "colab": {
          "base_uri": "https://localhost:8080/",
          "height": 331
        },
        "outputId": "1d696c76-b0b8-45dd-c6b7-38d4ed218a67"
      },
      "execution_count": 77,
      "outputs": [
        {
          "output_type": "display_data",
          "data": {
            "text/plain": [
              "<Figure size 432x288 with 1 Axes>"
            ],
            "image/png": "[encoded data removed]"
          },
          "metadata": {
            "needs_background": "light"
          }
        }
      ]
    },
    {
      "cell_type": "code",
      "source": [
        "# wii이후(2006이후) 최근 경향을 찾아보기\n",
        "vg2_clean_2006 = vg2_clean[vg2_clean['Year']>2005]\n",
        "vg2_clean_2006"
      ],
      "metadata": {
        "colab": {
          "base_uri": "https://localhost:8080/",
          "height": 424
        },
        "id": "_CcAiYioDczm",
        "outputId": "e2f00a5d-0ebf-4733-eba1-ba2c1d222775"
      },
      "execution_count": 78,
      "outputs": [
        {
          "output_type": "execute_result",
          "data": {
            "text/plain": [
              "                                                 Name Platform  Year  \\\n",
              "0                        Candace Kane's Candy Factory       DS  2008   \n",
              "1                                      The Munchables      Wii  2009   \n",
              "2      Otome wa Oanesama Boku ni Koi Shiteru Portable      PSP  2010   \n",
              "3                    Deal or No Deal: Special Edition       DS  2010   \n",
              "4           Ben 10 Ultimate Alien: Cosmic Destruction      PS3  2010   \n",
              "...                                               ...      ...   ...   \n",
              "16232                              DC Universe Online      PS3  2011   \n",
              "16233                              Pac-Man Power Pack      PS2  2008   \n",
              "16235                        Theatrhythm Dragon Quest      3DS  2015   \n",
              "16237                                    Fab 5 Soccer       DS  2008   \n",
              "16238                      Dragon Ball Z: Burst Limit     X360  2008   \n",
              "\n",
              "              Genre                  Publisher  NA_Sales  EU_Sales  JP_Sales  \\\n",
              "0            Action                  Destineer      0.04      0.00      0.00   \n",
              "1            Action         Namco Bandai Games      0.17      0.00      0.00   \n",
              "2         Adventure                  Alchemist      0.00      0.00      0.02   \n",
              "3              Misc                  Zoo Games      0.04      0.00      0.00   \n",
              "4          Platform                D3Publisher      0.12      0.09      0.00   \n",
              "...             ...                        ...       ...       ...       ...   \n",
              "16232  Role-Playing  Sony Online Entertainment      0.35      0.12      0.00   \n",
              "16233          Misc         Namco Bandai Games      0.04      0.03      0.00   \n",
              "16235          Misc                Square Enix      0.00      0.00      0.15   \n",
              "16237        Sports                  Destineer      0.01      0.00      0.00   \n",
              "16238      Fighting                      Atari      0.24      0.18      0.03   \n",
              "\n",
              "       Other_Sales  \n",
              "0             0.00  \n",
              "1             0.01  \n",
              "2             0.00  \n",
              "3             0.00  \n",
              "4             0.04  \n",
              "...            ...  \n",
              "16232         0.06  \n",
              "16233         0.01  \n",
              "16235         0.00  \n",
              "16237         0.00  \n",
              "16238         0.05  \n",
              "\n",
              "[10171 rows x 9 columns]"
            ],
            "text/html": [
              "\n",
              "  <div id=\"df-89443ffa-0279-4ea3-811e-bd47ab33b997\">\n",
              "    <div class=\"colab-df-container\">\n",
              "      <div>\n",
              "<style scoped>\n",
              "    .dataframe tbody tr th:only-of-type {\n",
              "        vertical-align: middle;\n",
              "    }\n",
              "\n",
              "    .dataframe tbody tr th {\n",
              "        vertical-align: top;\n",
              "    }\n",
              "\n",
              "    .dataframe thead th {\n",
              "        text-align: right;\n",
              "    }\n",
              "</style>\n",
              "<table border=\"1\" class=\"dataframe\">\n",
              "  <thead>\n",
              "    <tr style=\"text-align: right;\">\n",
              "      <th></th>\n",
              "      <th>Name</th>\n",
              "      <th>Platform</th>\n",
              "      <th>Year</th>\n",
              "      <th>Genre</th>\n",
              "      <th>Publisher</th>\n",
              "      <th>NA_Sales</th>\n",
              "      <th>EU_Sales</th>\n",
              "      <th>JP_Sales</th>\n",
              "      <th>Other_Sales</th>\n",
              "    </tr>\n",
              "  </thead>\n",
              "  <tbody>\n",
              "    <tr>\n",
              "      <th>0</th>\n",
              "      <td>Candace Kane's Candy Factory</td>\n",
              "      <td>DS</td>\n",
              "      <td>2008</td>\n",
              "      <td>Action</td>\n",
              "      <td>Destineer</td>\n",
              "      <td>0.04</td>\n",
              "      <td>0.00</td>\n",
              "      <td>0.00</td>\n",
              "      <td>0.00</td>\n",
              "    </tr>\n",
              "    <tr>\n",
              "      <th>1</th>\n",
              "      <td>The Munchables</td>\n",
              "      <td>Wii</td>\n",
              "      <td>2009</td>\n",
              "      <td>Action</td>\n",
              "      <td>Namco Bandai Games</td>\n",
              "      <td>0.17</td>\n",
              "      <td>0.00</td>\n",
              "      <td>0.00</td>\n",
              "      <td>0.01</td>\n",
              "    </tr>\n",
              "    <tr>\n",
              "      <th>2</th>\n",
              "      <td>Otome wa Oanesama Boku ni Koi Shiteru Portable</td>\n",
              "      <td>PSP</td>\n",
              "      <td>2010</td>\n",
              "      <td>Adventure</td>\n",
              "      <td>Alchemist</td>\n",
              "      <td>0.00</td>\n",
              "      <td>0.00</td>\n",
              "      <td>0.02</td>\n",
              "      <td>0.00</td>\n",
              "    </tr>\n",
              "    <tr>\n",
              "      <th>3</th>\n",
              "      <td>Deal or No Deal: Special Edition</td>\n",
              "      <td>DS</td>\n",
              "      <td>2010</td>\n",
              "      <td>Misc</td>\n",
              "      <td>Zoo Games</td>\n",
              "      <td>0.04</td>\n",
              "      <td>0.00</td>\n",
              "      <td>0.00</td>\n",
              "      <td>0.00</td>\n",
              "    </tr>\n",
              "    <tr>\n",
              "      <th>4</th>\n",
              "      <td>Ben 10 Ultimate Alien: Cosmic Destruction</td>\n",
              "      <td>PS3</td>\n",
              "      <td>2010</td>\n",
              "      <td>Platform</td>\n",
              "      <td>D3Publisher</td>\n",
              "      <td>0.12</td>\n",
              "      <td>0.09</td>\n",
              "      <td>0.00</td>\n",
              "      <td>0.04</td>\n",
              "    </tr>\n",
              "    <tr>\n",
              "      <th>...</th>\n",
              "      <td>...</td>\n",
              "      <td>...</td>\n",
              "      <td>...</td>\n",
              "      <td>...</td>\n",
              "      <td>...</td>\n",
              "      <td>...</td>\n",
              "      <td>...</td>\n",
              "      <td>...</td>\n",
              "      <td>...</td>\n",
              "    </tr>\n",
              "    <tr>\n",
              "      <th>16232</th>\n",
              "      <td>DC Universe Online</td>\n",
              "      <td>PS3</td>\n",
              "      <td>2011</td>\n",
              "      <td>Role-Playing</td>\n",
              "      <td>Sony Online Entertainment</td>\n",
              "      <td>0.35</td>\n",
              "      <td>0.12</td>\n",
              "      <td>0.00</td>\n",
              "      <td>0.06</td>\n",
              "    </tr>\n",
              "    <tr>\n",
              "      <th>16233</th>\n",
              "      <td>Pac-Man Power Pack</td>\n",
              "      <td>PS2</td>\n",
              "      <td>2008</td>\n",
              "      <td>Misc</td>\n",
              "      <td>Namco Bandai Games</td>\n",
              "      <td>0.04</td>\n",
              "      <td>0.03</td>\n",
              "      <td>0.00</td>\n",
              "      <td>0.01</td>\n",
              "    </tr>\n",
              "    <tr>\n",
              "      <th>16235</th>\n",
              "      <td>Theatrhythm Dragon Quest</td>\n",
              "      <td>3DS</td>\n",
              "      <td>2015</td>\n",
              "      <td>Misc</td>\n",
              "      <td>Square Enix</td>\n",
              "      <td>0.00</td>\n",
              "      <td>0.00</td>\n",
              "      <td>0.15</td>\n",
              "      <td>0.00</td>\n",
              "    </tr>\n",
              "    <tr>\n",
              "      <th>16237</th>\n",
              "      <td>Fab 5 Soccer</td>\n",
              "      <td>DS</td>\n",
              "      <td>2008</td>\n",
              "      <td>Sports</td>\n",
              "      <td>Destineer</td>\n",
              "      <td>0.01</td>\n",
              "      <td>0.00</td>\n",
              "      <td>0.00</td>\n",
              "      <td>0.00</td>\n",
              "    </tr>\n",
              "    <tr>\n",
              "      <th>16238</th>\n",
              "      <td>Dragon Ball Z: Burst Limit</td>\n",
              "      <td>X360</td>\n",
              "      <td>2008</td>\n",
              "      <td>Fighting</td>\n",
              "      <td>Atari</td>\n",
              "      <td>0.24</td>\n",
              "      <td>0.18</td>\n",
              "      <td>0.03</td>\n",
              "      <td>0.05</td>\n",
              "    </tr>\n",
              "  </tbody>\n",
              "</table>\n",
              "<p>10171 rows × 9 columns</p>\n",
              "</div>\n",
              "      <button class=\"colab-df-convert\" onclick=\"convertToInteractive('df-89443ffa-0279-4ea3-811e-bd47ab33b997')\"\n",
              "              title=\"Convert this dataframe to an interactive table.\"\n",
              "              style=\"display:none;\">\n",
              "        \n",
              "  <svg xmlns=\"http://www.w3.org/2000/svg\" height=\"24px\"viewBox=\"0 0 24 24\"\n",
              "       width=\"24px\">\n",
              "    <path d=\"M0 0h24v24H0V0z\" fill=\"none\"/>\n",
              "    <path d=\"M18.56 5.44l.94 2.06.94-2.06 2.06-.94-2.06-.94-.94-2.06-.94 2.06-2.06.94zm-11 1L8.5 8.5l.94-2.06 2.06-.94-2.06-.94L8.5 2.5l-.94 2.06-2.06.94zm10 10l.94 2.06.94-2.06 2.06-.94-2.06-.94-.94-2.06-.94 2.06-2.06.94z\"/><path d=\"M17.41 7.96l-1.37-1.37c-.4-.4-.92-.59-1.43-.59-.52 0-1.04.2-1.43.59L10.3 9.45l-7.72 7.72c-.78.78-.78 2.05 0 2.83L4 21.41c.39.39.9.59 1.41.59.51 0 1.02-.2 1.41-.59l7.78-7.78 2.81-2.81c.8-.78.8-2.07 0-2.86zM5.41 20L4 18.59l7.72-7.72 1.47 1.35L5.41 20z\"/>\n",
              "  </svg>\n",
              "      </button>\n",
              "      \n",
              "  <style>\n",
              "    .colab-df-container {\n",
              "      display:flex;\n",
              "      flex-wrap:wrap;\n",
              "      gap: 12px;\n",
              "    }\n",
              "\n",
              "    .colab-df-convert {\n",
              "      background-color: #E8F0FE;\n",
              "      border: none;\n",
              "      border-radius: 50%;\n",
              "      cursor: pointer;\n",
              "      display: none;\n",
              "      fill: #1967D2;\n",
              "      height: 32px;\n",
              "      padding: 0 0 0 0;\n",
              "      width: 32px;\n",
              "    }\n",
              "\n",
              "    .colab-df-convert:hover {\n",
              "      background-color: #E2EBFA;\n",
              "      box-shadow: 0px 1px 2px rgba(60, 64, 67, 0.3), 0px 1px 3px 1px rgba(60, 64, 67, 0.15);\n",
              "      fill: #174EA6;\n",
              "    }\n",
              "\n",
              "    [theme=dark] .colab-df-convert {\n",
              "      background-color: #3B4455;\n",
              "      fill: #D2E3FC;\n",
              "    }\n",
              "\n",
              "    [theme=dark] .colab-df-convert:hover {\n",
              "      background-color: #434B5C;\n",
              "      box-shadow: 0px 1px 3px 1px rgba(0, 0, 0, 0.15);\n",
              "      filter: drop-shadow(0px 1px 2px rgba(0, 0, 0, 0.3));\n",
              "      fill: #FFFFFF;\n",
              "    }\n",
              "  </style>\n",
              "\n",
              "      <script>\n",
              "        const buttonEl =\n",
              "          document.querySelector('#df-89443ffa-0279-4ea3-811e-bd47ab33b997 button.colab-df-convert');\n",
              "        buttonEl.style.display =\n",
              "          google.colab.kernel.accessAllowed ? 'block' : 'none';\n",
              "\n",
              "        async function convertToInteractive(key) {\n",
              "          const element = document.querySelector('#df-89443ffa-0279-4ea3-811e-bd47ab33b997');\n",
              "          const dataTable =\n",
              "            await google.colab.kernel.invokeFunction('convertToInteractive',\n",
              "                                                     [key], {});\n",
              "          if (!dataTable) return;\n",
              "\n",
              "          const docLinkHtml = 'Like what you see? Visit the ' +\n",
              "            '<a target=\"_blank\" href=https://colab.research.google.com/notebooks/data_table.ipynb>data table notebook</a>'\n",
              "            + ' to learn more about interactive tables.';\n",
              "          element.innerHTML = '';\n",
              "          dataTable['output_type'] = 'display_data';\n",
              "          await google.colab.output.renderOutput(dataTable, element);\n",
              "          const docLink = document.createElement('div');\n",
              "          docLink.innerHTML = docLinkHtml;\n",
              "          element.appendChild(docLink);\n",
              "        }\n",
              "      </script>\n",
              "    </div>\n",
              "  </div>\n",
              "  "
            ]
          },
          "metadata": {},
          "execution_count": 78
        }
      ]
    },
    {
      "cell_type": "code",
      "source": [
        "# 확인 결과 큰 여전히 minor 장르, 평균 수익구조와 편차로 한번 더 확인 후 상위 그룹을 추려냄\n",
        "vg2_clean_2006.groupby('Genre')[['NA_Sales','EU_Sales','JP_Sales','Other_Sales']].sum().plot(kind='bar',color=['red','blue','green','yellow'],stacked = True);"
      ],
      "metadata": {
        "colab": {
          "base_uri": "https://localhost:8080/",
          "height": 331
        },
        "id": "eJTOIBMNEiNn",
        "outputId": "990aa0fd-0ca0-451e-977f-23b92e6499f5"
      },
      "execution_count": 79,
      "outputs": [
        {
          "output_type": "display_data",
          "data": {
            "text/plain": [
              "<Figure size 432x288 with 1 Axes>"
            ],
            "image/png": "[encoded data removed]"
          },
          "metadata": {
            "needs_background": "light"
          }
        }
      ]
    },
    {
      "cell_type": "code",
      "source": [
        "#adventure,puzzle, strategy는 생략 후 진행 & 직관적 판단에 의해 우선 NA와 EU를 주 targeting하여 진행\n",
        "\n",
        "vg2_clean_2006.groupby('Genre')[['NA_Sales','EU_Sales','JP_Sales','Other_Sales']].sum().plot(kind='bar', color = ['red','blue','green','yellow'],title ='sum', figsize=(8,4) );\n",
        "vg2_clean_2006.groupby('Genre')[['NA_Sales','EU_Sales','JP_Sales','Other_Sales']].mean().plot(kind='bar', color = ['red','blue','green','yellow'],title ='mean',figsize=(8,4));\n",
        "vg2_clean_2006.groupby('Genre')[['NA_Sales','EU_Sales','JP_Sales','Other_Sales']].var().plot(kind='bar', color = ['red','blue','green','yellow'],title ='var',figsize=(8,4));"
      ],
      "metadata": {
        "colab": {
          "base_uri": "https://localhost:8080/",
          "height": 1000
        },
        "id": "L63XN3P6FmAd",
        "outputId": "91e473e1-69a5-493e-b389-d7de87e2c790"
      },
      "execution_count": 80,
      "outputs": [
        {
          "output_type": "display_data",
          "data": {
            "text/plain": [
              "<Figure size 576x288 with 1 Axes>"
            ],
            "image/png": "[encoded data removed]"
          },
          "metadata": {
            "needs_background": "light"
          }
        },
        {
          "output_type": "display_data",
          "data": {
            "text/plain": [
              "<Figure size 576x288 with 1 Axes>"
            ],
            "image/png": "[encoded data removed]"
          },
          "metadata": {
            "needs_background": "light"
          }
        },
        {
          "output_type": "display_data",
          "data": {
            "text/plain": [
              "<Figure size 576x288 with 1 Axes>"
            ],
            "image/png": "[encoded data removed]"
          },
          "metadata": {
            "needs_background": "light"
          }
        }
      ]
    },
    {
      "cell_type": "markdown",
      "source": [
        "알아낸 사실\n",
        "1)action장르는 경쟁이 많을 것으로 추정\n",
        "\n",
        "2)Figthing은 시장 규모에 비해 생각보다 높은 평균&낮은 편차\n",
        "\n",
        "3)shooter와 sports는 지배하고 있는 게임이 있을 것으로 추정\n",
        "\n",
        "4) racing과 misc, role-playing은 시장에 대한 큰 메리트는 없음"
      ],
      "metadata": {
        "id": "0qEXimN1Grqx"
      }
    },
    {
      "cell_type": "code",
      "source": [
        "vg2_2006_main=vg2_clean_2006.drop(['JP_Sales','Other_Sales','Publisher'],axis=1)\n",
        "vg2_2006_main=vg2_2006_main[~vg2_2006_main.isin(['Adventure', 'Strategy','Puzzle'])]"
      ],
      "metadata": {
        "id": "a-QUqehFFHqH"
      },
      "execution_count": 81,
      "outputs": []
    },
    {
      "cell_type": "code",
      "source": [
        "vg2_2006_main.shape"
      ],
      "metadata": {
        "colab": {
          "base_uri": "https://localhost:8080/"
        },
        "id": "2DNVoftJtvDW",
        "outputId": "9c36a7f1-c94f-47ed-d776-2aa323b4bff6"
      },
      "execution_count": 140,
      "outputs": [
        {
          "output_type": "execute_result",
          "data": {
            "text/plain": [
              "(10171, 6)"
            ]
          },
          "metadata": {},
          "execution_count": 140
        }
      ]
    },
    {
      "cell_type": "markdown",
      "source": [
        "# Q1. 지역에 따라서 좋아하는 게임의 장르가 다를까? => NA와 EU시장을 관점으로 확인"
      ],
      "metadata": {
        "id": "0kvpEiwqMd50"
      }
    },
    {
      "cell_type": "code",
      "source": [
        "NA_Sales=vg2_2006_main.groupby('Genre')['NA_Sales'].mean()\n",
        "NA_Sales=NA_Sales.sort_values(ascending=False)\n",
        "NA_Sales.plot(kind='bar', figsize=(10,10),title = 'NA- Genre');\n"
      ],
      "metadata": {
        "colab": {
          "base_uri": "https://localhost:8080/",
          "height": 673
        },
        "id": "1k9cQOyh6Son",
        "outputId": "efbb53a6-4cd5-47c4-bf87-afd58bfe05a9"
      },
      "execution_count": 146,
      "outputs": [
        {
          "output_type": "display_data",
          "data": {
            "text/plain": [
              "<Figure size 720x720 with 1 Axes>"
            ],
            "image/png": "[encoded data removed]"
          },
          "metadata": {
            "needs_background": "light"
          }
        }
      ]
    },
    {
      "cell_type": "code",
      "source": [
        "NA_Sales=vg2_2006_main.groupby('Genre')['NA_Sales'].sum()\n",
        "NA_Sales=NA_Sales.sort_values(ascending=False)\n",
        "NA_Sales.plot(kind='bar', figsize=(10,10),title = 'NA- Genre');\n",
        "\n"
      ],
      "metadata": {
        "colab": {
          "base_uri": "https://localhost:8080/",
          "height": 673
        },
        "id": "mMm-HTZyMatZ",
        "outputId": "74bc259e-9f89-4c8c-bd09-593a1c656681"
      },
      "execution_count": 82,
      "outputs": [
        {
          "output_type": "display_data",
          "data": {
            "text/plain": [
              "<Figure size 720x720 with 1 Axes>"
            ],
            "image/png": "[encoded data removed]"
          },
          "metadata": {
            "needs_background": "light"
          }
        }
      ]
    },
    {
      "cell_type": "code",
      "source": [
        "EU_Sales=vg2_2006_main.groupby('Genre')['EU_Sales'].sum()\n",
        "EU_Sales=EU_Sales.sort_values(ascending=False)\n",
        "EU_Sales.plot(kind='bar', figsize=(10,10),title = 'EU- Genre');"
      ],
      "metadata": {
        "colab": {
          "base_uri": "https://localhost:8080/",
          "height": 673
        },
        "id": "qqmqwG0yRgcZ",
        "outputId": "7f23e32b-7f64-4193-e99e-0d6efb6744e0"
      },
      "execution_count": 83,
      "outputs": [
        {
          "output_type": "display_data",
          "data": {
            "text/plain": [
              "<Figure size 720x720 with 1 Axes>"
            ],
            "image/png": "[encoded data removed]"
          },
          "metadata": {
            "needs_background": "light"
          }
        }
      ]
    },
    {
      "cell_type": "markdown",
      "source": [
        "# 게임마다  NA와 EU의 차이는 일정한 간격을 두며 비례성이 있다?라고 할 수 있을까 =>이걸 성립시켜서 NA와 EU를 합치고 싶은데.. "
      ],
      "metadata": {
        "id": "jHyfiqwkaS6H"
      }
    },
    {
      "cell_type": "markdown",
      "source": [
        "NA와 EU시장을 관계가 있다고 하기에는 무리가 있을 수 있지만 둘의 공분산을 통해 서로 증가하는 상황이며 둘의 평균차는 표본추출 평균에 대한 차와 크게 벗어나지 않는 것을 통해 게임에서 NA시장을 잡는다면 -EU시장도 영향을 줄 수 있음을 추정"
      ],
      "metadata": {
        "id": "z1QdSyQ6C6ov"
      }
    },
    {
      "cell_type": "code",
      "source": [
        "import seaborn as sns"
      ],
      "metadata": {
        "id": "FORqK6H1QOFw"
      },
      "execution_count": 89,
      "outputs": []
    },
    {
      "cell_type": "code",
      "source": [
        "#이 독립적인 출고량에 대한 데이터는 게임에 있어서 서로 비례하면서 증가함을 보여줌\n",
        "#\n",
        "np.cov(pop_year['NA_Sales'],pop_year['EU_Sales'],ddof=0)[0,1]\n",
        "np.corrcoef(pop_year['NA_Sales'],pop_year['EU_Sales'])"
      ],
      "metadata": {
        "id": "aZ4L_1M7EOlF",
        "colab": {
          "base_uri": "https://localhost:8080/"
        },
        "outputId": "79ac996e-0925-49cc-8e9b-1439e6e62a34"
      },
      "execution_count": 90,
      "outputs": [
        {
          "output_type": "execute_result",
          "data": {
            "text/plain": [
              "array([[1.        , 0.92621831],\n",
              "       [0.92621831, 1.        ]])"
            ]
          },
          "metadata": {},
          "execution_count": 90
        }
      ]
    },
    {
      "cell_type": "code",
      "source": [
        "np.random.seed(26)\n",
        "\n",
        "hop=[]\n",
        "NE = vg2_2006_main['NA_Sales']-vg2_2006_main['EU_Sales']\n",
        "for _ in range(10000):\n",
        "  sample = np.random.choice( NE , 100, replace=True)\n",
        "  hop.append(sample.mean())\n",
        "\n"
      ],
      "metadata": {
        "id": "mTiwPD0eU14N"
      },
      "execution_count": 91,
      "outputs": []
    },
    {
      "cell_type": "code",
      "source": [
        "lower, upper = np.percentile(hop,2.5),np.percentile(hop, 97.5)"
      ],
      "metadata": {
        "id": "yLKqGGKVZwPx"
      },
      "execution_count": 92,
      "outputs": []
    },
    {
      "cell_type": "code",
      "source": [
        "hh=vg2_2006_main['NA_Sales'].mean()-vg2_2006_main['EU_Sales'].mean()\n",
        "print(vg2_2006_main['NA_Sales'].mean())\n",
        "print(vg2_2006_main['EU_Sales'].mean())"
      ],
      "metadata": {
        "colab": {
          "base_uri": "https://localhost:8080/"
        },
        "id": "EWVNi5-nJQF4",
        "outputId": "629d6a10-d254-4740-9189-1a77fe476894"
      },
      "execution_count": 93,
      "outputs": [
        {
          "output_type": "stream",
          "name": "stdout",
          "text": [
            "0.23247763248451478\n",
            "0.14686756464457773\n"
          ]
        }
      ]
    },
    {
      "cell_type": "code",
      "source": [
        "sns.kdeplot(data= hop);\n",
        "plt.axvline(lower, c ='red', label='95% Confidence Interval')\n",
        "plt.axvline(upper ,c ='red', label='95% Confidence Interval' )\n",
        "plt.axvline(hh ,c ='green', label='Sample Mean ' );"
      ],
      "metadata": {
        "colab": {
          "base_uri": "https://localhost:8080/",
          "height": 266
        },
        "id": "_ZdaYlcLZmRe",
        "outputId": "41684a48-a67b-447b-cf13-80ff81a858bc"
      },
      "execution_count": 94,
      "outputs": [
        {
          "output_type": "display_data",
          "data": {
            "text/plain": [
              "<Figure size 432x288 with 1 Axes>"
            ],
            "image/png": "[encoded data removed]"
          },
          "metadata": {
            "needs_background": "light"
          }
        }
      ]
    },
    {
      "cell_type": "markdown",
      "source": [
        "#Q2) 세대별 인기 장르는 다른가? => 2006년도부터 2020년도 까지 확인해보기\n",
        "\n",
        "->요것은 전체도 한번 보고 5%-20%까지도 한번 볼 수 있으면 좋겠다."
      ],
      "metadata": {
        "id": "Tb4Vxd9xcC1G"
      }
    },
    {
      "cell_type": "code",
      "source": [
        "import plotly.graph_objects as go\n",
        "pop_year= vg2_2006_main.groupby(['Year','Genre']).sum()\n",
        "pop_year[['NA_Sales','EU_Sales']] = round(pop_year[['NA_Sales','EU_Sales']],2)"
      ],
      "metadata": {
        "id": "-luVvvK7bd0J"
      },
      "execution_count": 84,
      "outputs": []
    },
    {
      "cell_type": "code",
      "source": [
        "#label, values방출\n",
        "def laval(x,y,z):\n",
        "  labels = x.loc[y].index\n",
        "  values = x.loc[y]['NA_Sales']\n",
        "  if z==0:\n",
        "    return labels\n",
        "  if z==1:\n",
        "    return values"
      ],
      "metadata": {
        "id": "mzCkXw7bsRlA"
      },
      "execution_count": 85,
      "outputs": []
    },
    {
      "cell_type": "code",
      "source": [
        "laval(pop_year,2015,0)"
      ],
      "metadata": {
        "colab": {
          "base_uri": "https://localhost:8080/"
        },
        "id": "tUStS-ROqa3c",
        "outputId": "b8890e74-adc6-4d15-8a58-9b5d4c1723b3"
      },
      "execution_count": 86,
      "outputs": [
        {
          "output_type": "execute_result",
          "data": {
            "text/plain": [
              "Index(['Action', 'Fighting', 'Misc', 'Platform', 'Racing', 'Role-Playing',\n",
              "       'Shooter', 'Simulation', 'Sports'],\n",
              "      dtype='object', name='Genre')"
            ]
          },
          "metadata": {},
          "execution_count": 86
        }
      ]
    },
    {
      "cell_type": "code",
      "source": [
        "vg2_2006_main[vg2_2006_main['Genre']=='Action'].sort_values(by='NA_Sales',ascending=False).head(20)"
      ],
      "metadata": {
        "id": "Q_wdYvgXqsFN",
        "colab": {
          "base_uri": "https://localhost:8080/",
          "height": 676
        },
        "outputId": "7ed8cbb4-01a4-45fb-bd0c-b49c666da739"
      },
      "execution_count": 156,
      "outputs": [
        {
          "output_type": "execute_result",
          "data": {
            "text/plain": [
              "                                         Name Platform  Year   Genre  \\\n",
              "10625                      Grand Theft Auto V     X360  2013  Action   \n",
              "3394                       Grand Theft Auto V      PS3  2013  Action   \n",
              "13544                     Grand Theft Auto IV     X360  2008  Action   \n",
              "16021                     Grand Theft Auto IV      PS3  2008  Action   \n",
              "4674     Pokemon HeartGold/Pokemon SoulSilver       DS  2009  Action   \n",
              "1014   The Legend of Zelda: Twilight Princess      Wii  2006  Action   \n",
              "1962                       Grand Theft Auto V      PS4  2014  Action   \n",
              "9871                      Red Dead Redemption     X360  2010  Action   \n",
              "7738        LEGO Star Wars: The Complete Saga      Wii  2007  Action   \n",
              "13185              Uncharted 2: Among Thieves      PS3  2009  Action   \n",
              "15206                    Assassin's Creed III     X360  2012  Action   \n",
              "7923                      Assassin's Creed II     X360  2009  Action   \n",
              "3039                      Batman: Arkham City     X360  2011  Action   \n",
              "15952       LEGO Star Wars: The Complete Saga       DS  2007  Action   \n",
              "12225           Assassin's Creed: Brotherhood     X360  2010  Action   \n",
              "15827                     Red Dead Redemption      PS3  2010  Action   \n",
              "11544          Uncharted 3: Drake's Deception      PS3  2011  Action   \n",
              "5395                           God of War III      PS3  2010  Action   \n",
              "14422                     Batman: Arkham City      PS3  2011  Action   \n",
              "10549                      Grand Theft Auto V     XOne  2014  Action   \n",
              "\n",
              "       NA_Sales  EU_Sales  \n",
              "10625      9.63      5.31  \n",
              "3394       7.01      9.27  \n",
              "13544      6.76      3.10  \n",
              "16021      4.76      3.76  \n",
              "4674       4.40      2.77  \n",
              "1014       3.83      2.19  \n",
              "1962       3.80      5.81  \n",
              "9871       3.70      1.97  \n",
              "7738       3.66      1.63  \n",
              "13185      3.27      2.25  \n",
              "15206      3.13      1.71  \n",
              "7923       3.10      1.56  \n",
              "3039       2.99      1.31  \n",
              "15952      2.89      1.54  \n",
              "12225      2.84      0.39  \n",
              "15827      2.79      2.61  \n",
              "11544      2.77      2.80  \n",
              "5395       2.74      1.36  \n",
              "14422      2.70      1.91  \n",
              "10549      2.66      2.01  "
            ],
            "text/html": [
              "\n",
              "  <div id=\"df-ace5b0a2-0882-4eca-9985-a2c607d55903\">\n",
              "    <div class=\"colab-df-container\">\n",
              "      <div>\n",
              "<style scoped>\n",
              "    .dataframe tbody tr th:only-of-type {\n",
              "        vertical-align: middle;\n",
              "    }\n",
              "\n",
              "    .dataframe tbody tr th {\n",
              "        vertical-align: top;\n",
              "    }\n",
              "\n",
              "    .dataframe thead th {\n",
              "        text-align: right;\n",
              "    }\n",
              "</style>\n",
              "<table border=\"1\" class=\"dataframe\">\n",
              "  <thead>\n",
              "    <tr style=\"text-align: right;\">\n",
              "      <th></th>\n",
              "      <th>Name</th>\n",
              "      <th>Platform</th>\n",
              "      <th>Year</th>\n",
              "      <th>Genre</th>\n",
              "      <th>NA_Sales</th>\n",
              "      <th>EU_Sales</th>\n",
              "    </tr>\n",
              "  </thead>\n",
              "  <tbody>\n",
              "    <tr>\n",
              "      <th>10625</th>\n",
              "      <td>Grand Theft Auto V</td>\n",
              "      <td>X360</td>\n",
              "      <td>2013</td>\n",
              "      <td>Action</td>\n",
              "      <td>9.63</td>\n",
              "      <td>5.31</td>\n",
              "    </tr>\n",
              "    <tr>\n",
              "      <th>3394</th>\n",
              "      <td>Grand Theft Auto V</td>\n",
              "      <td>PS3</td>\n",
              "      <td>2013</td>\n",
              "      <td>Action</td>\n",
              "      <td>7.01</td>\n",
              "      <td>9.27</td>\n",
              "    </tr>\n",
              "    <tr>\n",
              "      <th>13544</th>\n",
              "      <td>Grand Theft Auto IV</td>\n",
              "      <td>X360</td>\n",
              "      <td>2008</td>\n",
              "      <td>Action</td>\n",
              "      <td>6.76</td>\n",
              "      <td>3.10</td>\n",
              "    </tr>\n",
              "    <tr>\n",
              "      <th>16021</th>\n",
              "      <td>Grand Theft Auto IV</td>\n",
              "      <td>PS3</td>\n",
              "      <td>2008</td>\n",
              "      <td>Action</td>\n",
              "      <td>4.76</td>\n",
              "      <td>3.76</td>\n",
              "    </tr>\n",
              "    <tr>\n",
              "      <th>4674</th>\n",
              "      <td>Pokemon HeartGold/Pokemon SoulSilver</td>\n",
              "      <td>DS</td>\n",
              "      <td>2009</td>\n",
              "      <td>Action</td>\n",
              "      <td>4.40</td>\n",
              "      <td>2.77</td>\n",
              "    </tr>\n",
              "    <tr>\n",
              "      <th>1014</th>\n",
              "      <td>The Legend of Zelda: Twilight Princess</td>\n",
              "      <td>Wii</td>\n",
              "      <td>2006</td>\n",
              "      <td>Action</td>\n",
              "      <td>3.83</td>\n",
              "      <td>2.19</td>\n",
              "    </tr>\n",
              "    <tr>\n",
              "      <th>1962</th>\n",
              "      <td>Grand Theft Auto V</td>\n",
              "      <td>PS4</td>\n",
              "      <td>2014</td>\n",
              "      <td>Action</td>\n",
              "      <td>3.80</td>\n",
              "      <td>5.81</td>\n",
              "    </tr>\n",
              "    <tr>\n",
              "      <th>9871</th>\n",
              "      <td>Red Dead Redemption</td>\n",
              "      <td>X360</td>\n",
              "      <td>2010</td>\n",
              "      <td>Action</td>\n",
              "      <td>3.70</td>\n",
              "      <td>1.97</td>\n",
              "    </tr>\n",
              "    <tr>\n",
              "      <th>7738</th>\n",
              "      <td>LEGO Star Wars: The Complete Saga</td>\n",
              "      <td>Wii</td>\n",
              "      <td>2007</td>\n",
              "      <td>Action</td>\n",
              "      <td>3.66</td>\n",
              "      <td>1.63</td>\n",
              "    </tr>\n",
              "    <tr>\n",
              "      <th>13185</th>\n",
              "      <td>Uncharted 2: Among Thieves</td>\n",
              "      <td>PS3</td>\n",
              "      <td>2009</td>\n",
              "      <td>Action</td>\n",
              "      <td>3.27</td>\n",
              "      <td>2.25</td>\n",
              "    </tr>\n",
              "    <tr>\n",
              "      <th>15206</th>\n",
              "      <td>Assassin's Creed III</td>\n",
              "      <td>X360</td>\n",
              "      <td>2012</td>\n",
              "      <td>Action</td>\n",
              "      <td>3.13</td>\n",
              "      <td>1.71</td>\n",
              "    </tr>\n",
              "    <tr>\n",
              "      <th>7923</th>\n",
              "      <td>Assassin's Creed II</td>\n",
              "      <td>X360</td>\n",
              "      <td>2009</td>\n",
              "      <td>Action</td>\n",
              "      <td>3.10</td>\n",
              "      <td>1.56</td>\n",
              "    </tr>\n",
              "    <tr>\n",
              "      <th>3039</th>\n",
              "      <td>Batman: Arkham City</td>\n",
              "      <td>X360</td>\n",
              "      <td>2011</td>\n",
              "      <td>Action</td>\n",
              "      <td>2.99</td>\n",
              "      <td>1.31</td>\n",
              "    </tr>\n",
              "    <tr>\n",
              "      <th>15952</th>\n",
              "      <td>LEGO Star Wars: The Complete Saga</td>\n",
              "      <td>DS</td>\n",
              "      <td>2007</td>\n",
              "      <td>Action</td>\n",
              "      <td>2.89</td>\n",
              "      <td>1.54</td>\n",
              "    </tr>\n",
              "    <tr>\n",
              "      <th>12225</th>\n",
              "      <td>Assassin's Creed: Brotherhood</td>\n",
              "      <td>X360</td>\n",
              "      <td>2010</td>\n",
              "      <td>Action</td>\n",
              "      <td>2.84</td>\n",
              "      <td>0.39</td>\n",
              "    </tr>\n",
              "    <tr>\n",
              "      <th>15827</th>\n",
              "      <td>Red Dead Redemption</td>\n",
              "      <td>PS3</td>\n",
              "      <td>2010</td>\n",
              "      <td>Action</td>\n",
              "      <td>2.79</td>\n",
              "      <td>2.61</td>\n",
              "    </tr>\n",
              "    <tr>\n",
              "      <th>11544</th>\n",
              "      <td>Uncharted 3: Drake's Deception</td>\n",
              "      <td>PS3</td>\n",
              "      <td>2011</td>\n",
              "      <td>Action</td>\n",
              "      <td>2.77</td>\n",
              "      <td>2.80</td>\n",
              "    </tr>\n",
              "    <tr>\n",
              "      <th>5395</th>\n",
              "      <td>God of War III</td>\n",
              "      <td>PS3</td>\n",
              "      <td>2010</td>\n",
              "      <td>Action</td>\n",
              "      <td>2.74</td>\n",
              "      <td>1.36</td>\n",
              "    </tr>\n",
              "    <tr>\n",
              "      <th>14422</th>\n",
              "      <td>Batman: Arkham City</td>\n",
              "      <td>PS3</td>\n",
              "      <td>2011</td>\n",
              "      <td>Action</td>\n",
              "      <td>2.70</td>\n",
              "      <td>1.91</td>\n",
              "    </tr>\n",
              "    <tr>\n",
              "      <th>10549</th>\n",
              "      <td>Grand Theft Auto V</td>\n",
              "      <td>XOne</td>\n",
              "      <td>2014</td>\n",
              "      <td>Action</td>\n",
              "      <td>2.66</td>\n",
              "      <td>2.01</td>\n",
              "    </tr>\n",
              "  </tbody>\n",
              "</table>\n",
              "</div>\n",
              "      <button class=\"colab-df-convert\" onclick=\"convertToInteractive('df-ace5b0a2-0882-4eca-9985-a2c607d55903')\"\n",
              "              title=\"Convert this dataframe to an interactive table.\"\n",
              "              style=\"display:none;\">\n",
              "        \n",
              "  <svg xmlns=\"http://www.w3.org/2000/svg\" height=\"24px\"viewBox=\"0 0 24 24\"\n",
              "       width=\"24px\">\n",
              "    <path d=\"M0 0h24v24H0V0z\" fill=\"none\"/>\n",
              "    <path d=\"M18.56 5.44l.94 2.06.94-2.06 2.06-.94-2.06-.94-.94-2.06-.94 2.06-2.06.94zm-11 1L8.5 8.5l.94-2.06 2.06-.94-2.06-.94L8.5 2.5l-.94 2.06-2.06.94zm10 10l.94 2.06.94-2.06 2.06-.94-2.06-.94-.94-2.06-.94 2.06-2.06.94z\"/><path d=\"M17.41 7.96l-1.37-1.37c-.4-.4-.92-.59-1.43-.59-.52 0-1.04.2-1.43.59L10.3 9.45l-7.72 7.72c-.78.78-.78 2.05 0 2.83L4 21.41c.39.39.9.59 1.41.59.51 0 1.02-.2 1.41-.59l7.78-7.78 2.81-2.81c.8-.78.8-2.07 0-2.86zM5.41 20L4 18.59l7.72-7.72 1.47 1.35L5.41 20z\"/>\n",
              "  </svg>\n",
              "      </button>\n",
              "      \n",
              "  <style>\n",
              "    .colab-df-container {\n",
              "      display:flex;\n",
              "      flex-wrap:wrap;\n",
              "      gap: 12px;\n",
              "    }\n",
              "\n",
              "    .colab-df-convert {\n",
              "      background-color: #E8F0FE;\n",
              "      border: none;\n",
              "      border-radius: 50%;\n",
              "      cursor: pointer;\n",
              "      display: none;\n",
              "      fill: #1967D2;\n",
              "      height: 32px;\n",
              "      padding: 0 0 0 0;\n",
              "      width: 32px;\n",
              "    }\n",
              "\n",
              "    .colab-df-convert:hover {\n",
              "      background-color: #E2EBFA;\n",
              "      box-shadow: 0px 1px 2px rgba(60, 64, 67, 0.3), 0px 1px 3px 1px rgba(60, 64, 67, 0.15);\n",
              "      fill: #174EA6;\n",
              "    }\n",
              "\n",
              "    [theme=dark] .colab-df-convert {\n",
              "      background-color: #3B4455;\n",
              "      fill: #D2E3FC;\n",
              "    }\n",
              "\n",
              "    [theme=dark] .colab-df-convert:hover {\n",
              "      background-color: #434B5C;\n",
              "      box-shadow: 0px 1px 3px 1px rgba(0, 0, 0, 0.15);\n",
              "      filter: drop-shadow(0px 1px 2px rgba(0, 0, 0, 0.3));\n",
              "      fill: #FFFFFF;\n",
              "    }\n",
              "  </style>\n",
              "\n",
              "      <script>\n",
              "        const buttonEl =\n",
              "          document.querySelector('#df-ace5b0a2-0882-4eca-9985-a2c607d55903 button.colab-df-convert');\n",
              "        buttonEl.style.display =\n",
              "          google.colab.kernel.accessAllowed ? 'block' : 'none';\n",
              "\n",
              "        async function convertToInteractive(key) {\n",
              "          const element = document.querySelector('#df-ace5b0a2-0882-4eca-9985-a2c607d55903');\n",
              "          const dataTable =\n",
              "            await google.colab.kernel.invokeFunction('convertToInteractive',\n",
              "                                                     [key], {});\n",
              "          if (!dataTable) return;\n",
              "\n",
              "          const docLinkHtml = 'Like what you see? Visit the ' +\n",
              "            '<a target=\"_blank\" href=https://colab.research.google.com/notebooks/data_table.ipynb>data table notebook</a>'\n",
              "            + ' to learn more about interactive tables.';\n",
              "          element.innerHTML = '';\n",
              "          dataTable['output_type'] = 'display_data';\n",
              "          await google.colab.output.renderOutput(dataTable, element);\n",
              "          const docLink = document.createElement('div');\n",
              "          docLink.innerHTML = docLinkHtml;\n",
              "          element.appendChild(docLink);\n",
              "        }\n",
              "      </script>\n",
              "    </div>\n",
              "  </div>\n",
              "  "
            ]
          },
          "metadata": {},
          "execution_count": 156
        }
      ]
    },
    {
      "cell_type": "code",
      "source": [
        "#연도별 하나씩 보고 싶을때 만들었지만...\n",
        "plt.figure(figsize=(15,8))\n",
        "fig = go.Figure(data=[go.Pie(labels= laval(pop_year,2015,0), values= laval(pop_year, 2015, 1), hole=.3)])\n",
        "fig.show()"
      ],
      "metadata": {
        "id": "73itxzdW1q5G",
        "colab": {
          "base_uri": "https://localhost:8080/",
          "height": 561
        },
        "outputId": "7df67922-ab14-4d4d-8ef0-132a0dca44f0"
      },
      "execution_count": 87,
      "outputs": [
        {
          "output_type": "display_data",
          "data": {
            "text/html": [
              "<html>\n",
              "<head><meta charset=\"utf-8\" /></head>\n",
              "<body>\n",
              "    <div>            <script src=\"https://cdnjs.cloudflare.com/ajax/libs/mathjax/2.7.5/MathJax.js?config=TeX-AMS-MML_SVG\"></script><script type=\"text/javascript\">if (window.MathJax) {MathJax.Hub.Config({SVG: {font: \"STIX-Web\"}});}</script>                <script type=\"text/javascript\">window.PlotlyConfig = {MathJaxConfig: 'local'};</script>\n",
              "        <script src=\"https://cdn.plot.ly/plotly-2.8.3.min.js\"></script>                <div id=\"95a0f4ab-6d80-4d02-9a15-209ab08177fd\" class=\"plotly-graph-div\" style=\"height:525px; width:100%;\"></div>            <script type=\"text/javascript\">                                    window.PLOTLYENV=window.PLOTLYENV || {};                                    if (document.getElementById(\"95a0f4ab-6d80-4d02-9a15-209ab08177fd\")) {                    Plotly.newPlot(                        \"95a0f4ab-6d80-4d02-9a15-209ab08177fd\",                        [{\"hole\":0.3,\"labels\":[\"Action\",\"Fighting\",\"Misc\",\"Platform\",\"Racing\",\"Role-Playing\",\"Shooter\",\"Simulation\",\"Sports\"],\"values\":[21.83,3.6,4.81,2.5,1.97,13.35,30.79,1.13,18.46],\"type\":\"pie\"}],                        {\"template\":{\"data\":{\"bar\":[{\"error_x\":{\"color\":\"#2a3f5f\"},\"error_y\":{\"color\":\"#2a3f5f\"},\"marker\":{\"line\":{\"color\":\"#E5ECF6\",\"width\":0.5},\"pattern\":{\"fillmode\":\"overlay\",\"size\":10,\"solidity\":0.2}},\"type\":\"bar\"}],\"barpolar\":[{\"marker\":{\"line\":{\"color\":\"#E5ECF6\",\"width\":0.5},\"pattern\":{\"fillmode\":\"overlay\",\"size\":10,\"solidity\":0.2}},\"type\":\"barpolar\"}],\"carpet\":[{\"aaxis\":{\"endlinecolor\":\"#2a3f5f\",\"gridcolor\":\"white\",\"linecolor\":\"white\",\"minorgridcolor\":\"white\",\"startlinecolor\":\"#2a3f5f\"},\"baxis\":{\"endlinecolor\":\"#2a3f5f\",\"gridcolor\":\"white\",\"linecolor\":\"white\",\"minorgridcolor\":\"white\",\"startlinecolor\":\"#2a3f5f\"},\"type\":\"carpet\"}],\"choropleth\":[{\"colorbar\":{\"outlinewidth\":0,\"ticks\":\"\"},\"type\":\"choropleth\"}],\"contour\":[{\"colorbar\":{\"outlinewidth\":0,\"ticks\":\"\"},\"colorscale\":[[0.0,\"#0d0887\"],[0.1111111111111111,\"#46039f\"],[0.2222222222222222,\"#7201a8\"],[0.3333333333333333,\"#9c179e\"],[0.4444444444444444,\"#bd3786\"],[0.5555555555555556,\"#d8576b\"],[0.6666666666666666,\"#ed7953\"],[0.7777777777777778,\"#fb9f3a\"],[0.8888888888888888,\"#fdca26\"],[1.0,\"#f0f921\"]],\"type\":\"contour\"}],\"contourcarpet\":[{\"colorbar\":{\"outlinewidth\":0,\"ticks\":\"\"},\"type\":\"contourcarpet\"}],\"heatmap\":[{\"colorbar\":{\"outlinewidth\":0,\"ticks\":\"\"},\"colorscale\":[[0.0,\"#0d0887\"],[0.1111111111111111,\"#46039f\"],[0.2222222222222222,\"#7201a8\"],[0.3333333333333333,\"#9c179e\"],[0.4444444444444444,\"#bd3786\"],[0.5555555555555556,\"#d8576b\"],[0.6666666666666666,\"#ed7953\"],[0.7777777777777778,\"#fb9f3a\"],[0.8888888888888888,\"#fdca26\"],[1.0,\"#f0f921\"]],\"type\":\"heatmap\"}],\"heatmapgl\":[{\"colorbar\":{\"outlinewidth\":0,\"ticks\":\"\"},\"colorscale\":[[0.0,\"#0d0887\"],[0.1111111111111111,\"#46039f\"],[0.2222222222222222,\"#7201a8\"],[0.3333333333333333,\"#9c179e\"],[0.4444444444444444,\"#bd3786\"],[0.5555555555555556,\"#d8576b\"],[0.6666666666666666,\"#ed7953\"],[0.7777777777777778,\"#fb9f3a\"],[0.8888888888888888,\"#fdca26\"],[1.0,\"#f0f921\"]],\"type\":\"heatmapgl\"}],\"histogram\":[{\"marker\":{\"pattern\":{\"fillmode\":\"overlay\",\"size\":10,\"solidity\":0.2}},\"type\":\"histogram\"}],\"histogram2d\":[{\"colorbar\":{\"outlinewidth\":0,\"ticks\":\"\"},\"colorscale\":[[0.0,\"#0d0887\"],[0.1111111111111111,\"#46039f\"],[0.2222222222222222,\"#7201a8\"],[0.3333333333333333,\"#9c179e\"],[0.4444444444444444,\"#bd3786\"],[0.5555555555555556,\"#d8576b\"],[0.6666666666666666,\"#ed7953\"],[0.7777777777777778,\"#fb9f3a\"],[0.8888888888888888,\"#fdca26\"],[1.0,\"#f0f921\"]],\"type\":\"histogram2d\"}],\"histogram2dcontour\":[{\"colorbar\":{\"outlinewidth\":0,\"ticks\":\"\"},\"colorscale\":[[0.0,\"#0d0887\"],[0.1111111111111111,\"#46039f\"],[0.2222222222222222,\"#7201a8\"],[0.3333333333333333,\"#9c179e\"],[0.4444444444444444,\"#bd3786\"],[0.5555555555555556,\"#d8576b\"],[0.6666666666666666,\"#ed7953\"],[0.7777777777777778,\"#fb9f3a\"],[0.8888888888888888,\"#fdca26\"],[1.0,\"#f0f921\"]],\"type\":\"histogram2dcontour\"}],\"mesh3d\":[{\"colorbar\":{\"outlinewidth\":0,\"ticks\":\"\"},\"type\":\"mesh3d\"}],\"parcoords\":[{\"line\":{\"colorbar\":{\"outlinewidth\":0,\"ticks\":\"\"}},\"type\":\"parcoords\"}],\"pie\":[{\"automargin\":true,\"type\":\"pie\"}],\"scatter\":[{\"marker\":{\"colorbar\":{\"outlinewidth\":0,\"ticks\":\"\"}},\"type\":\"scatter\"}],\"scatter3d\":[{\"line\":{\"colorbar\":{\"outlinewidth\":0,\"ticks\":\"\"}},\"marker\":{\"colorbar\":{\"outlinewidth\":0,\"ticks\":\"\"}},\"type\":\"scatter3d\"}],\"scattercarpet\":[{\"marker\":{\"colorbar\":{\"outlinewidth\":0,\"ticks\":\"\"}},\"type\":\"scattercarpet\"}],\"scattergeo\":[{\"marker\":{\"colorbar\":{\"outlinewidth\":0,\"ticks\":\"\"}},\"type\":\"scattergeo\"}],\"scattergl\":[{\"marker\":{\"colorbar\":{\"outlinewidth\":0,\"ticks\":\"\"}},\"type\":\"scattergl\"}],\"scattermapbox\":[{\"marker\":{\"colorbar\":{\"outlinewidth\":0,\"ticks\":\"\"}},\"type\":\"scattermapbox\"}],\"scatterpolar\":[{\"marker\":{\"colorbar\":{\"outlinewidth\":0,\"ticks\":\"\"}},\"type\":\"scatterpolar\"}],\"scatterpolargl\":[{\"marker\":{\"colorbar\":{\"outlinewidth\":0,\"ticks\":\"\"}},\"type\":\"scatterpolargl\"}],\"scatterternary\":[{\"marker\":{\"colorbar\":{\"outlinewidth\":0,\"ticks\":\"\"}},\"type\":\"scatterternary\"}],\"surface\":[{\"colorbar\":{\"outlinewidth\":0,\"ticks\":\"\"},\"colorscale\":[[0.0,\"#0d0887\"],[0.1111111111111111,\"#46039f\"],[0.2222222222222222,\"#7201a8\"],[0.3333333333333333,\"#9c179e\"],[0.4444444444444444,\"#bd3786\"],[0.5555555555555556,\"#d8576b\"],[0.6666666666666666,\"#ed7953\"],[0.7777777777777778,\"#fb9f3a\"],[0.8888888888888888,\"#fdca26\"],[1.0,\"#f0f921\"]],\"type\":\"surface\"}],\"table\":[{\"cells\":{\"fill\":{\"color\":\"#EBF0F8\"},\"line\":{\"color\":\"white\"}},\"header\":{\"fill\":{\"color\":\"#C8D4E3\"},\"line\":{\"color\":\"white\"}},\"type\":\"table\"}]},\"layout\":{\"annotationdefaults\":{\"arrowcolor\":\"#2a3f5f\",\"arrowhead\":0,\"arrowwidth\":1},\"autotypenumbers\":\"strict\",\"coloraxis\":{\"colorbar\":{\"outlinewidth\":0,\"ticks\":\"\"}},\"colorscale\":{\"diverging\":[[0,\"#8e0152\"],[0.1,\"#c51b7d\"],[0.2,\"#de77ae\"],[0.3,\"#f1b6da\"],[0.4,\"#fde0ef\"],[0.5,\"#f7f7f7\"],[0.6,\"#e6f5d0\"],[0.7,\"#b8e186\"],[0.8,\"#7fbc41\"],[0.9,\"#4d9221\"],[1,\"#276419\"]],\"sequential\":[[0.0,\"#0d0887\"],[0.1111111111111111,\"#46039f\"],[0.2222222222222222,\"#7201a8\"],[0.3333333333333333,\"#9c179e\"],[0.4444444444444444,\"#bd3786\"],[0.5555555555555556,\"#d8576b\"],[0.6666666666666666,\"#ed7953\"],[0.7777777777777778,\"#fb9f3a\"],[0.8888888888888888,\"#fdca26\"],[1.0,\"#f0f921\"]],\"sequentialminus\":[[0.0,\"#0d0887\"],[0.1111111111111111,\"#46039f\"],[0.2222222222222222,\"#7201a8\"],[0.3333333333333333,\"#9c179e\"],[0.4444444444444444,\"#bd3786\"],[0.5555555555555556,\"#d8576b\"],[0.6666666666666666,\"#ed7953\"],[0.7777777777777778,\"#fb9f3a\"],[0.8888888888888888,\"#fdca26\"],[1.0,\"#f0f921\"]]},\"colorway\":[\"#636efa\",\"#EF553B\",\"#00cc96\",\"#ab63fa\",\"#FFA15A\",\"#19d3f3\",\"#FF6692\",\"#B6E880\",\"#FF97FF\",\"#FECB52\"],\"font\":{\"color\":\"#2a3f5f\"},\"geo\":{\"bgcolor\":\"white\",\"lakecolor\":\"white\",\"landcolor\":\"#E5ECF6\",\"showlakes\":true,\"showland\":true,\"subunitcolor\":\"white\"},\"hoverlabel\":{\"align\":\"left\"},\"hovermode\":\"closest\",\"mapbox\":{\"style\":\"light\"},\"paper_bgcolor\":\"white\",\"plot_bgcolor\":\"#E5ECF6\",\"polar\":{\"angularaxis\":{\"gridcolor\":\"white\",\"linecolor\":\"white\",\"ticks\":\"\"},\"bgcolor\":\"#E5ECF6\",\"radialaxis\":{\"gridcolor\":\"white\",\"linecolor\":\"white\",\"ticks\":\"\"}},\"scene\":{\"xaxis\":{\"backgroundcolor\":\"#E5ECF6\",\"gridcolor\":\"white\",\"gridwidth\":2,\"linecolor\":\"white\",\"showbackground\":true,\"ticks\":\"\",\"zerolinecolor\":\"white\"},\"yaxis\":{\"backgroundcolor\":\"#E5ECF6\",\"gridcolor\":\"white\",\"gridwidth\":2,\"linecolor\":\"white\",\"showbackground\":true,\"ticks\":\"\",\"zerolinecolor\":\"white\"},\"zaxis\":{\"backgroundcolor\":\"#E5ECF6\",\"gridcolor\":\"white\",\"gridwidth\":2,\"linecolor\":\"white\",\"showbackground\":true,\"ticks\":\"\",\"zerolinecolor\":\"white\"}},\"shapedefaults\":{\"line\":{\"color\":\"#2a3f5f\"}},\"ternary\":{\"aaxis\":{\"gridcolor\":\"white\",\"linecolor\":\"white\",\"ticks\":\"\"},\"baxis\":{\"gridcolor\":\"white\",\"linecolor\":\"white\",\"ticks\":\"\"},\"bgcolor\":\"#E5ECF6\",\"caxis\":{\"gridcolor\":\"white\",\"linecolor\":\"white\",\"ticks\":\"\"}},\"title\":{\"x\":0.05},\"xaxis\":{\"automargin\":true,\"gridcolor\":\"white\",\"linecolor\":\"white\",\"ticks\":\"\",\"title\":{\"standoff\":15},\"zerolinecolor\":\"white\",\"zerolinewidth\":2},\"yaxis\":{\"automargin\":true,\"gridcolor\":\"white\",\"linecolor\":\"white\",\"ticks\":\"\",\"title\":{\"standoff\":15},\"zerolinecolor\":\"white\",\"zerolinewidth\":2}}}},                        {\"responsive\": true}                    ).then(function(){\n",
              "                            \n",
              "var gd = document.getElementById('95a0f4ab-6d80-4d02-9a15-209ab08177fd');\n",
              "var x = new MutationObserver(function (mutations, observer) {{\n",
              "        var display = window.getComputedStyle(gd).display;\n",
              "        if (!display || display === 'none') {{\n",
              "            console.log([gd, 'removed!']);\n",
              "            Plotly.purge(gd);\n",
              "            observer.disconnect();\n",
              "        }}\n",
              "}});\n",
              "\n",
              "// Listen for the removal of the full notebook cells\n",
              "var notebookContainer = gd.closest('#notebook-container');\n",
              "if (notebookContainer) {{\n",
              "    x.observe(notebookContainer, {childList: true});\n",
              "}}\n",
              "\n",
              "// Listen for the clearing of the current output cell\n",
              "var outputEl = gd.closest('.output');\n",
              "if (outputEl) {{\n",
              "    x.observe(outputEl, {childList: true});\n",
              "}}\n",
              "\n",
              "                        })                };                            </script>        </div>\n",
              "</body>\n",
              "</html>"
            ]
          },
          "metadata": {}
        },
        {
          "output_type": "display_data",
          "data": {
            "text/plain": [
              "<Figure size 1080x576 with 0 Axes>"
            ]
          },
          "metadata": {}
        }
      ]
    },
    {
      "cell_type": "code",
      "source": [
        "#난님감사합니다\n",
        "pop_year_g= pop_year.reset_index()\n",
        "import plotly.express as px\n",
        "fig1= px.sunburst(pop_year_g, path=['Year','Genre'],\n",
        "                  values='NA_Sales', title='Sales of Genre  by Year' )\n",
        "fig1.show()"
      ],
      "metadata": {
        "id": "JBjgwycUKMj6",
        "colab": {
          "base_uri": "https://localhost:8080/",
          "height": 542
        },
        "outputId": "5662188c-9165-42c2-9ae3-e280a8aeb908"
      },
      "execution_count": 136,
      "outputs": [
        {
          "output_type": "display_data",
          "data": {
            "text/html": [
              "<html>\n",
              "<head><meta charset=\"utf-8\" /></head>\n",
              "<body>\n",
              "    <div>            <script src=\"https://cdnjs.cloudflare.com/ajax/libs/mathjax/2.7.5/MathJax.js?config=TeX-AMS-MML_SVG\"></script><script type=\"text/javascript\">if (window.MathJax) {MathJax.Hub.Config({SVG: {font: \"STIX-Web\"}});}</script>                <script type=\"text/javascript\">window.PlotlyConfig = {MathJaxConfig: 'local'};</script>\n",
              "        <script src=\"https://cdn.plot.ly/plotly-2.8.3.min.js\"></script>                <div id=\"40849878-d1bb-460d-b3c8-677db817a19d\" class=\"plotly-graph-div\" style=\"height:525px; width:100%;\"></div>            <script type=\"text/javascript\">                                    window.PLOTLYENV=window.PLOTLYENV || {};                                    if (document.getElementById(\"40849878-d1bb-460d-b3c8-677db817a19d\")) {                    Plotly.newPlot(                        \"40849878-d1bb-460d-b3c8-677db817a19d\",                        [{\"branchvalues\":\"total\",\"domain\":{\"x\":[0.0,1.0],\"y\":[0.0,1.0]},\"hovertemplate\":\"labels=%{label}<br>NA_Sales=%{value}<br>parent=%{parent}<br>id=%{id}<extra></extra>\",\"ids\":[\"2006/Action\",\"2007/Action\",\"2008/Action\",\"2009/Action\",\"2010/Action\",\"2011/Action\",\"2012/Action\",\"2013/Action\",\"2014/Action\",\"2015/Action\",\"2016/Action\",\"2017/Action\",\"2006/Fighting\",\"2007/Fighting\",\"2008/Fighting\",\"2009/Fighting\",\"2010/Fighting\",\"2011/Fighting\",\"2012/Fighting\",\"2013/Fighting\",\"2014/Fighting\",\"2015/Fighting\",\"2016/Fighting\",\"2006/Misc\",\"2007/Misc\",\"2008/Misc\",\"2009/Misc\",\"2010/Misc\",\"2011/Misc\",\"2012/Misc\",\"2013/Misc\",\"2014/Misc\",\"2015/Misc\",\"2016/Misc\",\"2006/Platform\",\"2007/Platform\",\"2008/Platform\",\"2009/Platform\",\"2010/Platform\",\"2011/Platform\",\"2012/Platform\",\"2013/Platform\",\"2014/Platform\",\"2015/Platform\",\"2016/Platform\",\"2006/Racing\",\"2007/Racing\",\"2008/Racing\",\"2009/Racing\",\"2010/Racing\",\"2011/Racing\",\"2012/Racing\",\"2013/Racing\",\"2014/Racing\",\"2015/Racing\",\"2016/Racing\",\"2006/Role-Playing\",\"2007/Role-Playing\",\"2008/Role-Playing\",\"2009/Role-Playing\",\"2010/Role-Playing\",\"2011/Role-Playing\",\"2012/Role-Playing\",\"2013/Role-Playing\",\"2014/Role-Playing\",\"2015/Role-Playing\",\"2016/Role-Playing\",\"2017/Role-Playing\",\"2006/Shooter\",\"2007/Shooter\",\"2008/Shooter\",\"2009/Shooter\",\"2010/Shooter\",\"2011/Shooter\",\"2012/Shooter\",\"2013/Shooter\",\"2014/Shooter\",\"2015/Shooter\",\"2016/Shooter\",\"2006/Simulation\",\"2007/Simulation\",\"2008/Simulation\",\"2009/Simulation\",\"2010/Simulation\",\"2011/Simulation\",\"2012/Simulation\",\"2013/Simulation\",\"2014/Simulation\",\"2015/Simulation\",\"2016/Simulation\",\"2020/Simulation\",\"2006/Sports\",\"2007/Sports\",\"2008/Sports\",\"2009/Sports\",\"2010/Sports\",\"2011/Sports\",\"2012/Sports\",\"2013/Sports\",\"2014/Sports\",\"2015/Sports\",\"2016/Sports\",\"2006\",\"2007\",\"2008\",\"2009\",\"2010\",\"2011\",\"2012\",\"2013\",\"2014\",\"2015\",\"2016\",\"2017\",\"2020\"],\"labels\":[\"Action\",\"Action\",\"Action\",\"Action\",\"Action\",\"Action\",\"Action\",\"Action\",\"Action\",\"Action\",\"Action\",\"Action\",\"Fighting\",\"Fighting\",\"Fighting\",\"Fighting\",\"Fighting\",\"Fighting\",\"Fighting\",\"Fighting\",\"Fighting\",\"Fighting\",\"Fighting\",\"Misc\",\"Misc\",\"Misc\",\"Misc\",\"Misc\",\"Misc\",\"Misc\",\"Misc\",\"Misc\",\"Misc\",\"Misc\",\"Platform\",\"Platform\",\"Platform\",\"Platform\",\"Platform\",\"Platform\",\"Platform\",\"Platform\",\"Platform\",\"Platform\",\"Platform\",\"Racing\",\"Racing\",\"Racing\",\"Racing\",\"Racing\",\"Racing\",\"Racing\",\"Racing\",\"Racing\",\"Racing\",\"Racing\",\"Role-Playing\",\"Role-Playing\",\"Role-Playing\",\"Role-Playing\",\"Role-Playing\",\"Role-Playing\",\"Role-Playing\",\"Role-Playing\",\"Role-Playing\",\"Role-Playing\",\"Role-Playing\",\"Role-Playing\",\"Shooter\",\"Shooter\",\"Shooter\",\"Shooter\",\"Shooter\",\"Shooter\",\"Shooter\",\"Shooter\",\"Shooter\",\"Shooter\",\"Shooter\",\"Simulation\",\"Simulation\",\"Simulation\",\"Simulation\",\"Simulation\",\"Simulation\",\"Simulation\",\"Simulation\",\"Simulation\",\"Simulation\",\"Simulation\",\"Simulation\",\"Sports\",\"Sports\",\"Sports\",\"Sports\",\"Sports\",\"Sports\",\"Sports\",\"Sports\",\"Sports\",\"Sports\",\"Sports\",\"2006\",\"2007\",\"2008\",\"2009\",\"2010\",\"2011\",\"2012\",\"2013\",\"2014\",\"2015\",\"2016\",\"2017\",\"2020\"],\"name\":\"\",\"parents\":[\"2006\",\"2007\",\"2008\",\"2009\",\"2010\",\"2011\",\"2012\",\"2013\",\"2014\",\"2015\",\"2016\",\"2017\",\"2006\",\"2007\",\"2008\",\"2009\",\"2010\",\"2011\",\"2012\",\"2013\",\"2014\",\"2015\",\"2016\",\"2006\",\"2007\",\"2008\",\"2009\",\"2010\",\"2011\",\"2012\",\"2013\",\"2014\",\"2015\",\"2016\",\"2006\",\"2007\",\"2008\",\"2009\",\"2010\",\"2011\",\"2012\",\"2013\",\"2014\",\"2015\",\"2016\",\"2006\",\"2007\",\"2008\",\"2009\",\"2010\",\"2011\",\"2012\",\"2013\",\"2014\",\"2015\",\"2016\",\"2006\",\"2007\",\"2008\",\"2009\",\"2010\",\"2011\",\"2012\",\"2013\",\"2014\",\"2015\",\"2016\",\"2017\",\"2006\",\"2007\",\"2008\",\"2009\",\"2010\",\"2011\",\"2012\",\"2013\",\"2014\",\"2015\",\"2016\",\"2006\",\"2007\",\"2008\",\"2009\",\"2010\",\"2011\",\"2012\",\"2013\",\"2014\",\"2015\",\"2016\",\"2020\",\"2006\",\"2007\",\"2008\",\"2009\",\"2010\",\"2011\",\"2012\",\"2013\",\"2014\",\"2015\",\"2016\",\"\",\"\",\"\",\"\",\"\",\"\",\"\",\"\",\"\",\"\",\"\",\"\",\"\"],\"values\":[38.37,58.65,72.3,71.4,60.32,53.73,52.13,53.79,38.73,21.83,5.87,0.0,12.48,7.33,18.23,17.55,7.46,11.49,4.34,3.18,6.89,3.6,1.6,26.05,47.03,47.52,41.1,53.18,32.07,10.99,12.53,9.43,4.81,0.22,23.32,19.02,17.57,20.18,17.16,13.06,7.32,11.62,3.02,2.5,0.79,20.28,18.32,33.5,15.01,14.26,14.61,4.38,4.21,5.86,1.97,0.33,22.47,19.8,25.25,19.06,28.55,19.78,17.85,7.92,13.56,13.35,1.39,0.0,23.04,38.78,34.95,38.99,43.1,49.82,35.06,30.7,30.72,30.79,7.44,10.66,27.07,26.62,17.66,11.23,7.49,3.09,2.26,1.22,1.13,0.0,0.27,72.91,47.79,48.92,71.47,48.15,27.45,16.4,19.18,19.82,18.46,4.57,249.57999999999998,283.79,324.86,312.42,283.40999999999997,229.5,151.56,145.39,129.25,98.44,22.21,0.0,0.27],\"type\":\"sunburst\"}],                        {\"template\":{\"data\":{\"bar\":[{\"error_x\":{\"color\":\"#2a3f5f\"},\"error_y\":{\"color\":\"#2a3f5f\"},\"marker\":{\"line\":{\"color\":\"#E5ECF6\",\"width\":0.5},\"pattern\":{\"fillmode\":\"overlay\",\"size\":10,\"solidity\":0.2}},\"type\":\"bar\"}],\"barpolar\":[{\"marker\":{\"line\":{\"color\":\"#E5ECF6\",\"width\":0.5},\"pattern\":{\"fillmode\":\"overlay\",\"size\":10,\"solidity\":0.2}},\"type\":\"barpolar\"}],\"carpet\":[{\"aaxis\":{\"endlinecolor\":\"#2a3f5f\",\"gridcolor\":\"white\",\"linecolor\":\"white\",\"minorgridcolor\":\"white\",\"startlinecolor\":\"#2a3f5f\"},\"baxis\":{\"endlinecolor\":\"#2a3f5f\",\"gridcolor\":\"white\",\"linecolor\":\"white\",\"minorgridcolor\":\"white\",\"startlinecolor\":\"#2a3f5f\"},\"type\":\"carpet\"}],\"choropleth\":[{\"colorbar\":{\"outlinewidth\":0,\"ticks\":\"\"},\"type\":\"choropleth\"}],\"contour\":[{\"colorbar\":{\"outlinewidth\":0,\"ticks\":\"\"},\"colorscale\":[[0.0,\"#0d0887\"],[0.1111111111111111,\"#46039f\"],[0.2222222222222222,\"#7201a8\"],[0.3333333333333333,\"#9c179e\"],[0.4444444444444444,\"#bd3786\"],[0.5555555555555556,\"#d8576b\"],[0.6666666666666666,\"#ed7953\"],[0.7777777777777778,\"#fb9f3a\"],[0.8888888888888888,\"#fdca26\"],[1.0,\"#f0f921\"]],\"type\":\"contour\"}],\"contourcarpet\":[{\"colorbar\":{\"outlinewidth\":0,\"ticks\":\"\"},\"type\":\"contourcarpet\"}],\"heatmap\":[{\"colorbar\":{\"outlinewidth\":0,\"ticks\":\"\"},\"colorscale\":[[0.0,\"#0d0887\"],[0.1111111111111111,\"#46039f\"],[0.2222222222222222,\"#7201a8\"],[0.3333333333333333,\"#9c179e\"],[0.4444444444444444,\"#bd3786\"],[0.5555555555555556,\"#d8576b\"],[0.6666666666666666,\"#ed7953\"],[0.7777777777777778,\"#fb9f3a\"],[0.8888888888888888,\"#fdca26\"],[1.0,\"#f0f921\"]],\"type\":\"heatmap\"}],\"heatmapgl\":[{\"colorbar\":{\"outlinewidth\":0,\"ticks\":\"\"},\"colorscale\":[[0.0,\"#0d0887\"],[0.1111111111111111,\"#46039f\"],[0.2222222222222222,\"#7201a8\"],[0.3333333333333333,\"#9c179e\"],[0.4444444444444444,\"#bd3786\"],[0.5555555555555556,\"#d8576b\"],[0.6666666666666666,\"#ed7953\"],[0.7777777777777778,\"#fb9f3a\"],[0.8888888888888888,\"#fdca26\"],[1.0,\"#f0f921\"]],\"type\":\"heatmapgl\"}],\"histogram\":[{\"marker\":{\"pattern\":{\"fillmode\":\"overlay\",\"size\":10,\"solidity\":0.2}},\"type\":\"histogram\"}],\"histogram2d\":[{\"colorbar\":{\"outlinewidth\":0,\"ticks\":\"\"},\"colorscale\":[[0.0,\"#0d0887\"],[0.1111111111111111,\"#46039f\"],[0.2222222222222222,\"#7201a8\"],[0.3333333333333333,\"#9c179e\"],[0.4444444444444444,\"#bd3786\"],[0.5555555555555556,\"#d8576b\"],[0.6666666666666666,\"#ed7953\"],[0.7777777777777778,\"#fb9f3a\"],[0.8888888888888888,\"#fdca26\"],[1.0,\"#f0f921\"]],\"type\":\"histogram2d\"}],\"histogram2dcontour\":[{\"colorbar\":{\"outlinewidth\":0,\"ticks\":\"\"},\"colorscale\":[[0.0,\"#0d0887\"],[0.1111111111111111,\"#46039f\"],[0.2222222222222222,\"#7201a8\"],[0.3333333333333333,\"#9c179e\"],[0.4444444444444444,\"#bd3786\"],[0.5555555555555556,\"#d8576b\"],[0.6666666666666666,\"#ed7953\"],[0.7777777777777778,\"#fb9f3a\"],[0.8888888888888888,\"#fdca26\"],[1.0,\"#f0f921\"]],\"type\":\"histogram2dcontour\"}],\"mesh3d\":[{\"colorbar\":{\"outlinewidth\":0,\"ticks\":\"\"},\"type\":\"mesh3d\"}],\"parcoords\":[{\"line\":{\"colorbar\":{\"outlinewidth\":0,\"ticks\":\"\"}},\"type\":\"parcoords\"}],\"pie\":[{\"automargin\":true,\"type\":\"pie\"}],\"scatter\":[{\"marker\":{\"colorbar\":{\"outlinewidth\":0,\"ticks\":\"\"}},\"type\":\"scatter\"}],\"scatter3d\":[{\"line\":{\"colorbar\":{\"outlinewidth\":0,\"ticks\":\"\"}},\"marker\":{\"colorbar\":{\"outlinewidth\":0,\"ticks\":\"\"}},\"type\":\"scatter3d\"}],\"scattercarpet\":[{\"marker\":{\"colorbar\":{\"outlinewidth\":0,\"ticks\":\"\"}},\"type\":\"scattercarpet\"}],\"scattergeo\":[{\"marker\":{\"colorbar\":{\"outlinewidth\":0,\"ticks\":\"\"}},\"type\":\"scattergeo\"}],\"scattergl\":[{\"marker\":{\"colorbar\":{\"outlinewidth\":0,\"ticks\":\"\"}},\"type\":\"scattergl\"}],\"scattermapbox\":[{\"marker\":{\"colorbar\":{\"outlinewidth\":0,\"ticks\":\"\"}},\"type\":\"scattermapbox\"}],\"scatterpolar\":[{\"marker\":{\"colorbar\":{\"outlinewidth\":0,\"ticks\":\"\"}},\"type\":\"scatterpolar\"}],\"scatterpolargl\":[{\"marker\":{\"colorbar\":{\"outlinewidth\":0,\"ticks\":\"\"}},\"type\":\"scatterpolargl\"}],\"scatterternary\":[{\"marker\":{\"colorbar\":{\"outlinewidth\":0,\"ticks\":\"\"}},\"type\":\"scatterternary\"}],\"surface\":[{\"colorbar\":{\"outlinewidth\":0,\"ticks\":\"\"},\"colorscale\":[[0.0,\"#0d0887\"],[0.1111111111111111,\"#46039f\"],[0.2222222222222222,\"#7201a8\"],[0.3333333333333333,\"#9c179e\"],[0.4444444444444444,\"#bd3786\"],[0.5555555555555556,\"#d8576b\"],[0.6666666666666666,\"#ed7953\"],[0.7777777777777778,\"#fb9f3a\"],[0.8888888888888888,\"#fdca26\"],[1.0,\"#f0f921\"]],\"type\":\"surface\"}],\"table\":[{\"cells\":{\"fill\":{\"color\":\"#EBF0F8\"},\"line\":{\"color\":\"white\"}},\"header\":{\"fill\":{\"color\":\"#C8D4E3\"},\"line\":{\"color\":\"white\"}},\"type\":\"table\"}]},\"layout\":{\"annotationdefaults\":{\"arrowcolor\":\"#2a3f5f\",\"arrowhead\":0,\"arrowwidth\":1},\"autotypenumbers\":\"strict\",\"coloraxis\":{\"colorbar\":{\"outlinewidth\":0,\"ticks\":\"\"}},\"colorscale\":{\"diverging\":[[0,\"#8e0152\"],[0.1,\"#c51b7d\"],[0.2,\"#de77ae\"],[0.3,\"#f1b6da\"],[0.4,\"#fde0ef\"],[0.5,\"#f7f7f7\"],[0.6,\"#e6f5d0\"],[0.7,\"#b8e186\"],[0.8,\"#7fbc41\"],[0.9,\"#4d9221\"],[1,\"#276419\"]],\"sequential\":[[0.0,\"#0d0887\"],[0.1111111111111111,\"#46039f\"],[0.2222222222222222,\"#7201a8\"],[0.3333333333333333,\"#9c179e\"],[0.4444444444444444,\"#bd3786\"],[0.5555555555555556,\"#d8576b\"],[0.6666666666666666,\"#ed7953\"],[0.7777777777777778,\"#fb9f3a\"],[0.8888888888888888,\"#fdca26\"],[1.0,\"#f0f921\"]],\"sequentialminus\":[[0.0,\"#0d0887\"],[0.1111111111111111,\"#46039f\"],[0.2222222222222222,\"#7201a8\"],[0.3333333333333333,\"#9c179e\"],[0.4444444444444444,\"#bd3786\"],[0.5555555555555556,\"#d8576b\"],[0.6666666666666666,\"#ed7953\"],[0.7777777777777778,\"#fb9f3a\"],[0.8888888888888888,\"#fdca26\"],[1.0,\"#f0f921\"]]},\"colorway\":[\"#636efa\",\"#EF553B\",\"#00cc96\",\"#ab63fa\",\"#FFA15A\",\"#19d3f3\",\"#FF6692\",\"#B6E880\",\"#FF97FF\",\"#FECB52\"],\"font\":{\"color\":\"#2a3f5f\"},\"geo\":{\"bgcolor\":\"white\",\"lakecolor\":\"white\",\"landcolor\":\"#E5ECF6\",\"showlakes\":true,\"showland\":true,\"subunitcolor\":\"white\"},\"hoverlabel\":{\"align\":\"left\"},\"hovermode\":\"closest\",\"mapbox\":{\"style\":\"light\"},\"paper_bgcolor\":\"white\",\"plot_bgcolor\":\"#E5ECF6\",\"polar\":{\"angularaxis\":{\"gridcolor\":\"white\",\"linecolor\":\"white\",\"ticks\":\"\"},\"bgcolor\":\"#E5ECF6\",\"radialaxis\":{\"gridcolor\":\"white\",\"linecolor\":\"white\",\"ticks\":\"\"}},\"scene\":{\"xaxis\":{\"backgroundcolor\":\"#E5ECF6\",\"gridcolor\":\"white\",\"gridwidth\":2,\"linecolor\":\"white\",\"showbackground\":true,\"ticks\":\"\",\"zerolinecolor\":\"white\"},\"yaxis\":{\"backgroundcolor\":\"#E5ECF6\",\"gridcolor\":\"white\",\"gridwidth\":2,\"linecolor\":\"white\",\"showbackground\":true,\"ticks\":\"\",\"zerolinecolor\":\"white\"},\"zaxis\":{\"backgroundcolor\":\"#E5ECF6\",\"gridcolor\":\"white\",\"gridwidth\":2,\"linecolor\":\"white\",\"showbackground\":true,\"ticks\":\"\",\"zerolinecolor\":\"white\"}},\"shapedefaults\":{\"line\":{\"color\":\"#2a3f5f\"}},\"ternary\":{\"aaxis\":{\"gridcolor\":\"white\",\"linecolor\":\"white\",\"ticks\":\"\"},\"baxis\":{\"gridcolor\":\"white\",\"linecolor\":\"white\",\"ticks\":\"\"},\"bgcolor\":\"#E5ECF6\",\"caxis\":{\"gridcolor\":\"white\",\"linecolor\":\"white\",\"ticks\":\"\"}},\"title\":{\"x\":0.05},\"xaxis\":{\"automargin\":true,\"gridcolor\":\"white\",\"linecolor\":\"white\",\"ticks\":\"\",\"title\":{\"standoff\":15},\"zerolinecolor\":\"white\",\"zerolinewidth\":2},\"yaxis\":{\"automargin\":true,\"gridcolor\":\"white\",\"linecolor\":\"white\",\"ticks\":\"\",\"title\":{\"standoff\":15},\"zerolinecolor\":\"white\",\"zerolinewidth\":2}}},\"legend\":{\"tracegroupgap\":0},\"title\":{\"text\":\"Sales of Genre  by Year\"}},                        {\"responsive\": true}                    ).then(function(){\n",
              "                            \n",
              "var gd = document.getElementById('40849878-d1bb-460d-b3c8-677db817a19d');\n",
              "var x = new MutationObserver(function (mutations, observer) {{\n",
              "        var display = window.getComputedStyle(gd).display;\n",
              "        if (!display || display === 'none') {{\n",
              "            console.log([gd, 'removed!']);\n",
              "            Plotly.purge(gd);\n",
              "            observer.disconnect();\n",
              "        }}\n",
              "}});\n",
              "\n",
              "// Listen for the removal of the full notebook cells\n",
              "var notebookContainer = gd.closest('#notebook-container');\n",
              "if (notebookContainer) {{\n",
              "    x.observe(notebookContainer, {childList: true});\n",
              "}}\n",
              "\n",
              "// Listen for the clearing of the current output cell\n",
              "var outputEl = gd.closest('.output');\n",
              "if (outputEl) {{\n",
              "    x.observe(outputEl, {childList: true});\n",
              "}}\n",
              "\n",
              "                        })                };                            </script>        </div>\n",
              "</body>\n",
              "</html>"
            ]
          },
          "metadata": {}
        }
      ]
    },
    {
      "cell_type": "markdown",
      "source": [
        "# 실패율 성공률 "
      ],
      "metadata": {
        "id": "M81QD6atOJhL"
      }
    },
    {
      "cell_type": "markdown",
      "source": [
        "실패율과 성공률이 높았던 애들을 보여줘보자 "
      ],
      "metadata": {
        "id": "tAhvZ6n8ffEE"
      }
    },
    {
      "cell_type": "code",
      "source": [
        "import pandas as pd\n",
        "import numpy as np\n",
        "import matplotlib.pyplot as plt"
      ],
      "metadata": {
        "id": "_PL5C8eOKVp2"
      },
      "execution_count": 95,
      "outputs": []
    },
    {
      "cell_type": "code",
      "source": [
        "#망했던 게임 확률 (기준을 0으로 잡음)\n",
        "def fail(df ):\n",
        "  a= len(df)\n",
        "  b= len(df[df['NA_Sales']==0])\n",
        "  return round((b/a)*100, 2)"
      ],
      "metadata": {
        "id": "FNy-75exg0ip"
      },
      "execution_count": 96,
      "outputs": []
    },
    {
      "cell_type": "code",
      "source": [
        "act_2006=vg2_2006_main[vg2_2006_main['Genre']=='Action']\n",
        "fig_2006=vg2_2006_main[vg2_2006_main['Genre']=='Fighting']\n",
        "mis_2006=vg2_2006_main[vg2_2006_main['Genre']=='Misc']\n",
        "pla_2006=vg2_2006_main[vg2_2006_main['Genre']=='Platform']\n",
        "rac_2006=vg2_2006_main[vg2_2006_main['Genre']=='Racing']\n",
        "rol_2006=vg2_2006_main[vg2_2006_main['Genre']=='Role-Playing']\n",
        "sho_2006=vg2_2006_main[vg2_2006_main['Genre']=='Shooter']\n",
        "sim_2006=vg2_2006_main[vg2_2006_main['Genre']=='Simulation']\n",
        "spo_2006=vg2_2006_main[vg2_2006_main['Genre']=='Sports']"
      ],
      "metadata": {
        "id": "GBE87T16hiru"
      },
      "execution_count": 97,
      "outputs": []
    },
    {
      "cell_type": "code",
      "source": [
        "fail(act_2006)"
      ],
      "metadata": {
        "colab": {
          "base_uri": "https://localhost:8080/"
        },
        "id": "RX1By_ibo9OJ",
        "outputId": "d9ccc608-8601-46a0-a75c-3dd240a5d137"
      },
      "execution_count": 98,
      "outputs": [
        {
          "output_type": "execute_result",
          "data": {
            "text/plain": [
              "28.39"
            ]
          },
          "metadata": {},
          "execution_count": 98
        }
      ]
    },
    {
      "cell_type": "code",
      "source": [
        "fail_rate = [fail(act_2006),fail(fig_2006),fail(mis_2006),fail(pla_2006),\n",
        "           fail(rac_2006),fail(rol_2006),fail(sho_2006), fail(sim_2006),\n",
        "           fail(spo_2006)]\n",
        "\n",
        "genre=['Action','Fighting','Misc','Platform',\n",
        "            'Racing','Role-Playing','Shooter','Simulation','Sports']"
      ],
      "metadata": {
        "id": "nvi7gjyShC-k"
      },
      "execution_count": 99,
      "outputs": []
    },
    {
      "cell_type": "code",
      "source": [
        "#실패율\n",
        "fig_fail=px.line(x=genre, y= fail_rate )\n",
        "fig_fail;"
      ],
      "metadata": {
        "id": "gI1qHY8kLydT"
      },
      "execution_count": 100,
      "outputs": []
    },
    {
      "cell_type": "code",
      "source": [
        "vg2_fail = vg2_2006_main[vg2_2006_main['NA_Sales']==0]"
      ],
      "metadata": {
        "id": "cJns3Qt6Zl0x"
      },
      "execution_count": 101,
      "outputs": []
    },
    {
      "cell_type": "code",
      "source": [
        "#성공률\n",
        "#상위 25%의 게임장르들은 무엇이 있으며 어떤 플랫폼을 사용하였을까(전체 10171개 중 상위 2500개만 확인)\n",
        "vg2_main_2500 =vg2_2006_main.sort_values(by='NA_Sales',ascending=False).head(2500)"
      ],
      "metadata": {
        "id": "gImZNcPHP0rw"
      },
      "execution_count": 102,
      "outputs": []
    },
    {
      "cell_type": "code",
      "source": [
        "def success(x,y):\n",
        "  a=len(x)\n",
        "  b=len(vg2_main_2500[vg2_main_2500['Genre']==y])\n",
        "  return round((b/a)*100,2)"
      ],
      "metadata": {
        "id": "s9hXeZs5dYsi"
      },
      "execution_count": 103,
      "outputs": []
    },
    {
      "cell_type": "code",
      "source": [
        "suc_rate=[success(act_2006, 'Action'),\n",
        "          success(fig_2006, 'Fighting'),\n",
        "          success(mis_2006, 'Misc'),\n",
        "          success(pla_2006,'Platform'),\n",
        "          success(rac_2006,'Racing'),\n",
        "          success(rol_2006,'Role-Playing'),\n",
        "          success(sho_2006,'Shooter'),\n",
        "          success(sim_2006,'Simulation'),\n",
        "          success(spo_2006,'Sports')]\n",
        "suc_rate"
      ],
      "metadata": {
        "id": "eTvphtUdK6ah",
        "colab": {
          "base_uri": "https://localhost:8080/"
        },
        "outputId": "b3847a1b-9d0d-4257-fbf5-d347c955616f"
      },
      "execution_count": 147,
      "outputs": [
        {
          "output_type": "execute_result",
          "data": {
            "text/plain": [
              "[25.88, 29.44, 23.28, 36.31, 27.83, 19.76, 40.58, 28.24, 31.72]"
            ]
          },
          "metadata": {},
          "execution_count": 147
        }
      ]
    },
    {
      "cell_type": "code",
      "source": [
        "rate= pd.DataFrame({'Genre': genre,\n",
        "                'Fail':fail_rate, \n",
        "                'Suc' :suc_rate})\n"
      ],
      "metadata": {
        "id": "N0EPqcc82Mf7"
      },
      "execution_count": 148,
      "outputs": []
    },
    {
      "cell_type": "code",
      "source": [
        "rate"
      ],
      "metadata": {
        "colab": {
          "base_uri": "https://localhost:8080/",
          "height": 332
        },
        "id": "9pbSUHwj5uj1",
        "outputId": "3d2cf118-6dd3-40fb-e54c-9f57ddfecef5"
      },
      "execution_count": 149,
      "outputs": [
        {
          "output_type": "execute_result",
          "data": {
            "text/plain": [
              "          Genre   Fail    Suc\n",
              "0        Action  28.39  25.88\n",
              "1      Fighting  32.36  29.44\n",
              "2          Misc  34.44  23.28\n",
              "3      Platform  10.71  36.31\n",
              "4        Racing  15.44  27.83\n",
              "5  Role-Playing  44.81  19.76\n",
              "6       Shooter  12.47  40.58\n",
              "7    Simulation  27.73  28.24\n",
              "8        Sports  23.45  31.72"
            ],
            "text/html": [
              "\n",
              "  <div id=\"df-4075ac04-1132-44ae-a79f-0222eeed137a\">\n",
              "    <div class=\"colab-df-container\">\n",
              "      <div>\n",
              "<style scoped>\n",
              "    .dataframe tbody tr th:only-of-type {\n",
              "        vertical-align: middle;\n",
              "    }\n",
              "\n",
              "    .dataframe tbody tr th {\n",
              "        vertical-align: top;\n",
              "    }\n",
              "\n",
              "    .dataframe thead th {\n",
              "        text-align: right;\n",
              "    }\n",
              "</style>\n",
              "<table border=\"1\" class=\"dataframe\">\n",
              "  <thead>\n",
              "    <tr style=\"text-align: right;\">\n",
              "      <th></th>\n",
              "      <th>Genre</th>\n",
              "      <th>Fail</th>\n",
              "      <th>Suc</th>\n",
              "    </tr>\n",
              "  </thead>\n",
              "  <tbody>\n",
              "    <tr>\n",
              "      <th>0</th>\n",
              "      <td>Action</td>\n",
              "      <td>28.39</td>\n",
              "      <td>25.88</td>\n",
              "    </tr>\n",
              "    <tr>\n",
              "      <th>1</th>\n",
              "      <td>Fighting</td>\n",
              "      <td>32.36</td>\n",
              "      <td>29.44</td>\n",
              "    </tr>\n",
              "    <tr>\n",
              "      <th>2</th>\n",
              "      <td>Misc</td>\n",
              "      <td>34.44</td>\n",
              "      <td>23.28</td>\n",
              "    </tr>\n",
              "    <tr>\n",
              "      <th>3</th>\n",
              "      <td>Platform</td>\n",
              "      <td>10.71</td>\n",
              "      <td>36.31</td>\n",
              "    </tr>\n",
              "    <tr>\n",
              "      <th>4</th>\n",
              "      <td>Racing</td>\n",
              "      <td>15.44</td>\n",
              "      <td>27.83</td>\n",
              "    </tr>\n",
              "    <tr>\n",
              "      <th>5</th>\n",
              "      <td>Role-Playing</td>\n",
              "      <td>44.81</td>\n",
              "      <td>19.76</td>\n",
              "    </tr>\n",
              "    <tr>\n",
              "      <th>6</th>\n",
              "      <td>Shooter</td>\n",
              "      <td>12.47</td>\n",
              "      <td>40.58</td>\n",
              "    </tr>\n",
              "    <tr>\n",
              "      <th>7</th>\n",
              "      <td>Simulation</td>\n",
              "      <td>27.73</td>\n",
              "      <td>28.24</td>\n",
              "    </tr>\n",
              "    <tr>\n",
              "      <th>8</th>\n",
              "      <td>Sports</td>\n",
              "      <td>23.45</td>\n",
              "      <td>31.72</td>\n",
              "    </tr>\n",
              "  </tbody>\n",
              "</table>\n",
              "</div>\n",
              "      <button class=\"colab-df-convert\" onclick=\"convertToInteractive('df-4075ac04-1132-44ae-a79f-0222eeed137a')\"\n",
              "              title=\"Convert this dataframe to an interactive table.\"\n",
              "              style=\"display:none;\">\n",
              "        \n",
              "  <svg xmlns=\"http://www.w3.org/2000/svg\" height=\"24px\"viewBox=\"0 0 24 24\"\n",
              "       width=\"24px\">\n",
              "    <path d=\"M0 0h24v24H0V0z\" fill=\"none\"/>\n",
              "    <path d=\"M18.56 5.44l.94 2.06.94-2.06 2.06-.94-2.06-.94-.94-2.06-.94 2.06-2.06.94zm-11 1L8.5 8.5l.94-2.06 2.06-.94-2.06-.94L8.5 2.5l-.94 2.06-2.06.94zm10 10l.94 2.06.94-2.06 2.06-.94-2.06-.94-.94-2.06-.94 2.06-2.06.94z\"/><path d=\"M17.41 7.96l-1.37-1.37c-.4-.4-.92-.59-1.43-.59-.52 0-1.04.2-1.43.59L10.3 9.45l-7.72 7.72c-.78.78-.78 2.05 0 2.83L4 21.41c.39.39.9.59 1.41.59.51 0 1.02-.2 1.41-.59l7.78-7.78 2.81-2.81c.8-.78.8-2.07 0-2.86zM5.41 20L4 18.59l7.72-7.72 1.47 1.35L5.41 20z\"/>\n",
              "  </svg>\n",
              "      </button>\n",
              "      \n",
              "  <style>\n",
              "    .colab-df-container {\n",
              "      display:flex;\n",
              "      flex-wrap:wrap;\n",
              "      gap: 12px;\n",
              "    }\n",
              "\n",
              "    .colab-df-convert {\n",
              "      background-color: #E8F0FE;\n",
              "      border: none;\n",
              "      border-radius: 50%;\n",
              "      cursor: pointer;\n",
              "      display: none;\n",
              "      fill: #1967D2;\n",
              "      height: 32px;\n",
              "      padding: 0 0 0 0;\n",
              "      width: 32px;\n",
              "    }\n",
              "\n",
              "    .colab-df-convert:hover {\n",
              "      background-color: #E2EBFA;\n",
              "      box-shadow: 0px 1px 2px rgba(60, 64, 67, 0.3), 0px 1px 3px 1px rgba(60, 64, 67, 0.15);\n",
              "      fill: #174EA6;\n",
              "    }\n",
              "\n",
              "    [theme=dark] .colab-df-convert {\n",
              "      background-color: #3B4455;\n",
              "      fill: #D2E3FC;\n",
              "    }\n",
              "\n",
              "    [theme=dark] .colab-df-convert:hover {\n",
              "      background-color: #434B5C;\n",
              "      box-shadow: 0px 1px 3px 1px rgba(0, 0, 0, 0.15);\n",
              "      filter: drop-shadow(0px 1px 2px rgba(0, 0, 0, 0.3));\n",
              "      fill: #FFFFFF;\n",
              "    }\n",
              "  </style>\n",
              "\n",
              "      <script>\n",
              "        const buttonEl =\n",
              "          document.querySelector('#df-4075ac04-1132-44ae-a79f-0222eeed137a button.colab-df-convert');\n",
              "        buttonEl.style.display =\n",
              "          google.colab.kernel.accessAllowed ? 'block' : 'none';\n",
              "\n",
              "        async function convertToInteractive(key) {\n",
              "          const element = document.querySelector('#df-4075ac04-1132-44ae-a79f-0222eeed137a');\n",
              "          const dataTable =\n",
              "            await google.colab.kernel.invokeFunction('convertToInteractive',\n",
              "                                                     [key], {});\n",
              "          if (!dataTable) return;\n",
              "\n",
              "          const docLinkHtml = 'Like what you see? Visit the ' +\n",
              "            '<a target=\"_blank\" href=https://colab.research.google.com/notebooks/data_table.ipynb>data table notebook</a>'\n",
              "            + ' to learn more about interactive tables.';\n",
              "          element.innerHTML = '';\n",
              "          dataTable['output_type'] = 'display_data';\n",
              "          await google.colab.output.renderOutput(dataTable, element);\n",
              "          const docLink = document.createElement('div');\n",
              "          docLink.innerHTML = docLinkHtml;\n",
              "          element.appendChild(docLink);\n",
              "        }\n",
              "      </script>\n",
              "    </div>\n",
              "  </div>\n",
              "  "
            ]
          },
          "metadata": {},
          "execution_count": 149
        }
      ]
    },
    {
      "cell_type": "markdown",
      "source": [],
      "metadata": {
        "id": "xoixH7uQmARC"
      }
    },
    {
      "cell_type": "code",
      "source": [
        "rate['Suc'].astype(float)\n",
        "rate['Fail'].astype(float)"
      ],
      "metadata": {
        "colab": {
          "base_uri": "https://localhost:8080/"
        },
        "id": "7NcNBFAl6mZV",
        "outputId": "6b871b50-ac52-4835-d8c6-540d7d7b73af"
      },
      "execution_count": 150,
      "outputs": [
        {
          "output_type": "execute_result",
          "data": {
            "text/plain": [
              "0    28.39\n",
              "1    32.36\n",
              "2    34.44\n",
              "3    10.71\n",
              "4    15.44\n",
              "5    44.81\n",
              "6    12.47\n",
              "7    27.73\n",
              "8    23.45\n",
              "Name: Fail, dtype: float64"
            ]
          },
          "metadata": {},
          "execution_count": 150
        }
      ]
    },
    {
      "cell_type": "code",
      "source": [
        "plt.figure(figsize=(15,8))\n",
        "s=sns.barplot( data =rate,x='Genre', y='Suc');\n",
        "s.set_title(\"Possibility of Succes\");"
      ],
      "metadata": {
        "colab": {
          "base_uri": "https://localhost:8080/",
          "height": 513
        },
        "id": "qLXUN9fv9tBJ",
        "outputId": "d1be80a0-69d1-4741-df5e-4d01a1a2a12f"
      },
      "execution_count": 151,
      "outputs": [
        {
          "output_type": "display_data",
          "data": {
            "text/plain": [
              "<Figure size 1080x576 with 1 Axes>"
            ],
            "image/png": "[encoded data removed]"
          },
          "metadata": {
            "needs_background": "light"
          }
        }
      ]
    },
    {
      "cell_type": "code",
      "source": [
        "plt.figure(figsize=(15,8))\n",
        "f=sns.barplot( data =rate,x='Genre', y='Fail');\n",
        "f.set_title(\"Possibility of Fail\");"
      ],
      "metadata": {
        "colab": {
          "base_uri": "https://localhost:8080/",
          "height": 513
        },
        "id": "ECqozvqU3n0M",
        "outputId": "dda763a0-4736-4cf7-c460-327927b4f199"
      },
      "execution_count": 152,
      "outputs": [
        {
          "output_type": "display_data",
          "data": {
            "text/plain": [
              "<Figure size 1080x576 with 1 Axes>"
            ],
            "image/png": "[encoded data removed]"
          },
          "metadata": {
            "needs_background": "light"
          }
        }
      ]
    },
    {
      "cell_type": "code",
      "source": [],
      "metadata": {
        "id": "jYlSaXGCLnTf"
      },
      "execution_count": 109,
      "outputs": []
    },
    {
      "cell_type": "code",
      "source": [],
      "metadata": {
        "id": "uZytUYW8r8Va"
      },
      "execution_count": 109,
      "outputs": []
    },
    {
      "cell_type": "markdown",
      "source": [
        "# 플랫폼"
      ],
      "metadata": {
        "id": "7_DmtYW6nuO_"
      }
    }
  ]
}