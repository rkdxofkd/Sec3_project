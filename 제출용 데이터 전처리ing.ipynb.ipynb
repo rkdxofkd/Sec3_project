{
  "nbformat": 4,
  "nbformat_minor": 0,
  "metadata": {
    "colab": {
      "provenance": [],
      "collapsed_sections": [],
      "authorship_tag": "ABX9TyPyfk7bgFiHmdFTG+ghxzfa",
      "include_colab_link": true
    },
    "kernelspec": {
      "name": "python3",
      "display_name": "Python 3"
    },
    "language_info": {
      "name": "python"
    }
  },
  "cells": [
    {
      "cell_type": "markdown",
      "metadata": {
        "id": "view-in-github",
        "colab_type": "text"
      },
      "source": [
        "<a href=\"https://colab.research.google.com/github/rkdxofkd/after_like/blob/main/%EC%A0%9C%EC%B6%9C%EC%9A%A9%20%EB%8D%B0%EC%9D%B4%ED%84%B0%20%EC%A0%84%EC%B2%98%EB%A6%ACing.ipynb.ipynb\" target=\"_parent\"><img src=\"https://colab.research.google.com/assets/colab-badge.svg\" alt=\"Open In Colab\"/></a>"
      ]
    },
    {
      "cell_type": "code",
      "execution_count": 1,
      "metadata": {
        "colab": {
          "base_uri": "https://localhost:8080/"
        },
        "id": "sWQMwiv_hQ91",
        "outputId": "0a842a83-95de-4403-8c6f-b8a91db2cb6f"
      },
      "outputs": [
        {
          "output_type": "stream",
          "name": "stdout",
          "text": [
            "Looking in indexes: https://pypi.org/simple, https://us-python.pkg.dev/colab-wheels/public/simple/\n",
            "Collecting category_encoders\n",
            "  Downloading category_encoders-2.5.0-py2.py3-none-any.whl (69 kB)\n",
            "\u001b[K     |████████████████████████████████| 69 kB 2.9 MB/s \n",
            "\u001b[?25hRequirement already satisfied: numpy>=1.14.0 in /usr/local/lib/python3.7/dist-packages (from category_encoders) (1.21.6)\n",
            "Requirement already satisfied: scikit-learn>=0.20.0 in /usr/local/lib/python3.7/dist-packages (from category_encoders) (1.0.2)\n",
            "Requirement already satisfied: scipy>=1.0.0 in /usr/local/lib/python3.7/dist-packages (from category_encoders) (1.7.3)\n",
            "Requirement already satisfied: pandas>=1.0.5 in /usr/local/lib/python3.7/dist-packages (from category_encoders) (1.3.5)\n",
            "Requirement already satisfied: statsmodels>=0.9.0 in /usr/local/lib/python3.7/dist-packages (from category_encoders) (0.12.2)\n",
            "Requirement already satisfied: patsy>=0.5.1 in /usr/local/lib/python3.7/dist-packages (from category_encoders) (0.5.2)\n",
            "Requirement already satisfied: pytz>=2017.3 in /usr/local/lib/python3.7/dist-packages (from pandas>=1.0.5->category_encoders) (2022.2.1)\n",
            "Requirement already satisfied: python-dateutil>=2.7.3 in /usr/local/lib/python3.7/dist-packages (from pandas>=1.0.5->category_encoders) (2.8.2)\n",
            "Requirement already satisfied: six in /usr/local/lib/python3.7/dist-packages (from patsy>=0.5.1->category_encoders) (1.15.0)\n",
            "Requirement already satisfied: threadpoolctl>=2.0.0 in /usr/local/lib/python3.7/dist-packages (from scikit-learn>=0.20.0->category_encoders) (3.1.0)\n",
            "Requirement already satisfied: joblib>=0.11 in /usr/local/lib/python3.7/dist-packages (from scikit-learn>=0.20.0->category_encoders) (1.1.0)\n",
            "Installing collected packages: category-encoders\n",
            "Successfully installed category-encoders-2.5.0\n",
            "Looking in indexes: https://pypi.org/simple, https://us-python.pkg.dev/colab-wheels/public/simple/\n",
            "Collecting pandas-profiling==3.1.0\n",
            "  Downloading pandas_profiling-3.1.0-py2.py3-none-any.whl (261 kB)\n",
            "\u001b[K     |████████████████████████████████| 261 kB 4.4 MB/s \n",
            "\u001b[?25hCollecting joblib~=1.0.1\n",
            "  Downloading joblib-1.0.1-py3-none-any.whl (303 kB)\n",
            "\u001b[K     |████████████████████████████████| 303 kB 44.3 MB/s \n",
            "\u001b[?25hCollecting tangled-up-in-unicode==0.1.0\n",
            "  Downloading tangled_up_in_unicode-0.1.0-py3-none-any.whl (3.1 MB)\n",
            "\u001b[K     |████████████████████████████████| 3.1 MB 9.9 MB/s \n",
            "\u001b[?25hRequirement already satisfied: tqdm>=4.48.2 in /usr/local/lib/python3.7/dist-packages (from pandas-profiling==3.1.0) (4.64.1)\n",
            "Requirement already satisfied: seaborn>=0.10.1 in /usr/local/lib/python3.7/dist-packages (from pandas-profiling==3.1.0) (0.11.2)\n",
            "Collecting htmlmin>=0.1.12\n",
            "  Downloading htmlmin-0.1.12.tar.gz (19 kB)\n",
            "Requirement already satisfied: numpy>=1.16.0 in /usr/local/lib/python3.7/dist-packages (from pandas-profiling==3.1.0) (1.21.6)\n",
            "Requirement already satisfied: matplotlib>=3.2.0 in /usr/local/lib/python3.7/dist-packages (from pandas-profiling==3.1.0) (3.2.2)\n",
            "Requirement already satisfied: scipy>=1.4.1 in /usr/local/lib/python3.7/dist-packages (from pandas-profiling==3.1.0) (1.7.3)\n",
            "Requirement already satisfied: missingno>=0.4.2 in /usr/local/lib/python3.7/dist-packages (from pandas-profiling==3.1.0) (0.5.1)\n",
            "Collecting phik>=0.11.1\n",
            "  Downloading phik-0.12.2-cp37-cp37m-manylinux_2_17_x86_64.manylinux2014_x86_64.whl (690 kB)\n",
            "\u001b[K     |████████████████████████████████| 690 kB 39.9 MB/s \n",
            "\u001b[?25hRequirement already satisfied: markupsafe~=2.0.1 in /usr/local/lib/python3.7/dist-packages (from pandas-profiling==3.1.0) (2.0.1)\n",
            "Collecting visions[type_image_path]==0.7.4\n",
            "  Downloading visions-0.7.4-py3-none-any.whl (102 kB)\n",
            "\u001b[K     |████████████████████████████████| 102 kB 10.7 MB/s \n",
            "\u001b[?25hRequirement already satisfied: jinja2>=2.11.1 in /usr/local/lib/python3.7/dist-packages (from pandas-profiling==3.1.0) (2.11.3)\n",
            "Requirement already satisfied: pandas!=1.0.0,!=1.0.1,!=1.0.2,!=1.1.0,>=0.25.3 in /usr/local/lib/python3.7/dist-packages (from pandas-profiling==3.1.0) (1.3.5)\n",
            "Collecting requests>=2.24.0\n",
            "  Downloading requests-2.28.1-py3-none-any.whl (62 kB)\n",
            "\u001b[K     |████████████████████████████████| 62 kB 952 kB/s \n",
            "\u001b[?25hRequirement already satisfied: pydantic>=1.8.1 in /usr/local/lib/python3.7/dist-packages (from pandas-profiling==3.1.0) (1.9.2)\n",
            "Requirement already satisfied: PyYAML>=5.0.0 in /usr/local/lib/python3.7/dist-packages (from pandas-profiling==3.1.0) (6.0)\n",
            "Collecting multimethod>=1.4\n",
            "  Downloading multimethod-1.9-py3-none-any.whl (10 kB)\n",
            "Requirement already satisfied: attrs>=19.3.0 in /usr/local/lib/python3.7/dist-packages (from visions[type_image_path]==0.7.4->pandas-profiling==3.1.0) (22.1.0)\n",
            "Requirement already satisfied: networkx>=2.4 in /usr/local/lib/python3.7/dist-packages (from visions[type_image_path]==0.7.4->pandas-profiling==3.1.0) (2.6.3)\n",
            "Requirement already satisfied: Pillow in /usr/local/lib/python3.7/dist-packages (from visions[type_image_path]==0.7.4->pandas-profiling==3.1.0) (7.1.2)\n",
            "Collecting imagehash\n",
            "  Downloading ImageHash-4.3.0-py2.py3-none-any.whl (296 kB)\n",
            "\u001b[K     |████████████████████████████████| 296 kB 51.0 MB/s \n",
            "\u001b[?25hRequirement already satisfied: pyparsing!=2.0.4,!=2.1.2,!=2.1.6,>=2.0.1 in /usr/local/lib/python3.7/dist-packages (from matplotlib>=3.2.0->pandas-profiling==3.1.0) (3.0.9)\n",
            "Requirement already satisfied: python-dateutil>=2.1 in /usr/local/lib/python3.7/dist-packages (from matplotlib>=3.2.0->pandas-profiling==3.1.0) (2.8.2)\n",
            "Requirement already satisfied: cycler>=0.10 in /usr/local/lib/python3.7/dist-packages (from matplotlib>=3.2.0->pandas-profiling==3.1.0) (0.11.0)\n",
            "Requirement already satisfied: kiwisolver>=1.0.1 in /usr/local/lib/python3.7/dist-packages (from matplotlib>=3.2.0->pandas-profiling==3.1.0) (1.4.4)\n",
            "Requirement already satisfied: typing-extensions in /usr/local/lib/python3.7/dist-packages (from kiwisolver>=1.0.1->matplotlib>=3.2.0->pandas-profiling==3.1.0) (4.1.1)\n",
            "Requirement already satisfied: pytz>=2017.3 in /usr/local/lib/python3.7/dist-packages (from pandas!=1.0.0,!=1.0.1,!=1.0.2,!=1.1.0,>=0.25.3->pandas-profiling==3.1.0) (2022.2.1)\n",
            "Requirement already satisfied: six>=1.5 in /usr/local/lib/python3.7/dist-packages (from python-dateutil>=2.1->matplotlib>=3.2.0->pandas-profiling==3.1.0) (1.15.0)\n",
            "Requirement already satisfied: urllib3<1.27,>=1.21.1 in /usr/local/lib/python3.7/dist-packages (from requests>=2.24.0->pandas-profiling==3.1.0) (1.24.3)\n",
            "Requirement already satisfied: idna<4,>=2.5 in /usr/local/lib/python3.7/dist-packages (from requests>=2.24.0->pandas-profiling==3.1.0) (2.10)\n",
            "Requirement already satisfied: certifi>=2017.4.17 in /usr/local/lib/python3.7/dist-packages (from requests>=2.24.0->pandas-profiling==3.1.0) (2022.6.15)\n",
            "Requirement already satisfied: charset-normalizer<3,>=2 in /usr/local/lib/python3.7/dist-packages (from requests>=2.24.0->pandas-profiling==3.1.0) (2.1.1)\n",
            "Requirement already satisfied: PyWavelets in /usr/local/lib/python3.7/dist-packages (from imagehash->visions[type_image_path]==0.7.4->pandas-profiling==3.1.0) (1.3.0)\n",
            "Building wheels for collected packages: htmlmin\n",
            "  Building wheel for htmlmin (setup.py) ... \u001b[?25l\u001b[?25hdone\n",
            "  Created wheel for htmlmin: filename=htmlmin-0.1.12-py3-none-any.whl size=27098 sha256=d1b41a35638bd868adeed91ad6692ab969e0d8039898023fb2990f898ce2d636\n",
            "  Stored in directory: /root/.cache/pip/wheels/70/e1/52/5b14d250ba868768823940c3229e9950d201a26d0bd3ee8655\n",
            "Successfully built htmlmin\n",
            "Installing collected packages: tangled-up-in-unicode, multimethod, visions, joblib, imagehash, requests, phik, htmlmin, pandas-profiling\n",
            "  Attempting uninstall: joblib\n",
            "    Found existing installation: joblib 1.1.0\n",
            "    Uninstalling joblib-1.1.0:\n",
            "      Successfully uninstalled joblib-1.1.0\n",
            "  Attempting uninstall: requests\n",
            "    Found existing installation: requests 2.23.0\n",
            "    Uninstalling requests-2.23.0:\n",
            "      Successfully uninstalled requests-2.23.0\n",
            "  Attempting uninstall: pandas-profiling\n",
            "    Found existing installation: pandas-profiling 1.4.1\n",
            "    Uninstalling pandas-profiling-1.4.1:\n",
            "      Successfully uninstalled pandas-profiling-1.4.1\n",
            "Successfully installed htmlmin-0.1.12 imagehash-4.3.0 joblib-1.0.1 multimethod-1.9 pandas-profiling-3.1.0 phik-0.12.2 requests-2.28.1 tangled-up-in-unicode-0.1.0 visions-0.7.4\n"
          ]
        }
      ],
      "source": [
        "!pip install category_encoders\n",
        "!pip install pandas-profiling==3.1.0"
      ]
    },
    {
      "cell_type": "code",
      "source": [
        "import pandas as pd\n",
        "\n",
        "# target\n",
        "target = 'vacc_h1n1_f'\n",
        "\n",
        "\n",
        "# train, test data\n",
        "train = pd.merge(pd.read_csv('https://ds-lecture-data.s3.ap-northeast-2.amazonaws.com/vacc_flu/train.csv'), \n",
        "                 pd.read_csv('https://ds-lecture-data.s3.ap-northeast-2.amazonaws.com/vacc_flu/train_labels.csv')[target], left_index=True, right_index=True)\n",
        "test = pd.read_csv('https://ds-lecture-data.s3.ap-northeast-2.amazonaws.com/vacc_flu/test.csv')\n",
        "\n",
        "\n",
        "# submission form\n",
        "sample_submission = pd.read_csv('https://ds-lecture-data.s3.ap-northeast-2.amazonaws.com/vacc_flu/submission.csv')"
      ],
      "metadata": {
        "id": "JbvaJ4PshXgw"
      },
      "execution_count": 2,
      "outputs": []
    },
    {
      "cell_type": "code",
      "source": [],
      "metadata": {
        "id": "7M9Ivwh77YqW"
      },
      "execution_count": null,
      "outputs": []
    },
    {
      "cell_type": "code",
      "source": [
        "from sklearn.model_selection import train_test_split\n",
        "\n",
        "train, val = train_test_split(\n",
        "    train, train_size=0.80, test_size=0.20, stratify=train[target], random_state=2\n",
        ")"
      ],
      "metadata": {
        "id": "oFBzZuEvhZWN"
      },
      "execution_count": 3,
      "outputs": []
    },
    {
      "cell_type": "code",
      "source": [
        "# 백신을 맞았다는 대답은 총 33723명 중 8062명이 했다\n",
        "train['vacc_h1n1_f'].sum()\n",
        "#len(train)"
      ],
      "metadata": {
        "colab": {
          "base_uri": "https://localhost:8080/"
        },
        "id": "HQ1cAxqf9oX1",
        "outputId": "d72eb077-1161-4bad-a7d5-a678a82dc2c2"
      },
      "execution_count": 27,
      "outputs": [
        {
          "output_type": "execute_result",
          "data": {
            "text/plain": [
              "33723"
            ]
          },
          "metadata": {},
          "execution_count": 27
        }
      ]
    },
    {
      "cell_type": "code",
      "source": [
        "train[train['agegrp'].isnull()]['vacc_h1n1_f'].sum()"
      ],
      "metadata": {
        "colab": {
          "base_uri": "https://localhost:8080/"
        },
        "id": "ACCFgNhPEXeG",
        "outputId": "90357e8f-a196-493a-f071-e6abaf1c46bc"
      },
      "execution_count": 138,
      "outputs": [
        {
          "output_type": "execute_result",
          "data": {
            "text/plain": [
              "0"
            ]
          },
          "metadata": {},
          "execution_count": 138
        }
      ]
    },
    {
      "cell_type": "code",
      "source": [
        "train[train['health_worker']==1]['vacc_h1n1_f'].mean()"
      ],
      "metadata": {
        "colab": {
          "base_uri": "https://localhost:8080/"
        },
        "id": "n1u6VJVFEwFP",
        "outputId": "c7e845cc-2816-49a1-cd40-216f6b70eb46"
      },
      "execution_count": 103,
      "outputs": [
        {
          "output_type": "execute_result",
          "data": {
            "text/plain": [
              "0.4106529209621993"
            ]
          },
          "metadata": {},
          "execution_count": 103
        }
      ]
    },
    {
      "cell_type": "code",
      "source": [
        "train['state'].value_counts()"
      ],
      "metadata": {
        "colab": {
          "base_uri": "https://localhost:8080/"
        },
        "id": "bHzV1KoquDMW",
        "outputId": "34f4802e-2560-4b11-9e89-f44e27a1f96b"
      },
      "execution_count": 146,
      "outputs": [
        {
          "output_type": "execute_result",
          "data": {
            "text/plain": [
              "CALIFORNIA             829\n",
              "TEXAS                  825\n",
              "NEW MEXICO             814\n",
              "VIRGINIA               780\n",
              "MARYLAND               774\n",
              "ILLINOIS               769\n",
              "GEORGIA                763\n",
              "DISTRICTOF COLUMBIA    742\n",
              "FLORIDA                741\n",
              "ARIZONA                730\n",
              "MISSISSIPPI            730\n",
              "UTAH                   713\n",
              "LOUISIANA              710\n",
              "NEW YORK               708\n",
              "ALASKA                 697\n",
              "NEW JERSEY             688\n",
              "ALABAMA                678\n",
              "COLORADO               678\n",
              "WASHINGTON             676\n",
              "NORTH CAROLINA         673\n",
              "WYOMING                672\n",
              "INDIANA                669\n",
              "NEVADA                 668\n",
              "DELAWARE               656\n",
              "IDAHO                  655\n",
              "KANSAS                 652\n",
              "OREGON                 650\n",
              "ARKANSAS               649\n",
              "NEBRASKA               649\n",
              "MASSACHUSETTS          643\n",
              "IOWA                   635\n",
              "SOUTH CAROLINA         630\n",
              "RHODE ISLAND           626\n",
              "OHIO                   620\n",
              "CONNECTICUT            619\n",
              "VERMONT                618\n",
              "TENNESSEE              615\n",
              "OKLAHOMA               610\n",
              "MICHIGAN               607\n",
              "PENNSYLVANIA           603\n",
              "MISSOURI               594\n",
              "MINNESOTA              590\n",
              "WISCONSIN              589\n",
              "KENTUCKY               584\n",
              "HAWAII                 578\n",
              "MONTANA                573\n",
              "SOUTH DAKOTA           562\n",
              "MAINE                  561\n",
              "WEST VIRGINIA          561\n",
              "NORTH DAKOTA           541\n",
              "NEW HAMPSHIRE          526\n",
              "Name: state, dtype: int64"
            ]
          },
          "metadata": {},
          "execution_count": 146
        }
      ]
    },
    {
      "cell_type": "code",
      "source": [
        "train[train['vacc_h1n1_f']==1]['state'].value_counts()"
      ],
      "metadata": {
        "colab": {
          "base_uri": "https://localhost:8080/"
        },
        "id": "43fJt_Y1ipPK",
        "outputId": "d559b1b1-92b2-4a5a-8476-3ba5953045e0"
      },
      "execution_count": 145,
      "outputs": [
        {
          "output_type": "execute_result",
          "data": {
            "text/plain": [
              "RHODE ISLAND           229\n",
              "MASSACHUSETTS          219\n",
              "VIRGINIA               218\n",
              "CALIFORNIA             203\n",
              "NEW MEXICO             196\n",
              "MARYLAND               194\n",
              "UTAH                   186\n",
              "ARIZONA                184\n",
              "SOUTH DAKOTA           183\n",
              "IOWA                   182\n",
              "NEBRASKA               180\n",
              "MAINE                  174\n",
              "ALASKA                 173\n",
              "HAWAII                 172\n",
              "VERMONT                171\n",
              "ILLINOIS               171\n",
              "TEXAS                  170\n",
              "KANSAS                 169\n",
              "WASHINGTON             169\n",
              "DISTRICTOF COLUMBIA    169\n",
              "WYOMING                167\n",
              "MINNESOTA              167\n",
              "ARKANSAS               163\n",
              "COLORADO               162\n",
              "INDIANA                160\n",
              "NORTH CAROLINA         158\n",
              "NEVADA                 155\n",
              "OREGON                 151\n",
              "DELAWARE               150\n",
              "NEW YORK               149\n",
              "NEW HAMPSHIRE          149\n",
              "NEW JERSEY             149\n",
              "FLORIDA                148\n",
              "OHIO                   141\n",
              "CONNECTICUT            141\n",
              "ALABAMA                140\n",
              "TENNESSEE              140\n",
              "PENNSYLVANIA           139\n",
              "WISCONSIN              136\n",
              "LOUISIANA              135\n",
              "NORTH DAKOTA           135\n",
              "WEST VIRGINIA          134\n",
              "GEORGIA                134\n",
              "SOUTH CAROLINA         133\n",
              "IDAHO                  127\n",
              "OKLAHOMA               125\n",
              "MICHIGAN               121\n",
              "MONTANA                119\n",
              "KENTUCKY               115\n",
              "MISSOURI               106\n",
              "MISSISSIPPI            101\n",
              "Name: state, dtype: int64"
            ]
          },
          "metadata": {},
          "execution_count": 145
        }
      ]
    },
    {
      "cell_type": "code",
      "source": [
        "train[train['vacc_h1n1_f']==0]['opinion_h1n1_vacc_effective'].value_counts()"
      ],
      "metadata": {
        "id": "L2plPQFIn0sF"
      },
      "execution_count": null,
      "outputs": []
    },
    {
      "cell_type": "code",
      "source": [
        "def encyclopedia(x):\n",
        "  print(f\"결측치 중 1값:{train[train[x].isnull()]['vacc_h1n1_f'].sum()}\")\n",
        "  print(f\"결측치 중 평균값: {(train[train[x].isnull()]['vacc_h1n1_f'].sum())/len(train[train[x].isnull()])}\"\n",
        ")\n",
        "\n"
      ],
      "metadata": {
        "id": "VlGVCbxQl7tc"
      },
      "execution_count": 131,
      "outputs": []
    },
    {
      "cell_type": "code",
      "source": [
        "len(train[train['opinion_h1n1_vacc_effective'].isnull()])"
      ],
      "metadata": {
        "colab": {
          "base_uri": "https://localhost:8080/"
        },
        "id": "lgXviT7kqyQN",
        "outputId": "cbe93e82-8d55-45a3-b7a6-904a02162b3c"
      },
      "execution_count": 128,
      "outputs": [
        {
          "output_type": "execute_result",
          "data": {
            "text/plain": [
              "7086"
            ]
          },
          "metadata": {},
          "execution_count": 128
        }
      ]
    },
    {
      "cell_type": "code",
      "source": [
        "encyclopedia('opinion_h1n1_vacc_effective')"
      ],
      "metadata": {
        "colab": {
          "base_uri": "https://localhost:8080/"
        },
        "id": "0Irj0cSJizfB",
        "outputId": "a8302d96-dfb9-485f-bc17-f9811dc1ed45"
      },
      "execution_count": 132,
      "outputs": [
        {
          "output_type": "stream",
          "name": "stdout",
          "text": [
            "결측치 중 1값:2406\n",
            "결측치 중 평균값: 0.33954276037256564\n"
          ]
        }
      ]
    },
    {
      "cell_type": "code",
      "source": [
        "train.isnull().sum()"
      ],
      "metadata": {
        "colab": {
          "base_uri": "https://localhost:8080/"
        },
        "id": "7-39m4EJ-gBg",
        "outputId": "d8a0737b-99ca-4425-cd73-322a5d5fe9ff"
      },
      "execution_count": 28,
      "outputs": [
        {
          "output_type": "execute_result",
          "data": {
            "text/plain": [
              "h1n1_concern                    6790\n",
              "h1n1_knowledge                  6790\n",
              "behavioral_antiviral_meds       6870\n",
              "behavioral_avoidance            6992\n",
              "behavioral_face_mask            6810\n",
              "behavioral_wash_hands           6829\n",
              "behavioral_large_gatherings     6857\n",
              "behavioral_outside_home         6872\n",
              "behavioral_touch_face           6928\n",
              "doctor_recc_h1n1                1488\n",
              "doctor_recc_seasonal            1488\n",
              "chronic_med_condition           1075\n",
              "child_under_6_months            7617\n",
              "health_insurance               15505\n",
              "health_worker                   7603\n",
              "opinion_h1n1_vacc_effective     7086\n",
              "opinion_h1n1_risk               7121\n",
              "opinion_h1n1_sick_from_vacc     7155\n",
              "opinion_seas_vacc_effective     7204\n",
              "opinion_seas_risk               7257\n",
              "opinion_seas_sick_from_vacc     7310\n",
              "agegrp                             0\n",
              "education_comp                  8183\n",
              "raceeth4_i                         0\n",
              "sex_i                              0\n",
              "inc_pov                            0\n",
              "marital                         8199\n",
              "rent_own_r                      1764\n",
              "employment_status               8257\n",
              "census_region                      0\n",
              "census_msa                         0\n",
              "n_adult_r                        241\n",
              "household_children               241\n",
              "n_people_r                       105\n",
              "employment_industry            20009\n",
              "employment_occupation          20009\n",
              "hhs_region                         0\n",
              "state                              0\n",
              "vacc_h1n1_f                        0\n",
              "dtype: int64"
            ]
          },
          "metadata": {},
          "execution_count": 28
        }
      ]
    },
    {
      "cell_type": "code",
      "source": [
        "train[train['chronic_med_condition']==1]['chronic_med_condition'].mode()[0]"
      ],
      "metadata": {
        "colab": {
          "base_uri": "https://localhost:8080/"
        },
        "id": "_KZkOhZW-kLw",
        "outputId": "26453edb-5faa-4757-8a49-7f889bc2834f"
      },
      "execution_count": 77,
      "outputs": [
        {
          "output_type": "execute_result",
          "data": {
            "text/plain": [
              "1.0"
            ]
          },
          "metadata": {},
          "execution_count": 77
        }
      ]
    },
    {
      "cell_type": "code",
      "source": [
        "#프로파일을 통해서 하나씩 각자 비율을 찾아보고 nan값의 1은 몇개가 있는지 찾아보자 \n",
        "from pandas_profiling import ProfileReport\n",
        "\n",
        "profile = ProfileReport(train, minimal=False)\n",
        "profile"
      ],
      "metadata": {
        "colab": {
          "base_uri": "https://localhost:8080/"
        },
        "id": "uxuDF3el7e9Z",
        "outputId": "953ba6ad-8504-45a5-a683-6ce0447fe7d3"
      },
      "execution_count": 6,
      "outputs": [
        {
          "output_type": "execute_result",
          "data": {
            "text/plain": [
              "h1n1_concern                    4\n",
              "h1n1_knowledge                  3\n",
              "behavioral_antiviral_meds       2\n",
              "behavioral_avoidance            2\n",
              "behavioral_face_mask            2\n",
              "behavioral_wash_hands           2\n",
              "behavioral_large_gatherings     2\n",
              "behavioral_outside_home         2\n",
              "behavioral_touch_face           2\n",
              "doctor_recc_h1n1                2\n",
              "doctor_recc_seasonal            2\n",
              "chronic_med_condition           2\n",
              "child_under_6_months            2\n",
              "health_insurance                2\n",
              "health_worker                   2\n",
              "opinion_h1n1_vacc_effective     6\n",
              "opinion_h1n1_risk               6\n",
              "opinion_h1n1_sick_from_vacc     6\n",
              "opinion_seas_vacc_effective     6\n",
              "opinion_seas_risk               6\n",
              "opinion_seas_sick_from_vacc     6\n",
              "agegrp                          7\n",
              "education_comp                  4\n",
              "raceeth4_i                      4\n",
              "sex_i                           2\n",
              "inc_pov                         4\n",
              "marital                         2\n",
              "rent_own_r                      4\n",
              "employment_status               3\n",
              "census_region                   4\n",
              "census_msa                      3\n",
              "n_adult_r                       4\n",
              "household_children              4\n",
              "n_people_r                      7\n",
              "employment_industry            23\n",
              "employment_occupation          25\n",
              "hhs_region                     10\n",
              "state                          51\n",
              "vacc_h1n1_f                     2\n",
              "dtype: int64"
            ]
          },
          "metadata": {},
          "execution_count": 6
        }
      ]
    },
    {
      "cell_type": "code",
      "source": [
        "train[train['opinion_h1n1_vacc_effective']==1]['vacc_h1n1_f'].mean()"
      ],
      "metadata": {
        "colab": {
          "base_uri": "https://localhost:8080/"
        },
        "id": "M6CmGlqe77cw",
        "outputId": "cac0801f-954c-4757-845f-796a6f7628ff"
      },
      "execution_count": 104,
      "outputs": [
        {
          "output_type": "execute_result",
          "data": {
            "text/plain": [
              "nan"
            ]
          },
          "metadata": {},
          "execution_count": 104
        }
      ]
    },
    {
      "cell_type": "code",
      "source": [
        "train.describe(exclude=\"number\").T.sort_values(by=\"unique\", ascending= False)"
      ],
      "metadata": {
        "colab": {
          "base_uri": "https://localhost:8080/",
          "height": 425
        },
        "id": "KHHTCC9uhnjs",
        "outputId": "afcaaf0e-4ad6-4fed-c509-196d1dfb5b96"
      },
      "execution_count": 4,
      "outputs": [
        {
          "output_type": "execute_result",
          "data": {
            "text/plain": [
              "                             count unique  \\\n",
              "state                        33723     51   \n",
              "employment_occupation        13714     25   \n",
              "employment_industry          13714     23   \n",
              "agegrp                       33723      7   \n",
              "opinion_h1n1_vacc_effective  26637      6   \n",
              "opinion_h1n1_risk            26602      6   \n",
              "opinion_h1n1_sick_from_vacc  26568      6   \n",
              "opinion_seas_vacc_effective  26519      6   \n",
              "opinion_seas_risk            26466      6   \n",
              "opinion_seas_sick_from_vacc  26413      6   \n",
              "employment_status            25466      3   \n",
              "census_msa                   33723      3   \n",
              "\n",
              "                                                                      top  \\\n",
              "state                                                          CALIFORNIA   \n",
              "employment_occupation                              Management Occupations   \n",
              "employment_industry          Health Care and Social Assistance Industries   \n",
              "agegrp                                                          65+ Years   \n",
              "opinion_h1n1_vacc_effective                            Somewhat Effective   \n",
              "opinion_h1n1_risk                                            Somewhat Low   \n",
              "opinion_h1n1_sick_from_vacc                              Not Very Worried   \n",
              "opinion_seas_vacc_effective                            Somewhat Effective   \n",
              "opinion_seas_risk                                            Somewhat Low   \n",
              "opinion_seas_sick_from_vacc                            Not At All Worried   \n",
              "employment_status                                                Employed   \n",
              "census_msa                                        MSA, Not Principle City   \n",
              "\n",
              "                              freq  \n",
              "state                          829  \n",
              "employment_occupation         1769  \n",
              "employment_industry           2451  \n",
              "agegrp                        6821  \n",
              "opinion_h1n1_vacc_effective  11710  \n",
              "opinion_h1n1_risk             9980  \n",
              "opinion_h1n1_sick_from_vacc   9229  \n",
              "opinion_seas_vacc_effective  11571  \n",
              "opinion_seas_risk             9057  \n",
              "opinion_seas_sick_from_vacc  11813  \n",
              "employment_status            13722  \n",
              "census_msa                   15202  "
            ],
            "text/html": [
              "\n",
              "  <div id=\"df-32f2e573-eddf-40fd-9f34-acf09bd6cc40\">\n",
              "    <div class=\"colab-df-container\">\n",
              "      <div>\n",
              "<style scoped>\n",
              "    .dataframe tbody tr th:only-of-type {\n",
              "        vertical-align: middle;\n",
              "    }\n",
              "\n",
              "    .dataframe tbody tr th {\n",
              "        vertical-align: top;\n",
              "    }\n",
              "\n",
              "    .dataframe thead th {\n",
              "        text-align: right;\n",
              "    }\n",
              "</style>\n",
              "<table border=\"1\" class=\"dataframe\">\n",
              "  <thead>\n",
              "    <tr style=\"text-align: right;\">\n",
              "      <th></th>\n",
              "      <th>count</th>\n",
              "      <th>unique</th>\n",
              "      <th>top</th>\n",
              "      <th>freq</th>\n",
              "    </tr>\n",
              "  </thead>\n",
              "  <tbody>\n",
              "    <tr>\n",
              "      <th>state</th>\n",
              "      <td>33723</td>\n",
              "      <td>51</td>\n",
              "      <td>CALIFORNIA</td>\n",
              "      <td>829</td>\n",
              "    </tr>\n",
              "    <tr>\n",
              "      <th>employment_occupation</th>\n",
              "      <td>13714</td>\n",
              "      <td>25</td>\n",
              "      <td>Management Occupations</td>\n",
              "      <td>1769</td>\n",
              "    </tr>\n",
              "    <tr>\n",
              "      <th>employment_industry</th>\n",
              "      <td>13714</td>\n",
              "      <td>23</td>\n",
              "      <td>Health Care and Social Assistance Industries</td>\n",
              "      <td>2451</td>\n",
              "    </tr>\n",
              "    <tr>\n",
              "      <th>agegrp</th>\n",
              "      <td>33723</td>\n",
              "      <td>7</td>\n",
              "      <td>65+ Years</td>\n",
              "      <td>6821</td>\n",
              "    </tr>\n",
              "    <tr>\n",
              "      <th>opinion_h1n1_vacc_effective</th>\n",
              "      <td>26637</td>\n",
              "      <td>6</td>\n",
              "      <td>Somewhat Effective</td>\n",
              "      <td>11710</td>\n",
              "    </tr>\n",
              "    <tr>\n",
              "      <th>opinion_h1n1_risk</th>\n",
              "      <td>26602</td>\n",
              "      <td>6</td>\n",
              "      <td>Somewhat Low</td>\n",
              "      <td>9980</td>\n",
              "    </tr>\n",
              "    <tr>\n",
              "      <th>opinion_h1n1_sick_from_vacc</th>\n",
              "      <td>26568</td>\n",
              "      <td>6</td>\n",
              "      <td>Not Very Worried</td>\n",
              "      <td>9229</td>\n",
              "    </tr>\n",
              "    <tr>\n",
              "      <th>opinion_seas_vacc_effective</th>\n",
              "      <td>26519</td>\n",
              "      <td>6</td>\n",
              "      <td>Somewhat Effective</td>\n",
              "      <td>11571</td>\n",
              "    </tr>\n",
              "    <tr>\n",
              "      <th>opinion_seas_risk</th>\n",
              "      <td>26466</td>\n",
              "      <td>6</td>\n",
              "      <td>Somewhat Low</td>\n",
              "      <td>9057</td>\n",
              "    </tr>\n",
              "    <tr>\n",
              "      <th>opinion_seas_sick_from_vacc</th>\n",
              "      <td>26413</td>\n",
              "      <td>6</td>\n",
              "      <td>Not At All Worried</td>\n",
              "      <td>11813</td>\n",
              "    </tr>\n",
              "    <tr>\n",
              "      <th>employment_status</th>\n",
              "      <td>25466</td>\n",
              "      <td>3</td>\n",
              "      <td>Employed</td>\n",
              "      <td>13722</td>\n",
              "    </tr>\n",
              "    <tr>\n",
              "      <th>census_msa</th>\n",
              "      <td>33723</td>\n",
              "      <td>3</td>\n",
              "      <td>MSA, Not Principle City</td>\n",
              "      <td>15202</td>\n",
              "    </tr>\n",
              "  </tbody>\n",
              "</table>\n",
              "</div>\n",
              "      <button class=\"colab-df-convert\" onclick=\"convertToInteractive('df-32f2e573-eddf-40fd-9f34-acf09bd6cc40')\"\n",
              "              title=\"Convert this dataframe to an interactive table.\"\n",
              "              style=\"display:none;\">\n",
              "        \n",
              "  <svg xmlns=\"http://www.w3.org/2000/svg\" height=\"24px\"viewBox=\"0 0 24 24\"\n",
              "       width=\"24px\">\n",
              "    <path d=\"M0 0h24v24H0V0z\" fill=\"none\"/>\n",
              "    <path d=\"M18.56 5.44l.94 2.06.94-2.06 2.06-.94-2.06-.94-.94-2.06-.94 2.06-2.06.94zm-11 1L8.5 8.5l.94-2.06 2.06-.94-2.06-.94L8.5 2.5l-.94 2.06-2.06.94zm10 10l.94 2.06.94-2.06 2.06-.94-2.06-.94-.94-2.06-.94 2.06-2.06.94z\"/><path d=\"M17.41 7.96l-1.37-1.37c-.4-.4-.92-.59-1.43-.59-.52 0-1.04.2-1.43.59L10.3 9.45l-7.72 7.72c-.78.78-.78 2.05 0 2.83L4 21.41c.39.39.9.59 1.41.59.51 0 1.02-.2 1.41-.59l7.78-7.78 2.81-2.81c.8-.78.8-2.07 0-2.86zM5.41 20L4 18.59l7.72-7.72 1.47 1.35L5.41 20z\"/>\n",
              "  </svg>\n",
              "      </button>\n",
              "      \n",
              "  <style>\n",
              "    .colab-df-container {\n",
              "      display:flex;\n",
              "      flex-wrap:wrap;\n",
              "      gap: 12px;\n",
              "    }\n",
              "\n",
              "    .colab-df-convert {\n",
              "      background-color: #E8F0FE;\n",
              "      border: none;\n",
              "      border-radius: 50%;\n",
              "      cursor: pointer;\n",
              "      display: none;\n",
              "      fill: #1967D2;\n",
              "      height: 32px;\n",
              "      padding: 0 0 0 0;\n",
              "      width: 32px;\n",
              "    }\n",
              "\n",
              "    .colab-df-convert:hover {\n",
              "      background-color: #E2EBFA;\n",
              "      box-shadow: 0px 1px 2px rgba(60, 64, 67, 0.3), 0px 1px 3px 1px rgba(60, 64, 67, 0.15);\n",
              "      fill: #174EA6;\n",
              "    }\n",
              "\n",
              "    [theme=dark] .colab-df-convert {\n",
              "      background-color: #3B4455;\n",
              "      fill: #D2E3FC;\n",
              "    }\n",
              "\n",
              "    [theme=dark] .colab-df-convert:hover {\n",
              "      background-color: #434B5C;\n",
              "      box-shadow: 0px 1px 3px 1px rgba(0, 0, 0, 0.15);\n",
              "      filter: drop-shadow(0px 1px 2px rgba(0, 0, 0, 0.3));\n",
              "      fill: #FFFFFF;\n",
              "    }\n",
              "  </style>\n",
              "\n",
              "      <script>\n",
              "        const buttonEl =\n",
              "          document.querySelector('#df-32f2e573-eddf-40fd-9f34-acf09bd6cc40 button.colab-df-convert');\n",
              "        buttonEl.style.display =\n",
              "          google.colab.kernel.accessAllowed ? 'block' : 'none';\n",
              "\n",
              "        async function convertToInteractive(key) {\n",
              "          const element = document.querySelector('#df-32f2e573-eddf-40fd-9f34-acf09bd6cc40');\n",
              "          const dataTable =\n",
              "            await google.colab.kernel.invokeFunction('convertToInteractive',\n",
              "                                                     [key], {});\n",
              "          if (!dataTable) return;\n",
              "\n",
              "          const docLinkHtml = 'Like what you see? Visit the ' +\n",
              "            '<a target=\"_blank\" href=https://colab.research.google.com/notebooks/data_table.ipynb>data table notebook</a>'\n",
              "            + ' to learn more about interactive tables.';\n",
              "          element.innerHTML = '';\n",
              "          dataTable['output_type'] = 'display_data';\n",
              "          await google.colab.output.renderOutput(dataTable, element);\n",
              "          const docLink = document.createElement('div');\n",
              "          docLink.innerHTML = docLinkHtml;\n",
              "          element.appendChild(docLink);\n",
              "        }\n",
              "      </script>\n",
              "    </div>\n",
              "  </div>\n",
              "  "
            ]
          },
          "metadata": {},
          "execution_count": 4
        }
      ]
    },
    {
      "cell_type": "code",
      "source": [
        "train.dtypes"
      ],
      "metadata": {
        "id": "Ai75ROuOhzHF"
      },
      "execution_count": null,
      "outputs": []
    },
    {
      "cell_type": "code",
      "source": [
        "train.isnull().sum()"
      ],
      "metadata": {
        "colab": {
          "base_uri": "https://localhost:8080/"
        },
        "id": "xMcnxnYEh5le",
        "outputId": "e9c01584-9497-4b92-fe3f-fe3d738a935a"
      },
      "execution_count": 5,
      "outputs": [
        {
          "output_type": "execute_result",
          "data": {
            "text/plain": [
              "h1n1_concern                    6790\n",
              "h1n1_knowledge                  6790\n",
              "behavioral_antiviral_meds       6870\n",
              "behavioral_avoidance            6992\n",
              "behavioral_face_mask            6810\n",
              "behavioral_wash_hands           6829\n",
              "behavioral_large_gatherings     6857\n",
              "behavioral_outside_home         6872\n",
              "behavioral_touch_face           6928\n",
              "doctor_recc_h1n1                1488\n",
              "doctor_recc_seasonal            1488\n",
              "chronic_med_condition           1075\n",
              "child_under_6_months            7617\n",
              "health_insurance               15505\n",
              "health_worker                   7603\n",
              "opinion_h1n1_vacc_effective     7086\n",
              "opinion_h1n1_risk               7121\n",
              "opinion_h1n1_sick_from_vacc     7155\n",
              "opinion_seas_vacc_effective     7204\n",
              "opinion_seas_risk               7257\n",
              "opinion_seas_sick_from_vacc     7310\n",
              "agegrp                             0\n",
              "education_comp                  8183\n",
              "raceeth4_i                         0\n",
              "sex_i                              0\n",
              "inc_pov                            0\n",
              "marital                         8199\n",
              "rent_own_r                      1764\n",
              "employment_status               8257\n",
              "census_region                      0\n",
              "census_msa                         0\n",
              "n_adult_r                        241\n",
              "household_children               241\n",
              "n_people_r                       105\n",
              "employment_industry            20009\n",
              "employment_occupation          20009\n",
              "hhs_region                         0\n",
              "state                              0\n",
              "vacc_h1n1_f                        0\n",
              "dtype: int64"
            ]
          },
          "metadata": {},
          "execution_count": 5
        }
      ]
    },
    {
      "cell_type": "code",
      "source": [
        "import pandas as pd\n",
        "pd.set_option('display.max_columns', None)\n",
        "train[train['doctor_recc_h1n1'].isnull()]\n"
      ],
      "metadata": {
        "id": "_mRRJI1uoy3F"
      },
      "execution_count": null,
      "outputs": []
    },
    {
      "cell_type": "code",
      "source": [
        "def nan(a):\n",
        "  result= train[train[a]==1][a].mode()[0]\n",
        "  return result\n",
        "def nani(a):\n",
        "  result= train[train[a]==0][a].mode()[0]\n",
        "  return result"
      ],
      "metadata": {
        "id": "IDwpjb9AHmFj"
      },
      "execution_count": 62,
      "outputs": []
    },
    {
      "cell_type": "code",
      "source": [
        "def engineer_fillna(df):\n",
        "\n",
        "  # 결측치 처리.\n",
        "  dels = [col for col in df.columns if (\"employment\" in col or \"health_insurance\" in col\n",
        "                                        or \"household_children\" in col or \"n_adult_r\" in col\n",
        "                                        '')]\n",
        "\n",
        "  df.fillna({\n",
        "            'h1n1_concern':nan('h1n1_concern'),\n",
        "            'h1n1_knowledge': nan('h1n1_knowledge'),\n",
        "            'behavioral_antiviral_meds': nan('behavioral_antiviral_meds'),\n",
        "            'behavioral_avoidance': nan('behavioral_avoidance'),\n",
        "            'behavioral_face_mask': nan('behavioral_face_mask'),\n",
        "            'behavioral_wash_hands': nan('behavioral_wash_hands'),\n",
        "            'behavioral_large_gatherings': nan('behavioral_large_gatherings'),\n",
        "            'behavioral_outside_home': nan('behavioral_outside_home'),\n",
        "            'behavioral_touch_face': nan('behavioral_touch_face'),\n",
        "            'behavioral_avoidance': nan('behavioral_avoidance'),\n",
        "            'doctor_recc_h1n1':nani('doctor_recc_h1n1'),\n",
        "            'doctor_recc_seasonal':nani('doctor_recc_seasonal'),\n",
        "            'child_under_6_months':nan('child_under_6_months'),\n",
        "            'health_insurance':nani('health_insurance'),\n",
        "            'health_worker':nani('health_worker'),\n",
        "             ''\n",
        "\n",
        "\n",
        "\n",
        "             }\n",
        "              inplace=True)\n",
        "  df.drop(columns=dels, inplace=True)"
      ],
      "metadata": {
        "id": "qlTR-LuTqu1c"
      },
      "execution_count": null,
      "outputs": []
    },
    {
      "cell_type": "code",
      "source": [
        "import numpy as np\n",
        "\n",
        "\n",
        "def engineer_1(df):\n",
        "    \"\"\"특성을 엔지니어링 하는 함수입니다.\"\"\"\n",
        "\n",
        "    # 높은 카디널리티를 가지는 특성을 제거합니다(state feature제거).\n",
        "    selected_cols = df.select_dtypes(include=[\"number\", \"object\"])\n",
        "    labels = selected_cols.nunique()  # 특성별 카디널리티 리스트\n",
        "    selected_features = labels[labels <= 30].index.tolist()  # 카디널리티가 30보다 작은 특성만 선택합니다.\n",
        "    df = df[selected_features]\n",
        "\n",
        "    # 새로운 특성을 생성합니다.\n",
        "    behaviorals_0 = ['behavioral_antiviral_meds', 'behavioral_face_mask', 'behavioral_large_gatherings',\n",
        "                    'behavioral_outside_home' ]\n",
        "    behaciorals_1 = ['behavioral_avoidance', 'behavioral_wash_hands', 'behavioral_touch_face']\n",
        "    df[\"behaviorals_0\"] = df[behaviorals_0].sum(axis=1)\n",
        "    df[\"behaciorals_1\"] = df[behaciorals_1].sum(axis=1)\n",
        "\n",
        "\n",
        "\n",
        "    return df\n",
        "\n",
        "\n",
        "train = engineer_1(train)\n",
        "val = engineer_1(val)\n",
        "test = engineer_1(test)"
      ],
      "metadata": {
        "id": "apfRUK87hdFh"
      },
      "execution_count": 5,
      "outputs": []
    },
    {
      "cell_type": "markdown",
      "source": [],
      "metadata": {
        "id": "yVshFwwIsLlE"
      }
    },
    {
      "cell_type": "code",
      "source": [
        "#상식과 걱정의 상관관계\n",
        "data1 = train[['h1n1_concern', 'h1n1_knowledge']].dropna()"
      ],
      "metadata": {
        "id": "Tk-UN-lyrFRf"
      },
      "execution_count": 14,
      "outputs": []
    },
    {
      "cell_type": "code",
      "source": [
        "data1"
      ],
      "metadata": {
        "colab": {
          "base_uri": "https://localhost:8080/",
          "height": 423
        },
        "id": "X417smfHsLFr",
        "outputId": "1f8a3b2c-ed8c-4673-8b3e-c436e3b55e39"
      },
      "execution_count": 15,
      "outputs": [
        {
          "output_type": "execute_result",
          "data": {
            "text/plain": [
              "       h1n1_concern  h1n1_knowledge\n",
              "20365           1.0             1.0\n",
              "29138           1.0             1.0\n",
              "36128           2.0             2.0\n",
              "39793           2.0             1.0\n",
              "32973           0.0             1.0\n",
              "...             ...             ...\n",
              "14173           2.0             1.0\n",
              "9193            3.0             1.0\n",
              "34753           0.0             2.0\n",
              "4412            3.0             2.0\n",
              "30904           2.0             1.0\n",
              "\n",
              "[26933 rows x 2 columns]"
            ],
            "text/html": [
              "\n",
              "  <div id=\"df-17458f2e-4589-4b77-bc85-e8561cfe96b0\">\n",
              "    <div class=\"colab-df-container\">\n",
              "      <div>\n",
              "<style scoped>\n",
              "    .dataframe tbody tr th:only-of-type {\n",
              "        vertical-align: middle;\n",
              "    }\n",
              "\n",
              "    .dataframe tbody tr th {\n",
              "        vertical-align: top;\n",
              "    }\n",
              "\n",
              "    .dataframe thead th {\n",
              "        text-align: right;\n",
              "    }\n",
              "</style>\n",
              "<table border=\"1\" class=\"dataframe\">\n",
              "  <thead>\n",
              "    <tr style=\"text-align: right;\">\n",
              "      <th></th>\n",
              "      <th>h1n1_concern</th>\n",
              "      <th>h1n1_knowledge</th>\n",
              "    </tr>\n",
              "  </thead>\n",
              "  <tbody>\n",
              "    <tr>\n",
              "      <th>20365</th>\n",
              "      <td>1.0</td>\n",
              "      <td>1.0</td>\n",
              "    </tr>\n",
              "    <tr>\n",
              "      <th>29138</th>\n",
              "      <td>1.0</td>\n",
              "      <td>1.0</td>\n",
              "    </tr>\n",
              "    <tr>\n",
              "      <th>36128</th>\n",
              "      <td>2.0</td>\n",
              "      <td>2.0</td>\n",
              "    </tr>\n",
              "    <tr>\n",
              "      <th>39793</th>\n",
              "      <td>2.0</td>\n",
              "      <td>1.0</td>\n",
              "    </tr>\n",
              "    <tr>\n",
              "      <th>32973</th>\n",
              "      <td>0.0</td>\n",
              "      <td>1.0</td>\n",
              "    </tr>\n",
              "    <tr>\n",
              "      <th>...</th>\n",
              "      <td>...</td>\n",
              "      <td>...</td>\n",
              "    </tr>\n",
              "    <tr>\n",
              "      <th>14173</th>\n",
              "      <td>2.0</td>\n",
              "      <td>1.0</td>\n",
              "    </tr>\n",
              "    <tr>\n",
              "      <th>9193</th>\n",
              "      <td>3.0</td>\n",
              "      <td>1.0</td>\n",
              "    </tr>\n",
              "    <tr>\n",
              "      <th>34753</th>\n",
              "      <td>0.0</td>\n",
              "      <td>2.0</td>\n",
              "    </tr>\n",
              "    <tr>\n",
              "      <th>4412</th>\n",
              "      <td>3.0</td>\n",
              "      <td>2.0</td>\n",
              "    </tr>\n",
              "    <tr>\n",
              "      <th>30904</th>\n",
              "      <td>2.0</td>\n",
              "      <td>1.0</td>\n",
              "    </tr>\n",
              "  </tbody>\n",
              "</table>\n",
              "<p>26933 rows × 2 columns</p>\n",
              "</div>\n",
              "      <button class=\"colab-df-convert\" onclick=\"convertToInteractive('df-17458f2e-4589-4b77-bc85-e8561cfe96b0')\"\n",
              "              title=\"Convert this dataframe to an interactive table.\"\n",
              "              style=\"display:none;\">\n",
              "        \n",
              "  <svg xmlns=\"http://www.w3.org/2000/svg\" height=\"24px\"viewBox=\"0 0 24 24\"\n",
              "       width=\"24px\">\n",
              "    <path d=\"M0 0h24v24H0V0z\" fill=\"none\"/>\n",
              "    <path d=\"M18.56 5.44l.94 2.06.94-2.06 2.06-.94-2.06-.94-.94-2.06-.94 2.06-2.06.94zm-11 1L8.5 8.5l.94-2.06 2.06-.94-2.06-.94L8.5 2.5l-.94 2.06-2.06.94zm10 10l.94 2.06.94-2.06 2.06-.94-2.06-.94-.94-2.06-.94 2.06-2.06.94z\"/><path d=\"M17.41 7.96l-1.37-1.37c-.4-.4-.92-.59-1.43-.59-.52 0-1.04.2-1.43.59L10.3 9.45l-7.72 7.72c-.78.78-.78 2.05 0 2.83L4 21.41c.39.39.9.59 1.41.59.51 0 1.02-.2 1.41-.59l7.78-7.78 2.81-2.81c.8-.78.8-2.07 0-2.86zM5.41 20L4 18.59l7.72-7.72 1.47 1.35L5.41 20z\"/>\n",
              "  </svg>\n",
              "      </button>\n",
              "      \n",
              "  <style>\n",
              "    .colab-df-container {\n",
              "      display:flex;\n",
              "      flex-wrap:wrap;\n",
              "      gap: 12px;\n",
              "    }\n",
              "\n",
              "    .colab-df-convert {\n",
              "      background-color: #E8F0FE;\n",
              "      border: none;\n",
              "      border-radius: 50%;\n",
              "      cursor: pointer;\n",
              "      display: none;\n",
              "      fill: #1967D2;\n",
              "      height: 32px;\n",
              "      padding: 0 0 0 0;\n",
              "      width: 32px;\n",
              "    }\n",
              "\n",
              "    .colab-df-convert:hover {\n",
              "      background-color: #E2EBFA;\n",
              "      box-shadow: 0px 1px 2px rgba(60, 64, 67, 0.3), 0px 1px 3px 1px rgba(60, 64, 67, 0.15);\n",
              "      fill: #174EA6;\n",
              "    }\n",
              "\n",
              "    [theme=dark] .colab-df-convert {\n",
              "      background-color: #3B4455;\n",
              "      fill: #D2E3FC;\n",
              "    }\n",
              "\n",
              "    [theme=dark] .colab-df-convert:hover {\n",
              "      background-color: #434B5C;\n",
              "      box-shadow: 0px 1px 3px 1px rgba(0, 0, 0, 0.15);\n",
              "      filter: drop-shadow(0px 1px 2px rgba(0, 0, 0, 0.3));\n",
              "      fill: #FFFFFF;\n",
              "    }\n",
              "  </style>\n",
              "\n",
              "      <script>\n",
              "        const buttonEl =\n",
              "          document.querySelector('#df-17458f2e-4589-4b77-bc85-e8561cfe96b0 button.colab-df-convert');\n",
              "        buttonEl.style.display =\n",
              "          google.colab.kernel.accessAllowed ? 'block' : 'none';\n",
              "\n",
              "        async function convertToInteractive(key) {\n",
              "          const element = document.querySelector('#df-17458f2e-4589-4b77-bc85-e8561cfe96b0');\n",
              "          const dataTable =\n",
              "            await google.colab.kernel.invokeFunction('convertToInteractive',\n",
              "                                                     [key], {});\n",
              "          if (!dataTable) return;\n",
              "\n",
              "          const docLinkHtml = 'Like what you see? Visit the ' +\n",
              "            '<a target=\"_blank\" href=https://colab.research.google.com/notebooks/data_table.ipynb>data table notebook</a>'\n",
              "            + ' to learn more about interactive tables.';\n",
              "          element.innerHTML = '';\n",
              "          dataTable['output_type'] = 'display_data';\n",
              "          await google.colab.output.renderOutput(dataTable, element);\n",
              "          const docLink = document.createElement('div');\n",
              "          docLink.innerHTML = docLinkHtml;\n",
              "          element.appendChild(docLink);\n",
              "        }\n",
              "      </script>\n",
              "    </div>\n",
              "  </div>\n",
              "  "
            ]
          },
          "metadata": {},
          "execution_count": 15
        }
      ]
    },
    {
      "cell_type": "code",
      "source": [
        "import pandas as pd\n",
        "import matplotlib.pyplot as plt\n",
        "import matplotlib\n",
        "matplotlib.rcParams['axes.unicode_minus'] = False ## 마이나스 '-' 표시 제대로 출력\n",
        "\n",
        "from statsmodels.formula.api import ols\n",
        "from sklearn.linear_model import LinearRegression"
      ],
      "metadata": {
        "id": "R7T39uXVs3qQ"
      },
      "execution_count": 20,
      "outputs": []
    },
    {
      "cell_type": "code",
      "source": [
        "## 시각화\n",
        "fig = plt.figure(figsize=(8,8))\n",
        "fig.set_facecolor('white')\n",
        "\n",
        "font_size = 15\n",
        "plt.scatter(data1['h1n1_concern'],data1['h1n1_knowledge']) ## 원 데이터 산포도\n",
        " \n",
        "plt.xlabel('h1n1_concern', fontsize=font_size)\n",
        "plt.ylabel('h1n1_knowledge',fontsize=font_size)\n",
        "plt.show()"
      ],
      "metadata": {
        "colab": {
          "base_uri": "https://localhost:8080/",
          "height": 503
        },
        "id": "p80xJb5btEwj",
        "outputId": "ff5fd7fc-cf5d-4b52-b0de-42b6ad6fb936"
      },
      "execution_count": 22,
      "outputs": [
        {
          "output_type": "display_data",
          "data": {
            "text/plain": [
              "<Figure size 576x576 with 1 Axes>"
            ],
            "image/png": "[encoded data removed]"
          },
          "metadata": {}
        }
      ]
    },
    {
      "cell_type": "code",
      "source": [
        "x_h1n1= train['doctor_recc_h1n1'].dropna()\n",
        "x_sea= train['doctor_recc_seasonal'].dropna()"
      ],
      "metadata": {
        "id": "eXuwp8PG4HV_"
      },
      "execution_count": 23,
      "outputs": []
    },
    {
      "cell_type": "code",
      "source": [
        "from sklearn.metrics import confusion_matrix\n",
        "cm = confusion_matrix(x_h1n1, x_sea)"
      ],
      "metadata": {
        "id": "xNiR-P1M1WUd"
      },
      "execution_count": 30,
      "outputs": []
    },
    {
      "cell_type": "code",
      "source": [
        "train['agegrp'].value_counts()"
      ],
      "metadata": {
        "colab": {
          "base_uri": "https://localhost:8080/"
        },
        "id": "hHohk9qeI5Tm",
        "outputId": "623e166b-024f-4987-806b-c71d31da1ac2"
      },
      "execution_count": 12,
      "outputs": [
        {
          "output_type": "execute_result",
          "data": {
            "text/plain": [
              "65+ Years             6821\n",
              "55 - 64 Years         5564\n",
              "45 - 54 Years         5332\n",
              "18 - 34 Years         5224\n",
              "35 - 44 Years         3992\n",
              "6 Months - 9 Years    3480\n",
              "10 - 17 Years         3310\n",
              "Name: agegrp, dtype: int64"
            ]
          },
          "metadata": {},
          "execution_count": 12
        }
      ]
    },
    {
      "cell_type": "code",
      "source": [
        "train.groupby('agegrp')['vacc_h1n1_f'].sum()\n",
        "\n"
      ],
      "metadata": {
        "colab": {
          "base_uri": "https://localhost:8080/"
        },
        "id": "oCq2ecjXFMcE",
        "outputId": "21cc7e32-3bf7-4d6f-9cb8-3ef3f3a126d6"
      },
      "execution_count": 11,
      "outputs": [
        {
          "output_type": "execute_result",
          "data": {
            "text/plain": [
              "agegrp\n",
              "10 - 17 Years         1006\n",
              "18 - 34 Years         1004\n",
              "35 - 44 Years          827\n",
              "45 - 54 Years         1019\n",
              "55 - 64 Years         1325\n",
              "6 Months - 9 Years    1343\n",
              "65+ Years             1538\n",
              "Name: vacc_h1n1_f, dtype: int64"
            ]
          },
          "metadata": {},
          "execution_count": 11
        }
      ]
    },
    {
      "cell_type": "code",
      "source": [],
      "metadata": {
        "id": "rX3sQt9Eenk3"
      },
      "execution_count": 73,
      "outputs": []
    },
    {
      "cell_type": "code",
      "source": [
        "nani('doctor_recc_h1n1')"
      ],
      "metadata": {
        "colab": {
          "base_uri": "https://localhost:8080/"
        },
        "id": "APWrQFxiH-dW",
        "outputId": "744a8fc3-fa44-426f-c213-9df3811a6f97"
      },
      "execution_count": 75,
      "outputs": [
        {
          "output_type": "execute_result",
          "data": {
            "text/plain": [
              "0.0"
            ]
          },
          "metadata": {},
          "execution_count": 75
        }
      ]
    }
  ]
}